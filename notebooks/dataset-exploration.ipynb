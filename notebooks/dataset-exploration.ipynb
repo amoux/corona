{
 "cells": [
  {
   "cell_type": "code",
   "execution_count": 3,
   "metadata": {},
   "outputs": [],
   "source": [
    "import sys\n",
    "sys.path.append('../')\n",
    "\n",
    "import random\n",
    "import numpy as np\n",
    "from corona_nlp.indexing import PaperIndexing, biorxiv_medrxiv\n",
    "from corona_nlp.preprocessing import load_papers_with_text"
   ]
  },
  {
   "cell_type": "code",
   "execution_count": 4,
   "metadata": {},
   "outputs": [
    {
     "name": "stdout",
     "output_type": "stream",
     "text": [
      "<COVID-19(biorxiv_medrxiv, papers=803)>\n"
     ]
    }
   ],
   "source": [
    "biomed = PaperIndexing(biorxiv_medrxiv)\n",
    "print(biomed)"
   ]
  },
  {
   "cell_type": "code",
   "execution_count": 5,
   "metadata": {},
   "outputs": [
    {
     "name": "stdout",
     "output_type": "stream",
     "text": [
      "number of papers: 5\n",
      "keys: dict_keys(['id', 'title', 'texts'])\n"
     ]
    }
   ],
   "source": [
    "# obtain five randomly chosen papers from the biomed directory\n",
    "samples = list(range(1, biomed.num_papers))\n",
    "indices = random.sample(samples, k=5)\n",
    "\n",
    "# load each paper and its content from abstract and body_text keys\n",
    "batch = load_papers_with_text(covid=biomed,\n",
    "                              indices=indices,\n",
    "                              keys=('abstract', 'body_text'))\n",
    "\n",
    "print(f'number of papers: {len(batch)}')\n",
    "print(f'keys: {batch[0].keys()}')"
   ]
  },
  {
   "cell_type": "code",
   "execution_count": 6,
   "metadata": {},
   "outputs": [
    {
     "data": {
      "text/plain": [
       "[(557, 61), (342, 62), (705, 29), (49, 35), (369, 42)]"
      ]
     },
     "execution_count": 6,
     "metadata": {},
     "output_type": "execute_result"
    }
   ],
   "source": [
    "# text size for all papers (paper-id, text-length)\n",
    "[(p, len(batch[i]['texts'])) for i, p in enumerate(indices)]"
   ]
  },
  {
   "cell_type": "markdown",
   "metadata": {},
   "source": [
    "### Document Similarity\n",
    "\n",
    "> Find the most similar titles given a query (e.g., title, keywords)"
   ]
  },
  {
   "cell_type": "code",
   "execution_count": 10,
   "metadata": {},
   "outputs": [
    {
     "name": "stdout",
     "output_type": "stream",
     "text": [
      "title: CORRELATION OF MRNA DELIVERY TIMING AND PROTEIN EXPRESSION IN LIPID-BASED TRANSFECTION\n"
     ]
    }
   ],
   "source": [
    "from david.cosine import SimilarDocuments\n",
    "\n",
    "k = 802\n",
    "samples = list(range(1, biomed.num_papers))\n",
    "clusters = random.sample(samples, k)\n",
    "papers = biomed.load_papers(clusters)\n",
    "\n",
    "titles_cluster = []\n",
    "for paper in papers:\n",
    "    title = paper['metadata']['title']\n",
    "    titles_cluster.append(title)\n",
    "\n",
    "sd = SimilarDocuments(titles_cluster, ngram=(1, 3))\n",
    "sd.learn_vocab()\n",
    "title_query = titles_cluster[5]\n",
    "print('title:', title_query)"
   ]
  },
  {
   "cell_type": "code",
   "execution_count": 23,
   "metadata": {
    "scrolled": false
   },
   "outputs": [
    {
     "name": "stdout",
     "output_type": "stream",
     "text": [
      "paper_id=572, score=0.1286\n",
      " * title: Transmission interval estimates suggest pre-symptomatic spread of COVID-19\n",
      "\n",
      "paper_id=555, score=0.1207\n",
      " * title: Existing host range mutations constrain further emergence of RNA viruses\n",
      "\n",
      "paper_id=95, score=0.149\n",
      " * title: Attenuation of influenza A virus disease severity by viral co-infection in a mouse model 2 3 Short Title: Pathogenesis of influenza viral co-infection 4 5\n",
      "\n",
      "paper_id=96, score=0.1239\n",
      " * title: Chronic infections can shape epidemic exposure: Pathogen co-occurrence networks in the Serengeti lions\n",
      "\n",
      "paper_id=150, score=0.16\n",
      " * title: SARS-CoV-2 and SARS-CoV Spike-RBD Structure and Receptor Binding Comparison and Potential Implications on Neutralizing Antibody and Vaccine Development\n",
      "\n",
      "paper_id=51, score=0.1172\n",
      " * title: CORONAVIRUS IN PREGNANCY AND DELIVERY: RAPID REVIEW AND EXPERT CONSENSUS\n",
      "\n",
      "paper_id=564, score=0.126\n",
      " * title: Decoupling the effects of nutrition, age and behavioral caste 2 on honey bee physiology and immunity\n",
      "\n",
      "paper_id=221, score=0.1183\n",
      " * title: The Impact of the COVID-19 Outbreak on the Medical Treatment of Chinese Children with Chronic Kidney Disease (CKD)：A Multicenter Cross-section Study in the Context of a Public Health Emergency of International Concern\n",
      "\n"
     ]
    }
   ],
   "source": [
    "# lets find the most similar titles to the following tasks \n",
    "# posted on the kaggle challege\n",
    "task_queries = ['Smoking, pre-existing pulmonary disease',\n",
    "                'Co-infections (determine whether co-existing respiratory/viral '\n",
    "                'infections make the virus more transmissible or virulent) and other co-morbidities',\n",
    "                'Neonates and pregnant women',\n",
    "                'Socio-economic and behavioral factors to understand the economic impact of the virus '\n",
    "                'and whether there were differences.']\n",
    "\n",
    "top_k = 2  # number of similar titles per query (2x4=8:queries)\n",
    "sd.add_query(task_queries, clear_first=True)\n",
    "similar_clusters = list(sd.iter_similar(top_k))\n",
    "\n",
    "similar_papers = []\n",
    "for idx in similar_clusters:\n",
    "    paper_id, score, title = (idx['doc_id'].tolist(),\n",
    "                              idx['sim'], idx['text'])\n",
    "    similar_papers.append(paper_id)\n",
    "    print(f'paper_id={paper_id}, score={score}\\n * title: {title}\\n')"
   ]
  },
  {
   "cell_type": "markdown",
   "metadata": {},
   "source": [
    "> Similar sentences relative to the list of top-k similar-papers:"
   ]
  },
  {
   "cell_type": "code",
   "execution_count": 31,
   "metadata": {},
   "outputs": [
    {
     "name": "stdout",
     "output_type": "stream",
     "text": [
      "* sentences: 272, * text:\n",
      "Background: Imagery techniques have been used as essential parts of diagnostic workup for patients suspected for 2019-nCoV infection, Multiple studies have reported the features of chest computed tomography (CT) scans among a number of 2019-nCoV patients. Method: Study Identification was carried out in databases (PubMed, Embase and Cochrane Library) to identify published studies examining the diagnosis, the 2019 novel coronavirus (2019-nCoV). Heterogeneity among reported prevalence was assessed by computing p-values of Cochrane Q-test and I 2 -statics. The pooled prevalence of treatment failure was carried out with a fixed effects meta-analysis model, generating the pooled 95% confidence interval. A random-effect model was used to pool the results since this model could incorporate the heterogeneity of the studies and therefore proved a more generalized result.\n"
     ]
    }
   ],
   "source": [
    "similar_sentences = []\n",
    "# load all the sentences from the paper indices (paper-ids)\n",
    "for batch in load_papers_with_text(biomed, similar_papers):\n",
    "    for texts in batch['texts']:\n",
    "        similar_sentences.append(texts)\n",
    "\n",
    "print(f'* sentences: {len(similar_sentences)}, * text:')\n",
    "print(similar_sentences[0])"
   ]
  },
  {
   "cell_type": "markdown",
   "metadata": {},
   "source": [
    "## Question Answering\n",
    "\n",
    "---\n",
    "\n",
    "- Sentence similary computation:\n",
    "\n",
    "    - metric : cosine\n",
    "    - matrix : TFIDF\n",
    "\n",
    "> Let's now use the sentences and `QAAM` (based on Transformers Q&A pipeline and really basic metrics!) to fetch queries in question \"form\":"
   ]
  },
  {
   "cell_type": "code",
   "execution_count": 74,
   "metadata": {
    "scrolled": true
   },
   "outputs": [
    {
     "data": {
      "application/vnd.jupyter.widget-view+json": {
       "model_id": "c923459895ef46f8ae9922558e96f546",
       "version_major": 2,
       "version_minor": 0
      },
      "text/plain": [
       "HBox(children=(FloatProgress(value=0.0, description='Downloading', max=230.0, style=ProgressStyle(description_…"
      ]
     },
     "metadata": {},
     "output_type": "display_data"
    },
    {
     "name": "stdout",
     "output_type": "stream",
     "text": [
      "\n"
     ]
    }
   ],
   "source": [
    "from qaam import QAAM\n",
    "\n",
    "qaam = QAAM(0.1, top_k=60, metric='cosine', mode='tfidf', lemmatize=False)\n",
    "qaam.texts_from_doc(similar_sentences)"
   ]
  },
  {
   "cell_type": "code",
   "execution_count": 75,
   "metadata": {
    "scrolled": true
   },
   "outputs": [
    {
     "data": {
      "text/plain": [
       "[('pol ii', 55),\n",
       " ('china', 54),\n",
       " ('cc - by - nc - nd 4.0 international', 39),\n",
       " ('2', 35),\n",
       " ('one', 30),\n",
       " ('1', 29),\n",
       " ('3', 26),\n",
       " ('two', 24),\n",
       " ('first', 23),\n",
       " ('φx174', 21)]"
      ]
     },
     "execution_count": 75,
     "metadata": {},
     "output_type": "execute_result"
    }
   ],
   "source": [
    "entities = qaam.common_entities(None, lower=True, lemma=True)\n",
    "entities[:10]"
   ]
  },
  {
   "cell_type": "code",
   "execution_count": 77,
   "metadata": {
    "scrolled": true
   },
   "outputs": [
    {
     "name": "stderr",
     "output_type": "stream",
     "text": [
      "convert squad examples to features: 100%|██████████| 1/1 [00:00<00:00, 244.12it/s]\n",
      "add example index and unique id: 100%|██████████| 1/1 [00:00<00:00, 1863.31it/s]\n"
     ]
    },
    {
     "data": {
      "text/html": [
       "<h2 style=\"margin: 0\">Question: What are some pre-existing pulmonary disease risk factors?</h2><div class=\"entities\" style=\"line-height: 2.5; direction: ltr\">Similar to some case reports (23, 24) Stress responses are <mark class=\"entity\" style=\"background: linear-gradient(90deg, #aa9cfc, #fc9ce7); padding: 0.45em 0.6em; margin: 0 0.25em; line-height: 1; border-radius: 0.35em;\">evolutionarily conserved and robustly activated.<span style=\"font-size: 0.8em; font-weight: bold; line-height: 1; border-radius: 0.35em; text-transform: uppercase; vertical-align: middle; margin-left: 0.5rem\">ANSWER</span></mark> repressed genes that are highly expressed under non-181! Reads that are shorter than 75 neurodegeneration, are often sustained or repeated.</div>"
      ],
      "text/plain": [
       "<IPython.core.display.HTML object>"
      ]
     },
     "metadata": {},
     "output_type": "display_data"
    }
   ],
   "source": [
    "qaam.answer(\"What are some pre-existing pulmonary disease risk factors?\", render=True)"
   ]
  },
  {
   "cell_type": "code",
   "execution_count": 80,
   "metadata": {
    "scrolled": true
   },
   "outputs": [
    {
     "name": "stderr",
     "output_type": "stream",
     "text": [
      "convert squad examples to features: 100%|██████████| 1/1 [00:00<00:00, 83.31it/s]\n",
      "add example index and unique id: 100%|██████████| 1/1 [00:00<00:00, 4262.50it/s]\n"
     ]
    },
    {
     "data": {
      "text/html": [
       "<h2 style=\"margin: 0\">Question: What reports are similar to case 23 and case 24 reports?</h2><div class=\"entities\" style=\"line-height: 2.5; direction: ltr\">stress conditions and involved in transcription, translation, and cell-cell junctions spectrum of PRO-seq read lengths (20 nt to 75 nt), which indicates less initiating, pausing and 325! Lamke et al., 2016; reviewed in D'Urso and Brickner, 67! 2017) , and shown to confer thermotolerance against protein misfolding via increased chaperone 68! To capture instant and sustained changes in heat-induced transcription, we conducted 133! ! ! and Here, we measured transcriptional response to acute heat stress in unconditioned cells and in 22! <mark class=\"entity\" style=\"background: linear-gradient(90deg, #aa9cfc, #fc9ce7); padding: 0.45em 0.6em; margin: 0 0.25em; line-height: 1; border-radius: 0.35em;\">the ends of active genes to heat-induced transcription.<span style=\"font-size: 0.8em; font-weight: bold; line-height: 1; border-radius: 0.35em; text-transform: uppercase; vertical-align: middle; margin-left: 0.5rem\">ANSWER</span></mark> and enhancers, and identifies regulatory decisions at high fidelity and spatio-temporal resolution 86! In this context, chest CT images are important elements of clinical workflow of 2019-nCoV, with respect to screening, diagnosis and followup.</div>"
      ],
      "text/plain": [
       "<IPython.core.display.HTML object>"
      ]
     },
     "metadata": {},
     "output_type": "display_data"
    }
   ],
   "source": [
    "question = \"What reports are similar to case 23 and case 24 reports?\"\n",
    "qaam.answer(question, render=True)"
   ]
  },
  {
   "cell_type": "code",
   "execution_count": 89,
   "metadata": {},
   "outputs": [
    {
     "name": "stderr",
     "output_type": "stream",
     "text": [
      "convert squad examples to features: 100%|██████████| 1/1 [00:00<00:00, 82.43it/s]\n",
      "add example index and unique id: 100%|██████████| 1/1 [00:00<00:00, 2078.45it/s]\n"
     ]
    },
    {
     "data": {
      "text/html": [
       "<h2 style=\"margin: 0\">Question: Why images important elements of clinical workflow?</h2><div class=\"entities\" style=\"line-height: 2.5; direction: ltr\">Dogs less than four months of age 94 Heat-induced run-through transcription (also known as Downstream of Genes, DoG) is indicated downstream of CPS in CDK1. According to the combined results of meta-analysis, the total 55% of corona patients were males. According to the combined results of meta-analysis, the total 55% of corona patients were males. A) DESeq2-analysis of differential gene transcription between unconditioned (unCond) and preconditioned (preCond) MEFs at the indicated time points of heat stress. There is the possibility of initial false negative results of RT-PCR tests due to <mark class=\"entity\" style=\"background: linear-gradient(90deg, #aa9cfc, #fc9ce7); padding: 0.45em 0.6em; margin: 0 0.25em; line-height: 1; border-radius: 0.35em;\">lack of replicable nucleic acid or technical errors<span style=\"font-size: 0.8em; font-weight: bold; line-height: 1; border-radius: 0.35em; text-transform: uppercase; vertical-align: middle; margin-left: 0.5rem\">ANSWER</span></mark> as well (18). FACS-defined fraction of cells with fragmented (indicative of apoptosis), or polyploid, genome. the 3'-ends of genes could provide a reservoir of pre-mRNAs that are rapidly processed to mature 405!</div>"
      ],
      "text/plain": [
       "<IPython.core.display.HTML object>"
      ]
     },
     "metadata": {},
     "output_type": "display_data"
    }
   ],
   "source": [
    "question = \"Why images important elements of clinical workflow?\"\n",
    "qaam.answer(question, render=True)"
   ]
  },
  {
   "cell_type": "code",
   "execution_count": 88,
   "metadata": {},
   "outputs": [
    {
     "name": "stderr",
     "output_type": "stream",
     "text": [
      "convert squad examples to features: 100%|██████████| 1/1 [00:00<00:00, 87.92it/s]\n",
      "add example index and unique id: 100%|██████████| 1/1 [00:00<00:00, 2057.04it/s]\n"
     ]
    },
    {
     "data": {
      "text/html": [
       "<h2 style=\"margin: 0\">Question: Is there any economic impact of the virus?</h2><div class=\"entities\" style=\"line-height: 2.5; direction: ltr\"><mark class=\"entity\" style=\"background: linear-gradient(90deg, #aa9cfc, #fc9ce7); padding: 0.45em 0.6em; margin: 0 0.25em; line-height: 1; border-radius: 0.35em;\">Average Pol II density at the promoter-proximal regions of genes<span style=\"font-size: 0.8em; font-weight: bold; line-height: 1; border-radius: 0.35em; text-transform: uppercase; vertical-align: middle; margin-left: 0.5rem\">ANSWER</span></mark> that are called heat-induced upon the 12.5-min time point (C), or are highly heat-activated (D), in unconditioned cells. The Pol II density in C and D is compared between unconditioned (black dotted line) and preconditioned (yellow or red solid line) cells upon a 12.5-min heat shock. CC-BY-NC-ND 4.0 International license is made available under a The copyright holder for this preprint (which was not peer-reviewed) CC-BY-NC-ND 4.0 International license is made available under a The copyright holder for this preprint (which was not peer-reviewed) CC-BY-NC-ND 4.0 International license is made available under a The copyright holder for this preprint (which was not peer-reviewed) CC-BY-NC-ND 4.0 International license is made available under a The copyright holder for this preprint (which was not peer-reviewed) Please note that the whole-genome (isolated nuclei) spike-in allows accurate normalization between the samples that were grown several days in distinct cell cultures.</div>"
      ],
      "text/plain": [
       "<IPython.core.display.HTML object>"
      ]
     },
     "metadata": {},
     "output_type": "display_data"
    }
   ],
   "source": [
    "question = \"Is there any economic impact of the virus?\"\n",
    "qaam.answer(question, render=True)"
   ]
  },
  {
   "cell_type": "code",
   "execution_count": 86,
   "metadata": {},
   "outputs": [
    {
     "name": "stderr",
     "output_type": "stream",
     "text": [
      "convert squad examples to features: 100%|██████████| 1/1 [00:00<00:00, 82.25it/s]\n",
      "add example index and unique id: 100%|██████████| 1/1 [00:00<00:00, 2656.30it/s]\n"
     ]
    },
    {
     "data": {
      "text/html": [
       "<h2 style=\"margin: 0\">Question: What are the transmission dynamics of the virus?</h2><div class=\"entities\" style=\"line-height: 2.5; direction: ltr\">undergoes initiation or pausing has transcribed through fewer nucleotides (&lt;60 nt) than the 319! et al., 2017) , which might bring the transcription machinery also to functionally connected 284! read) of each individual transcript ( Figure 6D ; repressed genes that are highly expressed under non-181! enhancers was diminished ( Figure 5B ; Figure S4D ), which resembled the reduced initiation 286! <mark class=\"entity\" style=\"background: linear-gradient(90deg, #aa9cfc, #fc9ce7); padding: 0.45em 0.6em; margin: 0 0.25em; line-height: 1; border-radius: 0.35em;\">throughout the six days of preconditioning, recovery and additional heat shock<span style=\"font-size: 0.8em; font-weight: bold; line-height: 1; border-radius: 0.35em; text-transform: uppercase; vertical-align: middle; margin-left: 0.5rem\">ANSWER</span></mark> ( Figure S3A Heat-responsiveness was restored for the vast majority of genes in preconditioned K562 cells 226! preconditioned cells, the few genes that had gained heat induction included proteins with function 232! shock in preconditioned cells ( Figure 6A ; Figure S5B ), comprised of transcripts with the whole 324!</div>"
      ],
      "text/plain": [
       "<IPython.core.display.HTML object>"
      ]
     },
     "metadata": {},
     "output_type": "display_data"
    }
   ],
   "source": [
    "question = \"What are the transmission dynamics of the virus?\"\n",
    "qaam.answer(question, render=True)"
   ]
  },
  {
   "cell_type": "code",
   "execution_count": 90,
   "metadata": {},
   "outputs": [
    {
     "name": "stderr",
     "output_type": "stream",
     "text": [
      "convert squad examples to features: 100%|██████████| 1/1 [00:00<00:00, 104.32it/s]\n",
      "add example index and unique id: 100%|██████████| 1/1 [00:00<00:00, 2659.67it/s]\n"
     ]
    },
    {
     "data": {
      "text/html": [
       "<h2 style=\"margin: 0\">Question: What measures could be effective for controlling the virus?</h2><div class=\"entities\" style=\"line-height: 2.5; direction: ltr\">besides the initiating base (5'-end of the read), also the active site of transcription (3'-end of the 321! Thereby, the TSS-containing reads report, 320! Neither was kinetics of the classical heat shock 172! the ends of active genes to heat-induced transcription. To be able to investigate how repeatedly 194! The prolonged residence time of Pol II at the CPSs, together with decreased initiation at heat-314! initiation could be indirectly caused by <mark class=\"entity\" style=\"background: linear-gradient(90deg, #aa9cfc, #fc9ce7); padding: 0.45em 0.6em; margin: 0 0.25em; line-height: 1; border-radius: 0.35em;\">limited Pol II availability,<span style=\"font-size: 0.8em; font-weight: bold; line-height: 1; border-radius: 0.35em; text-transform: uppercase; vertical-align: middle; margin-left: 0.5rem\">ANSWER</span></mark> as a larger fraction of Pol II 186!</div>"
      ],
      "text/plain": [
       "<IPython.core.display.HTML object>"
      ]
     },
     "metadata": {},
     "output_type": "display_data"
    }
   ],
   "source": [
    "question = \"What measures could be effective for controling the virus?\"\n",
    "qaam.answer(question, render=True)"
   ]
  },
  {
   "cell_type": "code",
   "execution_count": 92,
   "metadata": {},
   "outputs": [
    {
     "name": "stderr",
     "output_type": "stream",
     "text": [
      "convert squad examples to features: 100%|██████████| 1/1 [00:00<00:00, 148.86it/s]\n",
      "add example index and unique id: 100%|██████████| 1/1 [00:00<00:00, 3688.92it/s]\n"
     ]
    },
    {
     "data": {
      "text/html": [
       "<h2 style=\"margin: 0\">Question: Do existing infections make COVID-19 more viral?</h2><div class=\"entities\" style=\"line-height: 2.5; direction: ltr\">over 80000 cases have been infected, resulting in more than three thousand deaths. Corona Virus Disease 2019 has spread rapidly to more than 70 countries and regions overseas and It also has more than 150 villages with associated dog populations. The epidemiological history may be vague and <mark class=\"entity\" style=\"background: linear-gradient(90deg, #aa9cfc, #fc9ce7); padding: 0.45em 0.6em; margin: 0 0.25em; line-height: 1; border-radius: 0.35em;\">the sign and symptoms of the disease may resemble other viral infections<span style=\"font-size: 0.8em; font-weight: bold; line-height: 1; border-radius: 0.35em; text-transform: uppercase; vertical-align: middle; margin-left: 0.5rem\">ANSWER</span></mark>.</div>"
      ],
      "text/plain": [
       "<IPython.core.display.HTML object>"
      ]
     },
     "metadata": {},
     "output_type": "display_data"
    }
   ],
   "source": [
    "question = \"Do existing infections make COVID-19 more viral?\"\n",
    "qaam.answer(question, render=True)"
   ]
  },
  {
   "cell_type": "markdown",
   "metadata": {},
   "source": [
    "### Clustering with Scikit-Learn and SentenceTransformers\n",
    "\n",
    "> Clustering using a transformers wrapper API `SentenceTransformers` and scikit-learn's `AgglomerativeClustering`"
   ]
  },
  {
   "cell_type": "code",
   "execution_count": 97,
   "metadata": {},
   "outputs": [
    {
     "name": "stderr",
     "output_type": "stream",
     "text": [
      "100%|██████████| 405M/405M [00:40<00:00, 10.1MB/s] \n"
     ]
    }
   ],
   "source": [
    "from sentence_transformers import SentenceTransformer\n",
    "from sklearn.cluster import AgglomerativeClustering\n",
    "\n",
    "embedder = SentenceTransformer('bert-base-nli-mean-tokens')"
   ]
  },
  {
   "cell_type": "code",
   "execution_count": 98,
   "metadata": {},
   "outputs": [],
   "source": [
    "k = 802\n",
    "samples = list(range(1, biomed.num_papers))\n",
    "clusters = random.sample(samples, k)\n",
    "papers = biomed.load_papers(clusters)\n",
    "\n",
    "titles_cluster = []\n",
    "for paper, cluster in zip(papers, clusters):\n",
    "    title = paper['metadata']['title']\n",
    "    titles_cluster.append((title, cluster))\n",
    "\n",
    "titles, clusters = zip(*titles_cluster)\n",
    "num_clusters = len(set(titles_cluster))\n",
    "titles_embedding = embedder.encode(titles)\n",
    "\n",
    "ac = AgglomerativeClustering(n_clusters=num_clusters)\n",
    "ac.fit(titles_embedding)\n",
    "cluster_assignment = ac.labels_"
   ]
  },
  {
   "cell_type": "code",
   "execution_count": 103,
   "metadata": {
    "scrolled": false
   },
   "outputs": [
    {
     "name": "stdout",
     "output_type": "stream",
     "text": [
      "cluster<(1)>\n",
      "paper_id: 613 - The network structure and eco-evolutionary dynamics of CRISPR-induced immune diversification\n",
      "\n",
      "cluster<(2)>\n",
      "paper_id: 292 - Recombination and convergent evolution led to the emergence of 2019 Wuhan coronavirus\n",
      "\n",
      "cluster<(3)>\n",
      "paper_id: 284 - Catalysis, inhibition and dynamics of Zika NS2B-NS3pro Unique properties of Zika NS2B-NS3pro complexes as decoded by experiments and MD simulations Catalysis, inhibition and dynamics of Zika NS2B-NS3pro\n",
      "\n",
      "cluster<(4)>\n",
      "paper_id: 298 - The role of post-Golgi transport pathways and sorting motifs in the plasmodesmal targeting of the movement protein (MP) of Ourmia melon virus (OuMV)\n",
      "\n",
      "cluster<(5)>\n",
      "paper_id: 149 - Machine learning using intrinsic genomic signatures for rapid classification of novel pathogens: COVID-19 case study\n",
      "\n",
      "cluster<(6)>\n",
      "paper_id: 793 - Homologous Recombination as an Evolutionary Force in 1 African Swine Fever Viruses\n",
      "\n",
      "cluster<(7)>\n",
      "paper_id: 222 - Single-cell RNA expression profiling of ACE2, the putative receptor of Wuhan 2019-nCov\n",
      "\n",
      "cluster<(8)>\n",
      "paper_id: 703 - TITLE PAGE Title: Machine learning-based CT radiomics model for predicting hospital stay in patients with pneumonia associated with SARS-CoV-2 infection: A multicenter study\n",
      "\n",
      "cluster<(9)>\n",
      "paper_id: 460 - Molecular Modeling Evaluation of the Binding Effect of Ritonavir, Lopinavir and Darunavir to Severe Acute Respiratory Syndrome Coronavirus 2 Proteases\n",
      "\n",
      "cluster<(10)>\n",
      "paper_id: 787 - Deep learning Enables Accurate Diagnosis of Novel Coronavirus (COVID-19) with CT images\n",
      "\n",
      "cluster<(11)>\n",
      "paper_id: 346 - Strong evolutionary convergence of receptor-binding protein spike between COVID-19 and SARS-related coronaviruses\n",
      "\n",
      "cluster<(12)>\n",
      "paper_id: 525 - \n",
      "\n",
      "cluster<(13)>\n",
      "paper_id: 348 - The Viral Protein Corona Directs Viral Pathogenesis and Amyloid Aggregation\n",
      "\n",
      "cluster<(14)>\n",
      "paper_id: 351 - Mouse hepatitis virus nsp14 exoribonuclease activity is required for\n",
      "\n",
      "cluster<(15)>\n",
      "paper_id: 677 - Complex dynamics in an SIS epidemic model induced by nonlinear incidence\n",
      "\n",
      "cluster<(16)>\n",
      "paper_id: 570 - COVID-19 in Wuhan: Immediate Psychological Impact on 5062 Health Workers\n",
      "\n",
      "cluster<(17)>\n",
      "paper_id: 505 - From Isolation to Coordination: How Can Telemedicine Help Combat the COVID-19 Outbreak?\n",
      "\n",
      "cluster<(18)>\n",
      "paper_id: 142 - Substrate specificity profiling of SARS-CoV-2 M pro protease provides basis for anti-COVID-19 drug design\n",
      "\n",
      "cluster<(19)>\n",
      "paper_id: 380 - Evidence for RNA editing in the transcriptome of 2019 Novel Coronavirus\n",
      "\n",
      "cluster<(20)>\n",
      "paper_id: 641 - Congruence of location-specific transcriptional programs in intestinal organoids during long-term culture\n",
      "\n"
     ]
    }
   ],
   "source": [
    "clustered_titles = [[] for i in range(num_clusters)]\n",
    "for title_id, cluster_id in enumerate(cluster_assignment):\n",
    "    title_id = titles_cluster[title_id]\n",
    "    clustered_titles[cluster_id].append(title_id)\n",
    "    \n",
    "for i, cluster in enumerate(clustered_titles[:20]):\n",
    "    print(f'cluster<({i + 1})>')\n",
    "    for row in cluster:\n",
    "        print(f'paper_id: {row[1]} - {row[0]}\\n')"
   ]
  },
  {
   "cell_type": "markdown",
   "metadata": {},
   "source": [
    "### K-mean clustering and SentenceTransformers"
   ]
  },
  {
   "cell_type": "code",
   "execution_count": 104,
   "metadata": {
    "scrolled": false
   },
   "outputs": [
    {
     "name": "stdout",
     "output_type": "stream",
     "text": [
      "<cluster=6, paper_id=768>\n",
      "title: Realtime 2-5A kinetics suggests interferons β and  evade global arrest of translation by RNase L\n",
      "<cluster=7, paper_id=330>\n",
      "title: Identification of the relative timing of infectiousness 1 and symptom onset for outbreak control 2\n",
      "<cluster=8, paper_id=152>\n",
      "title: Title: Interventions targeting air travellers early in the pandemic may delay local outbreaks of SARS-CoV-2\n",
      "<cluster=9, paper_id=663>\n",
      "title: Contacts in context: large-scale setting-specific social mixing matrices from the BBC Pandemic project\n",
      "<cluster=10, paper_id=224>\n",
      "title: Structure-Guided Mutagenesis Alters Deubiquitinating Activity 2 and Attenuates Pathogenesis of a Murine Coronavirus\n",
      "<cluster=11, paper_id=387>\n",
      "title: Metagenomic Nanopore sequencing of influenza virus 1 direct from clinical respiratory samples 2 3\n",
      "<cluster=12, paper_id=736>\n",
      "title: Pangolin homology associated with 2019-nCoV\n",
      "<cluster=13, paper_id=661>\n",
      "title: The influenza A virus endoribonuclease PA-X usurps host mRNA processing machinery to 1 limit host gene expression 2 3\n",
      "<cluster=14, paper_id=94>\n",
      "title: TITLE: Isolation and sequencing of AGO-bound RNAs reveals characteristics of mammalian stem-loop processing in vivo AUTHORS\n",
      "<cluster=15, paper_id=501>\n",
      "title: Potential impact of seasonal forcing on a SARS-CoV-2 pandemic\n",
      "<cluster=16, paper_id=11>\n",
      "title: Predicting the global mammalian viral 1 sharing network using phylogeography\n",
      "<cluster=17, paper_id=131>\n",
      "title: Analysis of epidemiological characteristics of coronavirus 2019 infection and preventive measures in Shenzhen China-a heavy population city\n",
      "<cluster=18, paper_id=352>\n",
      "title: Modeling and Prediction of the 2019 Coronavirus Disease Spreading in China Incorporating Human Migration Data\n",
      "<cluster=19, paper_id=2>\n",
      "title: Classification: Biological Sciences Minor: Microbial Biology Site specific target binding controls RNA cleavage efficiency by the Kaposi's sarcoma-associated herpesvirus endonuclease SOX\n",
      "<cluster=20, paper_id=33>\n",
      "title: Molecular Dynamics Simulations Indicate the COVID-19 Mpro Is Not a Viable Target for Small-Molecule Inhibitors Design\n"
     ]
    }
   ],
   "source": [
    "from sklearn.cluster import KMeans\n",
    "\n",
    "titles_embeddings = embedder.encode(titles)\n",
    "\n",
    "n_clusters = 5\n",
    "clustering_model = KMeans(n_clusters=n_clusters)\n",
    "clustering_model.fit(titles_embeddings)\n",
    "cluster_assignment = clustering_model.labels_\n",
    "\n",
    "clustered_titles = [[] for i in range(n_clusters)]\n",
    "for title_id, cluster_id in enumerate(cluster_assignment):\n",
    "    cluster = titles_cluster[title_id]\n",
    "    clustered_titles.append(cluster)\n",
    "\n",
    "for i, cluster in enumerate(clustered_titles[:20]):\n",
    "    if cluster:\n",
    "        title, paper_id = cluster[0], cluster[1]      \n",
    "        print(f'<cluster={i+1}, paper_id={paper_id}>')\n",
    "        print(f'title: {title}')"
   ]
  },
  {
   "cell_type": "code",
   "execution_count": null,
   "metadata": {},
   "outputs": [],
   "source": []
  }
 ],
 "metadata": {
  "kernelspec": {
   "display_name": "Python 3",
   "language": "python",
   "name": "python3"
  },
  "language_info": {
   "codemirror_mode": {
    "name": "ipython",
    "version": 3
   },
   "file_extension": ".py",
   "mimetype": "text/x-python",
   "name": "python",
   "nbconvert_exporter": "python",
   "pygments_lexer": "ipython3",
   "version": "3.7.6"
  },
  "varInspector": {
   "cols": {
    "lenName": 16,
    "lenType": 16,
    "lenVar": 40
   },
   "kernels_config": {
    "python": {
     "delete_cmd_postfix": "",
     "delete_cmd_prefix": "del ",
     "library": "var_list.py",
     "varRefreshCmd": "print(var_dic_list())"
    },
    "r": {
     "delete_cmd_postfix": ") ",
     "delete_cmd_prefix": "rm(",
     "library": "var_list.r",
     "varRefreshCmd": "cat(var_dic_list()) "
    }
   },
   "types_to_exclude": [
    "module",
    "function",
    "builtin_function_or_method",
    "instance",
    "_Feature"
   ],
   "window_display": false
  }
 },
 "nbformat": 4,
 "nbformat_minor": 4
}
