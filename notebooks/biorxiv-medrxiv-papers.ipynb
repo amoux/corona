{
 "cells": [
  {
   "cell_type": "code",
   "execution_count": 139,
   "metadata": {},
   "outputs": [],
   "source": [
    "import sys\n",
    "sys.path.append('../')\n",
    "from corona_nlp.indexing import PaperIndexer, all_dataset_sources\n",
    "from corona_nlp.preprocessing import load_papers_with_text\n",
    "\n",
    "from transformers import pipeline\n",
    "import pprint\n",
    "pprint = pprint.PrettyPrinter(indent=14)"
   ]
  },
  {
   "cell_type": "code",
   "execution_count": 202,
   "metadata": {},
   "outputs": [
    {
     "data": {
      "text/plain": [
       "PosixPath('../data/CORD-19-research-challenge/2020-03-13/biorxiv_medrxiv/biorxiv_medrxiv')"
      ]
     },
     "execution_count": 202,
     "metadata": {},
     "output_type": "execute_result"
    }
   ],
   "source": [
    "all_dataset_sources[0]"
   ]
  },
  {
   "cell_type": "code",
   "execution_count": 140,
   "metadata": {},
   "outputs": [
    {
     "data": {
      "text/plain": [
       "<PaperIndexer(biorxiv_medrxiv, papers=803)>"
      ]
     },
     "execution_count": 140,
     "metadata": {},
     "output_type": "execute_result"
    }
   ],
   "source": [
    "biomed = PaperIndexer(all_dataset_sources[0])\n",
    "biomed"
   ]
  },
  {
   "cell_type": "code",
   "execution_count": 141,
   "metadata": {},
   "outputs": [
    {
     "data": {
      "text/plain": [
       "{'text': 'Coronavirus was a large virus family, which was known to cause common cold and serious illness such as Middle East respiratory syndrome (MERS) and severe acute respiratory syndrome (SARS). [1] [2] [3] [4] It was found that the 2019 novel coronavirus (2019-nCoV) was the cause of unexplained viral pneumonia in Wuhan, China in December 2019, and was recognized by the World Health Organization (WHO) on January 12, 2020. In the following month, 2019-nCoV was transmitted in Hubei Province, throughout China and even other countries, 5 causing 34,662 confirmed cases by February 8, 2020.',\n",
       " 'cite_spans': [{'start': 189, 'end': 192, 'text': '[1]', 'ref_id': 'BIBREF0'},\n",
       "  {'start': 193, 'end': 196, 'text': '[2]', 'ref_id': 'BIBREF1'},\n",
       "  {'start': 197, 'end': 200, 'text': '[3]', 'ref_id': 'BIBREF2'},\n",
       "  {'start': 201, 'end': 204, 'text': '[4]', 'ref_id': 'BIBREF3'},\n",
       "  {'start': 532, 'end': 533, 'text': '5', 'ref_id': 'BIBREF4'}],\n",
       " 'ref_spans': [],\n",
       " 'section': 'Introduction'}"
      ]
     },
     "execution_count": 141,
     "metadata": {},
     "output_type": "execute_result"
    }
   ],
   "source": [
    "biomed_samples = biomed(samples=5, shuffle=True)\n",
    "biomed_samples[0]['body_text'][0]"
   ]
  },
  {
   "cell_type": "code",
   "execution_count": 142,
   "metadata": {},
   "outputs": [],
   "source": [
    "indices = list(range(1, biomed.num_papers))\n",
    "papers_with_text = load_papers_with_text(covid=biomed,\n",
    "                                         indices=indices,\n",
    "                                         keys=('abstract', 'body_text'))"
   ]
  },
  {
   "cell_type": "code",
   "execution_count": 143,
   "metadata": {},
   "outputs": [
    {
     "data": {
      "text/plain": [
       "74"
      ]
     },
     "execution_count": 143,
     "metadata": {},
     "output_type": "execute_result"
    }
   ],
   "source": [
    "from corona_nlp.preprocessing import normalize_whitespace\n",
    "\n",
    "texts = []\n",
    "for paper in papers_with_text:\n",
    "    for line in sorted(set(paper['texts'])):\n",
    "        string = normalize_whitespace(line)\n",
    "        if string:\n",
    "            texts.append(string)\n",
    "len(texts)"
   ]
  },
  {
   "cell_type": "code",
   "execution_count": 17,
   "metadata": {},
   "outputs": [
    {
     "name": "stderr",
     "output_type": "stream",
     "text": [
      "Couldn't reach server at 'https://s3.amazonaws.com/models.huggingface.co/bert/facebook/bart-large-cnn/modelcard.json' to download model card file.\n",
      "Creating an empty model card.\n"
     ]
    }
   ],
   "source": [
    "# load the summarizer.\n",
    "summarizer = pipeline('summarization')"
   ]
  },
  {
   "cell_type": "code",
   "execution_count": 18,
   "metadata": {},
   "outputs": [
    {
     "name": "stdout",
     "output_type": "stream",
     "text": [
      "('10% of respondents consumed products of wild animals in Wuhan, twice that '\n",
      " 'reported in Shanghai. Public strongly supports the regulations on wet '\n",
      " 'markets to control the outbreak. Shanghai started its seasonal closure of '\n",
      " 'LPMs on Jan 25 this year. The Chinese Government further instituted '\n",
      " 'nationwide bans on all forms of wild animal transactions on Jan 26. These '\n",
      " 'regulations may accelerate the decrease in exposing behaviours to live '\n",
      " 'animals. However, the COVID-19 epidemic occurred prior to the Chinese lunar '\n",
      " 'new year, when the demand for live animals is generally high. To date there '\n",
      " 'is no primary research to quantify public behavioural response and support '\n",
      " 'in containment measures. We plan to conduct a second-round survey at the end '\n",
      " 'of the outbreak to track the long-term changes. Our sample was consistent '\n",
      " 'with characteristics of the general population in the two cities.')\n"
     ]
    }
   ],
   "source": [
    "documents = \"\".join(papers_with_text[0]['texts'])\n",
    "docs_summary = summarizer(documents, min_length=150, max_length=500)\n",
    "pprint.pprint(docs_summary[0]['summary_text'])"
   ]
  },
  {
   "cell_type": "code",
   "execution_count": 146,
   "metadata": {},
   "outputs": [
    {
     "data": {
      "text/plain": [
       "'532dc582abd41e833303742ca40976db63fe6fc1'"
      ]
     },
     "execution_count": 146,
     "metadata": {},
     "output_type": "execute_result"
    }
   ],
   "source": [
    "paper_id = papers_with_text[1]['id']\n",
    "biomed[paper_id]"
   ]
  },
  {
   "cell_type": "code",
   "execution_count": 147,
   "metadata": {},
   "outputs": [],
   "source": [
    "from corona_nlp.tokenizer import SpacySentenceTokenizer\n",
    "from sentence_transformers import SentenceTransformer\n",
    "\n",
    "scibert_nli_model = \"/home/ego/huggingface-models/scibert-nli/\"\n",
    "sentence_tokenizer = SentenceTransformer(scibert_nli_model)"
   ]
  },
  {
   "cell_type": "code",
   "execution_count": 148,
   "metadata": {},
   "outputs": [
    {
     "data": {
      "text/plain": [
       "215"
      ]
     },
     "execution_count": 148,
     "metadata": {},
     "output_type": "execute_result"
    }
   ],
   "source": [
    "spacy_tokenizer = SpacySentenceTokenizer()\n",
    "sentences = []\n",
    "for line in spacy_tokenizer.tokenize(\"\".join(texts)):\n",
    "    string = normalize_whitespace(line.text.strip())\n",
    "    if string not in sentences:\n",
    "        sentences.append(string)\n",
    "len(sentences)"
   ]
  },
  {
   "cell_type": "code",
   "execution_count": 149,
   "metadata": {},
   "outputs": [
    {
     "data": {
      "text/plain": [
       "(768,)"
      ]
     },
     "execution_count": 149,
     "metadata": {},
     "output_type": "execute_result"
    }
   ],
   "source": [
    "embeddings = sentence_tokenizer.encode(sentences)\n",
    "embeddings[0].shape"
   ]
  },
  {
   "cell_type": "markdown",
   "metadata": {},
   "source": [
    "## Calculating K\n",
    "\n",
    "> Let's calculate the distortion for a given cluster range: `[1: maxrange]` to find the best `K` to use for our sentences"
   ]
  },
  {
   "cell_type": "code",
   "execution_count": 183,
   "metadata": {},
   "outputs": [
    {
     "data": {
      "image/png": "[encoded data removed]",
      "text/plain": [
       "<Figure size 432x288 with 1 Axes>"
      ]
     },
     "metadata": {
      "needs_background": "light"
     },
     "output_type": "display_data"
    }
   ],
   "source": [
    "import matplotlib.pyplot as plt\n",
    "\n",
    "n_pertub = 10\n",
    "maxrange = 11\n",
    "distortions = []\n",
    "for i in range(1, maxrange):\n",
    "    km = KMeans(n_clusters=i, init='random',\n",
    "                n_init=n_pertub, max_iter=300,\n",
    "                tol=1e-04, random_state=0)\n",
    "    km.fit(embeddings)\n",
    "    distortions.append(km.inertia_)\n",
    "\n",
    "plt.plot(range(1, 11), distortions, marker='o')\n",
    "plt.xlabel('Number of Clusters')\n",
    "plt.ylabel('Distortion')\n",
    "plt.savefig('clusters-distortion.png')"
   ]
  },
  {
   "cell_type": "code",
   "execution_count": 162,
   "metadata": {},
   "outputs": [],
   "source": [
    "from sklearn.cluster import KMeans\n",
    "# from the graph above we can see that the 8th cluster will work\n",
    "# the lower and steeper the drop == the worst!\n",
    "\n",
    "n_clusters = 8\n",
    "kmeans = KMeans(n_clusters, random_state=0).fit(embeddings)"
   ]
  },
  {
   "cell_type": "code",
   "execution_count": 169,
   "metadata": {},
   "outputs": [
    {
     "name": "stdout",
     "output_type": "stream",
     "text": [
      "predicted-cluster: 4\n",
      "sentence: In our survey, more than 20% of respondents visited wet markets at usual, which was similar in Wuhan and Shanghai, despite Shanghai being much more developed.\n"
     ]
    }
   ],
   "source": [
    "def predict_cluster(sequence: str):\n",
    "    \"\"\"Predict cluster given a string sequence.\"\"\"\n",
    "    embedding = sentence_tokenizer.encode([sequence])\n",
    "    return kmeans.predict(embedding)[0]\n",
    "\n",
    "one_sentence = sentences[0]\n",
    "pred_cluster = predict_cluster(one_sentence) + 1\n",
    "print(f\"predicted-cluster: {pred_cluster}\")\n",
    "print(f\"sentence: {one_sentence}\")"
   ]
  },
  {
   "cell_type": "code",
   "execution_count": 168,
   "metadata": {
    "scrolled": true
   },
   "outputs": [
    {
     "data": {
      "text/plain": [
       "['In our survey, more than 20% of respondents visited wet markets at usual, which was similar in Wuhan and Shanghai, despite Shanghai being much more developed.',\n",
       " 'Compared with the 30% level reported in 2013 in the same study sites, 15 the share of respondents visiting wet markets declined by 10 percentage points, but was still high.',\n",
       " '10% of respondents consumed products of wild animals in Wuhan, twice that reported in Shanghai.',\n",
       " 'medRxiv preprint Shanghai started its seasonal closure of LPMs on Jan 25 this year.',\n",
       " 'A population-based cross-sectional telephone survey via random dialing was conducted in Wuhan (the epicentre) and Shanghai (an affected city with imported cases) between 1 and 10 February, 2020.',\n",
       " '510 residents in Wuhan and 501 residents in Shanghai were randomly sampled.',\n",
       " 'Respondents in Wuhan and Shanghai were generally similar in terms of sex, marital status and occupation, but in Shanghai respondents tended to be older and had higher education and income levels than in Wuhan (Table 1 ).',\n",
       " 'Our sample was consistent with characteristics of the general population in the two cities, as Shanghai is more developed and has an older population than Wuhan.',\n",
       " 'The sample size (n=500 for each city) is sufficient to estimate the change of outcomes (p=0.5) with a margin of error of 0.05 and a 95% confidence interval, according to previous studies.',\n",
       " 'We attempted to contact each generated number three times a day at different hours; if no contact was established after the third call, this number was classified as invalid or unreachable.',\n",
       " 'Only four commentaries mentioned the influence of the outbreak on mental health.',\n",
       " 'Each respondent was asked to rate the extent, on a five-point Likert scale, to which they supported 1) the permanent closure of LPMs, 2)',\n",
       " 'We first investigated patterns of usual exposure to live animals before the outbreak ( Table 2 Panel of 55, 58.2% in Shanghai, p=0.339); more than 90% of respondents always arranged for slaughter of purchased animals in wet markets, with no noticeable differences between the two cities.',\n",
       " 'However, residents in Wuhan reported wild animal consumption at a higher rate than those in Shanghai; 47 (9.2%) of 510 respondents in Wuhan and 23 (4.6%) of 501 respondents in Shanghai reported eating All rights reserved.',\n",
       " '[23] These beliefs and preferences for fresh food are especially popular in southern China, where Wuhan is located, but were greatly challenged and changed during the 2003 SARS outbreak in China 9,12 .',\n",
       " 'A population-based cross-sectional telephone survey was conducted in Wuhan and Shanghai between Feb 1 and 10, 2020, one month since the outbreak.',\n",
       " 'As of Feb 16, 2020, a total of 70,548 cases have been reported in mainland China, with 1,770 resulting deaths.',\n",
       " 'The outbreak has now spread beyond China to twenty-five other countries.',\n",
       " 'A total of 18,576 telephone numbers were randomly selected via digital dialing system in Wuhan and Shanghai.',\n",
       " 'After calling, 6,836 respondents were eligible to participate, of whom 5,640 declined and All rights reserved.',\n",
       " 'No reuse allowed without permission.in Wuhan (p<0·001), and from 20.4% (n=102) to 4.4%(n=22) in Shanghai (p<0·001; Figure 2 ).',\n",
       " 'The proportion of respondents buying live poultry or wild animals also decreased from around 11.0% to 2.6% in both cities (p<0·001).',\n",
       " 'We conducted a population-based cross-sectional telephone survey via random digital dialing in Wuhan (the epicentre) and Shanghai (an affected city with imported cases) between 1 and 10 February, 2020.The copyright holder for this preprint (which was not peer-reviewed) is Wuhan, respectively, and 75% of respondents were confident that governmental containment measures would quell the outbreak.',\n",
       " 'Descriptive and univariate analysis were used to investigate changes in exposure to live animals during the outbreak, public support for containment measures, and confidence in containment measures to quell the outbreak, between Wuhan (the epicentre) and Shanghai (an affected city with imported cases).Although permanent closure of LPMs was not fully backed by the public, it was still much higher than reported during the 2013 influenza A outbreak (27.3% in Wuhan, 39.3% in Shanghai).',\n",
       " 'We found that population exposures to live animals were similar in Wuhan and Shanghai before the outbreak, except that wild animal consumption was more prevalent in Wuhan than in Shanghai.',\n",
       " 'During the outbreak, residents in both cities significantly changed their behaviours and reduced exposures to live animals, and such changes were much more significant in Wuhan.',\n",
       " 'Proportion of respondents visiting wet markets at usual was 23.3% (119/510) in Wuhan and 20.4%H.Y. has received research funding from Sanofi Pasteur, GlaxoSmithKline, Yichang HEC Changjiang Pharmaceutical Company and Shanghai Roche Pharmaceutical Company.',\n",
       " 'During the outbreak, it decreased to 3.1% (16) in Wuhan (p<0·001), and 4.4% (22) in Shanghai (p<0·001).',\n",
       " 'Proportion of those consuming wild animal products declined from 10.2%The copyright holder for this preprint (which was not peer-reviewed) is To investigate effects of the outbreak, we further assessed behavioural changes in exposure to live animals before and during the outbreak (Figure 2) , and intention to change after the outbreak ( Table 2 Panel B).',\n",
       " 'We found that respondents dramatically reduced exposure to live animals during the outbreak, with respondents in Wuhan changing their exposure much more significantly than in Shanghai.',\n",
       " 'Specifically, the frequency of visiting LPMs decreased from 23.3% (n=119) to 3.1% (n=16)The copyright holder for this preprint (which was not peer-reviewed) is .',\n",
       " 'In the survey, all respondents cared about the outbreak, and about one in five respondents in Wuhan reported starting to pay attention before Dec 31, 2019.',\n",
       " 'A national online survey on Jan 26 showed that the vast majority of people knew of the disease and related preventive measures, 66.5% reported that they would wear masks when outside their home, and 80% cancelled travel plans during the Spring Festival due to the outbreak.',\n",
       " 'During the period of our survey, the number of confirmed cases rose rapidly in Wuhan, from 4,109 to 18,454, but maintained low epidemic rates in Shanghai, with reported cases rising from 182 to 303.',\n",
       " 'In total, 510 respondents in Wuhan and 501 respondents in Shanghai completed the interview, and the overall response rate was 14.8%We found that wild animal consumption was more prevalent in Wuhan (10.2%) than in Shanghai (5.2%).',\n",
       " 'This can inform policy makers in China and other countries to implement and adjust containment strategies in response to the outbreak in the future.*Fever or cough symptoms in the past 2 weeks.(403) of respondents in Wuhan and 66.9% (335) of respondents in Shanghai supported permanent closure of wet markets (P<0.001).',\n",
       " '95% and 92% of respondents supported banning wild animal trade and quarantining Wuhan, and 75% were confident towards containment measures.',\n",
       " 'The proportion of respondents consuming wild animals declined significantly, 10.2%(n=52) to 0.6%(n=3) in Wuhan (p<0·001) and 5.2%(n=26) to 0.8%(n=4) in Shanghai (p<0·001) (Figure 2 ).',\n",
       " \"We found that respondents' risks of exposure to live animals declined significantly, reaching a very low level, and most respondents stopped wild animal consumption after this outbreak, especially in Wuhan.the author/funder, who has granted medRxiv a license to display the preprint in perpetuity.(52) to 0.6% (3) in Wuhan (p<0·001), and from 5.2% (26) to 0.8% (4) in Shanghai (p<0·001).\"]"
      ]
     },
     "execution_count": 168,
     "metadata": {},
     "output_type": "execute_result"
    }
   ],
   "source": [
    "cluster_indices = [[] for i in range(n_clusters)]\n",
    "for sentence_id, cluster_id in enumerate(kmeans.labels_):\n",
    "    cluster_indices[cluster_id].append(sentences[sentence_id])\n",
    "\n",
    "cluster_id = 4\n",
    "cluster_indices[cluster_id - 1]"
   ]
  },
  {
   "cell_type": "markdown",
   "metadata": {},
   "source": [
    "> Here we can see how cluster `1` and `5` are clusters with noisy sentences, thanks kmeans\n",
    "\n",
    "- Cluster `5`\n",
    "\n",
    "```\n",
    " 'https://doi.org/10.1101/2020.02.21.20026146 doi:',\n",
    " 'medRxiv preprint employment status, were collected in our survey.',\n",
    " 'medRxiv preprint Notes:',\n",
    " 'p value is shown between Wuhan and Shanghai.',\n",
    " 'medRxiv preprint 5 to reduce human transmission.',\n",
    " 'medRxiv preprint have therapeutic effects.',\n",
    " 'medRxiv preprint 4Word count (main text): 3489 :',\n",
    "```\n",
    "\n",
    "- Cluster `1`\n",
    "\n",
    "```\n",
    " 'https://doi.org/10.1101/2020.02.',\n",
    " '21.20026146 doi:',\n",
    " '28',\n",
    " '23',\n",
    " 'All rights reserved.',\n",
    " 'Our study has several limitations.',\n",
    " 'First, there may be recall bias.',\n",
    " '[15]',\n",
    " 'Notes:',\n",
    " '[22]',\n",
    " '22',\n",
    " '3(5.2)',\n",
    " '[3]',\n",
    "```\n",
    "\n",
    "* **Next remove clusters `1 and 5` and then summerize each cluster with transformers summerizer!**"
   ]
  },
  {
   "cell_type": "code",
   "execution_count": 176,
   "metadata": {
    "scrolled": true
   },
   "outputs": [
    {
     "data": {
      "text/plain": [
       "['the author/funder, who has granted medRxiv a license to display the preprint in perpetuity.',\n",
       " '\"2019 nCoV\" or \"COVID-19\".',\n",
       " 'https://doi.org/10.1101/2020.02.21.20026146 doi:',\n",
       " 'medRxiv preprint employment status, were collected in our survey.',\n",
       " 'medRxiv preprint Notes:',\n",
       " 'p value is shown between Wuhan and Shanghai.',\n",
       " 'medRxiv preprint 5 to reduce human transmission.',\n",
       " 'medRxiv preprint have therapeutic effects.',\n",
       " 'medRxiv preprint 4Word count (main text): 3489 :',\n",
       " 'medRxiv preprintAll rights reserved.',\n",
       " '21.20026146 doi: medRxiv preprint containment measures.',\n",
       " 'Multivariate logistic regression was used to estimate factors associated with public support for containment measures and confidence in intervention effectiveness.',\n",
       " 'medRxiv preprint Wholesale Market.',\n",
       " 'medRxiv preprint WHO stands for World Health Organization; PHEIC stands for public health emergency of international concern.',\n",
       " \"P value are from Chi square test or fisher's exact tests (when applicable).(1,011/6,836)\",\n",
       " 'medRxiv preprint current mitigating measures.',\n",
       " 'medRxiv preprint 8 from Wuhan.',\n",
       " 'the author/funder, who has granted medRxiv a license to display the preprint in perpetuity.the author/funder, who has granted medRxiv a license to display the preprint in perpetuity.',\n",
       " 'Odds ratios with 95% CI were obtained from multivariate binary logistic regressions.',\n",
       " 'medRxiv preprintCharacteristics of respondents, including gender, age, marital status, education, income, and All rights reserved.']"
      ]
     },
     "execution_count": 176,
     "metadata": {},
     "output_type": "execute_result"
    }
   ],
   "source": [
    "cluster_indices[5]"
   ]
  },
  {
   "cell_type": "code",
   "execution_count": 184,
   "metadata": {
    "scrolled": true
   },
   "outputs": [
    {
     "data": {
      "text/plain": [
       "['No reuse allowed without permission.',\n",
       " 'https://doi.org/10.1101/2020.02.',\n",
       " '21.20026146 doi:',\n",
       " '28',\n",
       " '23',\n",
       " 'All rights reserved.',\n",
       " 'Our study has several limitations.',\n",
       " 'First, there may be recall bias.',\n",
       " '[15]',\n",
       " 'Proportions are shown, and error bars represent 95% CIs.',\n",
       " 'Notes:',\n",
       " '[22]',\n",
       " '22',\n",
       " '3(5.2)',\n",
       " '[1]',\n",
       " '[2]',\n",
       " '[3]',\n",
       " '[4]',\n",
       " '6',\n",
       " '7',\n",
       " '8',\n",
       " '[9]',\n",
       " '[10]',\n",
       " '[11]',\n",
       " '[12] [13]',\n",
       " '18',\n",
       " 'The proportion and Odds Ratio with 95% confidence intervals (CI) were reported.',\n",
       " '10, 15',\n",
       " 'All data are n (%).',\n",
       " '(Appendix Figure 1 )',\n",
       " '.(102/501)',\n",
       " 'in Shanghai.',\n",
       " '[25]',\n",
       " '27',\n",
       " 'Significance level:',\n",
       " '*',\n",
       " '* p<0.01,',\n",
       " 'Exposure to All rights reserved.',\n",
       " '15',\n",
       " 'Most All rights reserved.',\n",
       " '79.0%In']"
      ]
     },
     "execution_count": 184,
     "metadata": {},
     "output_type": "execute_result"
    }
   ],
   "source": [
    "cluster_indices[1]"
   ]
  },
  {
   "cell_type": "code",
   "execution_count": 212,
   "metadata": {
    "scrolled": false
   },
   "outputs": [
    {
     "name": "stdout",
     "output_type": "stream",
     "text": [
      "('a ban on the wild animal trade, and 3) the quarantining of Wuhan. '\n",
      " 'respondents were also asked to report the extent of their confidence in the '\n",
      " 'effectiveness of these measures to quell the outbreak. The less educated and '\n",
      " 'those exposing to live animals at usual were less likely to support '\n",
      " 'containment measures. The Chinese Government further instituted nationwide '\n",
      " 'bans on all forms of wild animal transactions on Jan 26. To date there is no '\n",
      " 'primary research to quantify public behavioural response and support in '\n",
      " 'containment measures in response to the outbreak, authors say. Evidence is '\n",
      " 'urgently needed to help policy makers understand public response to outbreak '\n",
      " 'and support for the containment measures, but no evidence is available to '\n",
      " 'date, they say. The authors conclude that live animal transactions should be '\n",
      " 'more strictly regulated, and wild animal Transactions should be even '\n",
      " 'prohibited in the long term.')\n"
     ]
    }
   ],
   "source": [
    "def summarize_cluster(cluster_id: int, min_length=150, max_length=900):\n",
    "    cluster = \"\".join(cluster_indices[cluster_id]) \n",
    "    summary = summarizer(cluster, min_length=min_length, max_length=max_length) \n",
    "    return summary[0][\"summary_text\"] \n",
    "\n",
    "cluster0_summary = summarize_cluster(0)\n",
    "pprint.pprint(cluster0_summary)"
   ]
  },
  {
   "cell_type": "code",
   "execution_count": 213,
   "metadata": {},
   "outputs": [
    {
     "name": "stdout",
     "output_type": "stream",
     "text": [
      "('We aimed to identify behavioral changes in a cross-sectional survey, and '\n",
      " 'outcomes before the outbreak were measured based on participant recall. '\n",
      " 'Differences of outcome measures were compared before and during the '\n",
      " 'outbreak, and between two cities. Our target population was persons aged 18 '\n",
      " 'or over who had been living in the selected city for at least 6 months in '\n",
      " 'the year prior to the survey and were current residents at the time of the '\n",
      " 'survey. The anonymous phone interview addressed the concern of response bias '\n",
      " 'due to fear of being seen as criticizing the government. We plan to conduct '\n",
      " 'a second-round survey at the end of the outbreak to track the long-term '\n",
      " 'changes. We also seek to understand levels of public support for containment '\n",
      " 'measures and public confidence in their effectiveness to quell the outbreak.')\n"
     ]
    }
   ],
   "source": [
    "cluster1_summary = summarize_cluster(1)\n",
    "pprint.pprint(cluster1_summary)"
   ]
  },
  {
   "cell_type": "code",
   "execution_count": 214,
   "metadata": {},
   "outputs": [
    {
     "name": "stdout",
     "output_type": "stream",
     "text": [
      "('10% of respondents consumed products of wild animals in Wuhan, twice that '\n",
      " 'reported in Shanghai. In our survey, more than 20% of Respondents visited '\n",
      " 'wet markets at usual, which was similar inWuhan and Shanghai, despite '\n",
      " 'Shanghai being much more developed. As of Feb 16, 2020, a total of 70,548 '\n",
      " 'cases have been reported in mainland China, with 1,770 resulting deaths. The '\n",
      " 'outbreak has now spread beyond China to twenty-five other countries. The '\n",
      " 'research has received funding from Sanofi Pasteur, and the copyright holder '\n",
      " 'for this preprint (which was not peer-reviewed) is Wuhans. We found that '\n",
      " 'population exposures to live animals were similar before the outbreak except '\n",
      " 'that wild animal consumption was more prevalent in W Uhan.')\n"
     ]
    }
   ],
   "source": [
    "cluster2_summary = summarize_cluster(2)\n",
    "pprint.pprint(cluster2_summary)"
   ]
  },
  {
   "cell_type": "code",
   "execution_count": 215,
   "metadata": {},
   "outputs": [
    {
     "name": "stdout",
     "output_type": "stream",
     "text": [
      "('In China, there exists a long tradition of eating the meat and products of '\n",
      " 'wild animals. This persists into modern times due to a false but commonly '\n",
      " 'held belief that these products are dangerous. China has issued strict '\n",
      " 'regulations on wet markets where live and/or wild animals are traded, '\n",
      " 'including closing live poultry markets (LPMs) and bans on wild animal '\n",
      " 'transactions. The public responded quickly to this outbreak, and '\n",
      " 'significantly reduced their exposure to live animals and stopped wild animal '\n",
      " 'consumption, especially in Wuhan. With the currently high public support, '\n",
      " 'bans on the wild animal trade should be promoted, but the government must be '\n",
      " 'aware of the risk of creating an unregulated black market by instituting a '\n",
      " 'ban. The above measures should be given priority in China and other '\n",
      " 'countries to reduce current levels of COVID-19.')\n"
     ]
    }
   ],
   "source": [
    "cluster3_summary = summarize_cluster(3)\n",
    "pprint.pprint(cluster3_summary)"
   ]
  },
  {
   "cell_type": "code",
   "execution_count": 216,
   "metadata": {},
   "outputs": [
    {
     "name": "stdout",
     "output_type": "stream",
     "text": [
      "('Wuhan is the site of origin of the COVID-19 outbreak.Shanghai was selected '\n",
      " 'due to its status as a city that has been significantly affected. The '\n",
      " 'practice of consuming wild animal products in China dates back to '\n",
      " 'prehistoric times. The revival of this tradition may have set the '\n",
      " 'socio-biological context for the occurrence and spread of CO VID-19 in '\n",
      " 'China. We provide an assessment of behavioural change on exposure to live '\n",
      " 'animals during the outbreak, by comparison before andDuring the outbreak. '\n",
      " 'The study was approved by the Institutional Review Board of the School of '\n",
      " 'Public Health, Fudan University (IRB#2020-TYSQ-01-1). The Chinese government '\n",
      " 'introduced a series of All rights reserved. The author/funder has granted '\n",
      " 'medRxiv a license to display the preprint in perpetuity.')\n"
     ]
    }
   ],
   "source": [
    "cluster4_summary = summarize_cluster(4)\n",
    "pprint.pprint(cluster4_summary)"
   ]
  },
  {
   "cell_type": "code",
   "execution_count": 217,
   "metadata": {},
   "outputs": [
    {
     "name": "stdout",
     "output_type": "stream",
     "text": [
      "('The Chinese government has introduced a series of strict containment '\n",
      " 'measures. With high public support in containment measures, better '\n",
      " 'regulation of wet markets and healthy diets should be promoted. There was '\n",
      " 'evidence that females were more supportive towards all three containment '\n",
      " 'measures and that there was a positive association between education level '\n",
      " 'and the likelihood of supporting regulations on wet markets. They were very '\n",
      " 'supportive and confident for All rights reserved. For confidential support '\n",
      " 'call the Samaritans in the UK on 08457 90 90 90, visit a local Samaritans '\n",
      " 'branch or see www.samaritans.org for details. In the U.S. call the National '\n",
      " 'Suicide Prevention Line on 1-800-273-8255 or visit '\n",
      " 'www.suicidepreventionlifeline.org. For more information on how to help in '\n",
      " 'China, click here.')\n"
     ]
    }
   ],
   "source": [
    "cluster5_summary = summarize_cluster(5)\n",
    "pprint.pprint(cluster5_summary)"
   ]
  },
  {
   "cell_type": "code",
   "execution_count": null,
   "metadata": {},
   "outputs": [],
   "source": []
  }
 ],
 "metadata": {
  "kernelspec": {
   "display_name": "Python 3",
   "language": "python",
   "name": "python3"
  },
  "language_info": {
   "codemirror_mode": {
    "name": "ipython",
    "version": 3
   },
   "file_extension": ".py",
   "mimetype": "text/x-python",
   "name": "python",
   "nbconvert_exporter": "python",
   "pygments_lexer": "ipython3",
   "version": "3.7.7"
  },
  "varInspector": {
   "cols": {
    "lenName": 16,
    "lenType": 16,
    "lenVar": 40
   },
   "kernels_config": {
    "python": {
     "delete_cmd_postfix": "",
     "delete_cmd_prefix": "del ",
     "library": "var_list.py",
     "varRefreshCmd": "print(var_dic_list())"
    },
    "r": {
     "delete_cmd_postfix": ") ",
     "delete_cmd_prefix": "rm(",
     "library": "var_list.r",
     "varRefreshCmd": "cat(var_dic_list()) "
    }
   },
   "types_to_exclude": [
    "module",
    "function",
    "builtin_function_or_method",
    "instance",
    "_Feature"
   ],
   "window_display": false
  }
 },
 "nbformat": 4,
 "nbformat_minor": 4
}
