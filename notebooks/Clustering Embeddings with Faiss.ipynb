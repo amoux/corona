{
 "cells": [
  {
   "cell_type": "code",
   "execution_count": 34,
   "metadata": {},
   "outputs": [],
   "source": [
    "import sys\n",
    "sys.path.append(\"../\")\n",
    "\n",
    "from corona_nlp.dataset import AutoTokenizer, AutoModel\n",
    "from corona_nlp.dataset import BERT_MODELS_UNCASED\n",
    "from corona_nlp.utils import DataIO\n",
    "import numpy as np"
   ]
  },
  {
   "cell_type": "code",
   "execution_count": 35,
   "metadata": {},
   "outputs": [
    {
     "data": {
      "text/plain": [
       "(130759, 768)"
      ]
     },
     "execution_count": 35,
     "metadata": {},
     "output_type": "execute_result"
    }
   ],
   "source": [
    "sentences = DataIO.load_data(\"biomed_sents\")\n",
    "embedding = np.array(DataIO.load_data(\"biomed_embedd\"))\n",
    "embedding.shape"
   ]
  },
  {
   "cell_type": "code",
   "execution_count": 31,
   "metadata": {},
   "outputs": [],
   "source": [
    "bert_scibert_uncased = BERT_MODELS_UNCASED['scibert']\n",
    "tokenizer = AutoTokenizer.from_pretrained(bert_scibert_uncased)"
   ]
  },
  {
   "cell_type": "code",
   "execution_count": 45,
   "metadata": {},
   "outputs": [
    {
     "data": {
      "text/plain": [
       "(130759, 768)"
      ]
     },
     "execution_count": 45,
     "metadata": {},
     "output_type": "execute_result"
    }
   ],
   "source": [
    "embedding.shape"
   ]
  },
  {
   "cell_type": "markdown",
   "metadata": {},
   "source": [
    "## Finding K\n",
    "\n",
    "> In the following code, we can see that the embeddings are relative in proportion to each other - since the sentences decrease respectably. Also, note that the sentences do come from the same source `biorxiv_medrxiv`.\n",
    "\n",
    "- k : `9` (number of clusters based on the embeddings)"
   ]
  },
  {
   "cell_type": "code",
   "execution_count": 48,
   "metadata": {},
   "outputs": [],
   "source": [
    "from sklearn.cluster import KMeans\n",
    "import matplotlib.pyplot as plt"
   ]
  },
  {
   "cell_type": "code",
   "execution_count": 81,
   "metadata": {},
   "outputs": [
    {
     "data": {
      "image/png": "[encoded data removed]",
      "text/plain": [
       "<Figure size 432x288 with 1 Axes>"
      ]
     },
     "metadata": {
      "needs_background": "light"
     },
     "output_type": "display_data"
    }
   ],
   "source": [
    "n_init = 10\n",
    "maxrange = 11\n",
    "distortions = []\n",
    "for i in range(1, maxrange):\n",
    "    km = KMeans(n_clusters=i, init='random',\n",
    "                n_init=n_init, max_iter=300,\n",
    "                tol=1e-04, random_state=0)\n",
    "    km.fit(embedding)\n",
    "    distortions.append(km.inertia_)\n",
    "\n",
    "plt.plot(range(1, maxrange), distortions, marker='o')\n",
    "plt.xlabel(\"number-of-clusters\")\n",
    "plt.ylabel(\"distortion\")\n",
    "plt.savefig(\"cluster_distortion.png\")"
   ]
  },
  {
   "cell_type": "code",
   "execution_count": 97,
   "metadata": {},
   "outputs": [
    {
     "data": {
      "text/plain": [
       "(5, 768)"
      ]
     },
     "execution_count": 97,
     "metadata": {},
     "output_type": "execute_result"
    }
   ],
   "source": [
    "import random\n",
    "from sentence_transformers import SentenceTransformer\n",
    "scibert_nli_model = \"/home/ego/huggingface-models/scibert-nli/\"\n",
    "transformer = SentenceTransformer(scibert_nli_model)\n",
    "\n",
    "# lets load and embedd five randomly chosen sentences\n",
    "# and use them to query agains the clusters computations:\n",
    "indices = random.sample(range(embedding.shape[0]), k=5)\n",
    "queries = [sentences[i] for i in indices]\n",
    "embedd_queries = np.asarray(transformer.encode(queries))\n",
    "embedd_queries.shape"
   ]
  },
  {
   "cell_type": "code",
   "execution_count": 50,
   "metadata": {},
   "outputs": [
    {
     "data": {
      "text/plain": [
       "False"
      ]
     },
     "execution_count": 50,
     "metadata": {},
     "output_type": "execute_result"
    }
   ],
   "source": [
    "dimension = embedding.shape[1]\n",
    "nlist = 9 # number of clusters\n",
    "quantiser = faiss.IndexFlatL2(dimension)\n",
    "index = faiss.IndexIVFFlat(quantiser, dimension, nlist, faiss.METRIC_L2)\n",
    "if not index.is_trained:\n",
    "    index.train(embedding)\n",
    "    index.add(embedding)"
   ]
  },
  {
   "cell_type": "code",
   "execution_count": 95,
   "metadata": {},
   "outputs": [
    {
     "data": {
      "text/plain": [
       "577243.125"
      ]
     },
     "execution_count": 95,
     "metadata": {},
     "output_type": "execute_result"
    }
   ],
   "source": [
    "ncentroids = 9\n",
    "niter = 20\n",
    "dimension = embedding.shape[1]\n",
    "kmeans = faiss.Kmeans(dimension, ncentroids, niter=niter, verbose=True)\n",
    "kmeans.train(embedding)"
   ]
  },
  {
   "cell_type": "markdown",
   "metadata": {},
   "source": [
    "## Nearest Centroid per Embedded Query\n",
    "\n",
    "> To compute the mapping from the embeddings to the cluster centroids after kmeans has finished training:"
   ]
  },
  {
   "cell_type": "code",
   "execution_count": 100,
   "metadata": {},
   "outputs": [
    {
     "data": {
      "text/plain": [
       "array([[6],\n",
       "       [6],\n",
       "       [1],\n",
       "       [2],\n",
       "       [5]])"
      ]
     },
     "execution_count": 100,
     "metadata": {},
     "output_type": "execute_result"
    }
   ],
   "source": [
    "k = 1 # number of nearest neighbors per query\n",
    "D, I = kmeans.index.search(embedd_queries, k)\n",
    "I  # Index of most similar clusters"
   ]
  },
  {
   "cell_type": "code",
   "execution_count": 107,
   "metadata": {},
   "outputs": [
    {
     "name": "stdout",
     "output_type": "stream",
     "text": [
      "cluster(6), distance: 342.02392578125\n",
      "Q : Informed consent was obtained from all participating patients if they were 18 years or older, from both parents and patients if they were 12-18 years of age, and from parents only if they were younger than 12 years old.\n",
      "\n",
      "cluster(6), distance: 326.0296936035156\n",
      "Q : Since the daily incidence data is an integer, Poisson regression was used to fit the exponential growth rate.\n",
      "\n",
      "cluster(1), distance: 263.2742004394531\n",
      "Q : We further predict the out-of-the-set NCP confirmed cases and monitor that the next peak of new diagnoses will occur on February 16 th and 17 th .\n",
      "\n",
      "cluster(2), distance: 245.18121337890625\n",
      "Q : The figures and tables in this paper are generated by further Rmd scripts that operate on the standardized input data.\n",
      "\n",
      "cluster(5), distance: 206.76113891601562\n",
      "Q : bioRxiv preprint inhibition of the transcriptional complex that contains IRF9 (not shown).\n",
      "\n"
     ]
    }
   ],
   "source": [
    "for idx, dist, query in zip(I, D, queries):\n",
    "    print(f'cluster({idx[0]}), distance: {dist[0]}\\nQ : {query}\\n')"
   ]
  },
  {
   "cell_type": "markdown",
   "metadata": {},
   "source": [
    "> Computing the nearest points for all nine centroids (clusters) and obtaining `k` samples for each of the centroids."
   ]
  },
  {
   "cell_type": "code",
   "execution_count": 108,
   "metadata": {},
   "outputs": [
    {
     "data": {
      "text/plain": [
       "array([[ 68936,  87540,  41786,  81016,  57707,  18372,   9274,  83151,\n",
       "        100985,  71430,  10261, 116465,  49384,  20718,  83573],\n",
       "       [ 83819,  72933,  47823,  85195,  97327,  47144, 110321,  56448,\n",
       "        101182,  89645,  10783,  36102,  12658,  55301,  73595],\n",
       "       [ 78907,  84244,  92317, 123030,  36290,  68460,  48955, 128749,\n",
       "          6954,  33749,  38222, 105797,  42366, 114682,  88442],\n",
       "       [118772, 107762,   2599,  83309,  50618,   9727,  36345,  51062,\n",
       "         98816,  13216, 121381,  83638,  44289,  24310,  99185],\n",
       "       [ 13026, 113849, 115972,  26733,  26542,  57780,  18742,  36890,\n",
       "         90439,   9605,  29852,   1752, 105879, 108021,   6809],\n",
       "       [ 22657,  18569,  89385, 104751,  67653,  56021,  38478,  48590,\n",
       "        129308,  71789, 112399, 115909,  87162,  75051, 128669],\n",
       "       [ 23310,  77668,  22025, 127808,   6925,  99071,  23572,  34807,\n",
       "         93986,  41568,  77222, 130282,   3161,   5657,  45222],\n",
       "       [ 84468,  29006,  70283,  12285,  97338,  87151,  23545,  27497,\n",
       "         10060,  40953,  23078,  16178,  59318, 120359,  33580],\n",
       "       [ 45560,  92447,  62778,   6654,  43767, 130242, 128073,  69684,\n",
       "         20962,  39976,  74395,  90463, 109576,  51018,  62845]])"
      ]
     },
     "execution_count": 108,
     "metadata": {},
     "output_type": "execute_result"
    }
   ],
   "source": [
    "index = faiss.IndexFlat(dimension)\n",
    "index.add(embedding)\n",
    "k = 15 \n",
    "D2, I2 = index.search(kmeans.centroids, k)\n",
    "I2"
   ]
  },
  {
   "cell_type": "code",
   "execution_count": 113,
   "metadata": {},
   "outputs": [
    {
     "name": "stdout",
     "output_type": "stream",
     "text": [
      "number of centroids (clusters): 9\n",
      "number of nearest neighbors: 15\n"
     ]
    }
   ],
   "source": [
    "n_centroids, n_nearest = I2.shape\n",
    "print(\"number of centroids (clusters):\", n_centroids)\n",
    "print(\"number of nearest neighbors:\", n_nearest)"
   ]
  },
  {
   "cell_type": "code",
   "execution_count": 140,
   "metadata": {
    "scrolled": true
   },
   "outputs": [
    {
     "name": "stdout",
     "output_type": "stream",
     "text": [
      "cluster(1)\n",
      "\n",
      "< (0, sent_id=68936) >\n",
      " * In brief, nucleic acids were prepared from culture material with high levels of 69 SARS-CoV-2 growth, and sequenced with use of poly(T) adaptors and an R9.4 flowcell on a 70 author/funder.\n",
      "< (1, sent_id=87540) >\n",
      " * Hence, we conjectured that dead 3 Malayan pangolin may carry a new coronavirus close to 2019-nCoV. 4 To confirm our assumption, we downloaded raw RNA-seq data (SRA accession 5 number PRJNA573298) of those two lung samples from SRA and conducted consistent 6 quality control and contamination removing as described by Liu's study (7) .\n",
      "< (2, sent_id=41786) >\n",
      " * It has proven [3] (https:// www.ncbi.nlm.nih.gov/genome/viruses/variation) includes specialized components that attempt to normalize annotation of previously submitted sequences for rotaviruses, dengue virus, West Nile virus, ebolaviruses, Zika virus, and MERS coronavirus.\n",
      "< (3, sent_id=81016) >\n",
      " * Heatmap of differential expression values for interferome 341 genes, Table S1 : Genes up-regulated in all virus infections, The copyright holder for this preprint (which was not peer-reviewed) is the . https://doi.org/10.1101/090936 doi: bioRxiv preprint each virus or pairs of viruses.\n",
      "< (4, sent_id=57707) >\n",
      " * https://doi.org/10.1101/2020.02.03.20020263 doi: medRxiv preprint spike is a transmembrane glycoprotein that plays a pivotal role in mediating viral infection through binding the host receptor [29, 30] .\n",
      "< (5, sent_id=18372) >\n",
      " * Available sequences for protein candidates wS, wORF3a, wE, wM, wORF6, wORF7a, wORF7b, wORF8, wN, and wORF10 have been extracted from NCBI Virus repository [70] (collected on January 29, 2019) and consequently used further in the sequence analysis and structural modeling\n",
      "< (6, sent_id=9274) >\n",
      " * For two strains, Miass519 and Miass527, high-throughput sequencing of virus purified from IRE/CTVM19 cell supernate was carried out to obtain full genomes, while for the Galozero-14-T20426 strain partial sequences of segment 2 were obtained via Sanger sequencing using primers JMun1S and Miass_gly_1R\n",
      "< (7, sent_id=83151) >\n",
      " * To functionally verify the bipartite signal processor, reverse transcription LAMP assays containing the degenerate CAN3.2GO or the NS1NS5.2GO probes were supplemented with primers specific to either ZIKV NS1, NS3, NS5, or CA genes.\n",
      "< (8, sent_id=100985) >\n",
      " * The observation of this phenomenon in 2019-nCoV S suggests that it shares the same 57 mechanism of triggering that is thought to be conserved among the Coronaviridae, wherein 58 receptor-binding to exposed RBDs leads to an unstable 3 RBD-up conformation that results in 59 shedding of S1 and refolding of S2 (11, 12) .\n",
      "< (9, sent_id=71430) >\n",
      " * Our combined approaches 381 resulted in the identification of the core stress granule component G3BP1 as a host 382 protein critical for the replication of both murine and human noroviruses in cell 383 culture.\n",
      "< (10, sent_id=10261) >\n",
      " * To assay PRF in a comprehensive manner we designed a synthetic oligonucleotide library containing (a) 12809 variants with systematic sequence manipulations of previously reported frameshift sites, (b) 4019 native viral and human sequences suspected to have the ability to induce frameshifting based on present predictions (Belew et al., 2008) , dual coding potential (Chung et al., 2007) , ribosome profiling data\n",
      "< (11, sent_id=116465) >\n",
      " * To determine which stage of the virus replication cycle is affected in XP knock-out viruses, we quantified released virus and viral protein and RNA levels for BSR cells electroporated with in vitro transcribed full-length pAVIC1 T7 RNAs.\n",
      "< (12, sent_id=49384) >\n",
      " * In order to further investigate 171 its role, we performed a flexibility analysis using a reference structure 172 (SARS-CoV-2 RBD containing P499) and an in silico mutated form P499T, 173 a residue found in SARS-CoV and most of the clade 2.\n",
      "< (13, sent_id=20718) >\n",
      " * Narnaviral sequences were identified in these databases using, tblastn (version 2.8.0) (Camacho et al. 2009 ), with the RdRp protein sequence of ScNV-20S and the updated RdRp sequence of ONLV1 (completed in this study) as queries.\n",
      "< (14, sent_id=83573) >\n",
      " * Next, we analyzed HCoV-HKU1 replication in the presence of a family-specific KLK 148 inhibitor SPINK6 at a concentration of 10 µg/ml (62, 63) or 100 µM camostat (a broad inhibitor 149 of serine proteases, also a potent inhibitor of KLK13) (34, 64).\n",
      "\n",
      "cluster(2)\n",
      "\n",
      "< (0, sent_id=83819) >\n",
      " * As of 18:00 on February 11, 2020, there were 42,744 confirmed cases, 21,675 30 suspected cases, 4,161 cured cases, and 1,017 deaths in China .\n",
      "< (1, sent_id=72933) >\n",
      " * 5, 6 As of 17 February 2020, a cumulative total of 72,436 confirmed cases (including 11,741 currently severe cases), 6,242 currently suspect cases, a cumulative total of 1,868 deaths and 12,552 cases discharged from hospital were reported by National Health Commission of the People's Republic of China (NHC) in mainland China.\n",
      "< (2, sent_id=47823) >\n",
      " * In the case of HIV-1 gag-pol, for example, previous assays have shown that 5-10% of translated protein product is frameshifted (Brierley and Dos Ramos, 2006; Dulude et al., 2002; Grentzmann et al., 1998; Mouzakis et al., 2013) .\n",
      "< (3, sent_id=85195) >\n",
      " * Up to February 11, 2020, according to the reports published by the Chinese Center for Disease Control and Prevention, all prefecturelevel cities of mainland China have confirmed cases and the total number reaches to 42667, of whom 1016 have died and 4242 recovered; 24 oversea countries have 398 confirmed cases (1 died).\n",
      "< (4, sent_id=97327) >\n",
      " * (modified) assays were 93.4%, 116.5%, 110%, 86% and 119.6%, respectively, when applied to serial dilution of 1:10 (1.48x10 8 to 1.48x10 2 copies/PCR) of the synthetic SARS-CoV-2 diagnostic RNA.\n",
      "< (5, sent_id=47144) >\n",
      " * In the same period, the rate of mortality for all causes and non-COVID-19 in this hospital, were 2.3% (162/7119) and 1.4% (80/5785), respectively.\n",
      "< (6, sent_id=110321) >\n",
      " * We 345 identified a putative slippery site heptamer, 5′-GGGTTTT-3′, at the region from nt 1, 968 to 346 1,974 for the -1 ribosomal frameshift, which may be associated with production of the fusion 347 protein of 170 kDa in MrV40L. A previous study suggested that in the S. cerevisiae L-A virus, 348 the rate of ribosomal frameshifs was approximately 1.8%, giving 120 CP and 2 CP-RDRP 349 fusion protein molecules per virus particle (11).\n",
      "< (7, sent_id=56448) >\n",
      " * Notwithstanding this, our 352 replication cohort comprised approximately twice as many cases as the discovery cohort, 353 and this larger sample enabled the identification and characterization of two subgroups of 354 IRF7 lo children, and only one of these subgroups was characterized by delayed progression.\n",
      "< (8, sent_id=101182) >\n",
      " * The classification of case fatalities among different age groups were shown in Table 1 and Figure 1D and E. Fatalities in patients younger than 30 years of age, 30 to 49, 50 to 69, 70 and older were 0, 1.5%, 3.6% and 17.8% respectively among all suspected and confirmed patients ( Figure 1D ).\n",
      "< (9, sent_id=89645) >\n",
      " * As of 18 February 2020, NCP has caused 73400 confirmed cases including 1870 deaths, 6242 suspected cases, and 12734 cured cases in mainland released by the National Health Commission of China.\n",
      "< (10, sent_id=10783) >\n",
      " * Interestingly, there was a linear correlation between the magnitude of the TLR5 effect and the 113 proportion of genes that are either published or predicted to be downstream of the NFκB pathway 114 (Supplementary Figure 2C) : among the genes that were 70-90% upregulated in Tlr5-sufficient 115 mice compared to Tlr5-deficient mice, almost 90% were in the NFκB pathway, while this 116 proportion fell to 50% among the genes that were no different between genotypes.\n",
      "< (11, sent_id=36102) >\n",
      " * bioRxiv preprint %) for the WT and of ~ 16.6 % (comprised between 5 to 93 %) for the mutant, in particular the substitution of C to T. While for the S segment mutations appear along the entire for the WT and clustered for the mutant at respective frequencies of 14.6 % and 19.5 %.\n",
      "< (12, sent_id=12658) >\n",
      " * The relative changes were 1.00 (0.03) in DREADD-negative cells (n=15, p=0.890, One Sample Wilcoxon Signed Rank Test), 1.04 (0.03) in hM4Di-expressing cells, (n=12, p<0.001, One Sample Wilcoxon Signed Rank Test) and 0.91 (0.09) in hM3Dq-expressing cells, (n=13, p=0.001, One Sample Wilcoxon Signed Rank Test), Figure 1E ).\n",
      "< (13, sent_id=55301) >\n",
      " * By the time of the acceptance of our paper, according to the official data released on 319 the 29th of February, the cumulative number confirmed infected cases in Hubei was 320 ∼67,000, that of recovered was ∼31,300 and the death toll was ∼2,800.\n",
      "< (14, sent_id=73595) >\n",
      " * For example, at an FDR of 10%, we identified 3,735 past rank-associated genes in the control condition, compared to 1,712 and 141 in the LPS and Gard conditions, respectively (Fig. 4A) .\n",
      "\n",
      "cluster(3)\n",
      "\n",
      "< (0, sent_id=78907) >\n",
      " * As shown here and in the accompanying paper (Oberbeckmann & Krietenstein et al.) , remodelers may mediate this selection in two ways.\n",
      "< (1, sent_id=84244) >\n",
      " * For measuring the impact of correction on structure and transcript assembly accuracies, we computed the proportion of (simulated) long reads whose transcript structure could be correctly elucidated by aligners and their ability to preserve true exon connectivity and to improve false ones (cf : Tables 2A and 2B) .\n",
      "< (2, sent_id=92317) >\n",
      " * Indeed, localization of viral MPs to PD has been demonstrated, and some MPs can increase the PD size exclusion limit to allow for the passage of viruses into adjacent cells (reviewed by Benitez-Alfonso et al., 2010; Niehl and Henlein, 2011) .\n",
      "< (3, sent_id=123030) >\n",
      " * is the . https://doi.org/10.1101/502575 doi: bioRxiv preprint 15 medical care with appropriate treatment.\n",
      "< (4, sent_id=36290) >\n",
      " * To investigate the impact of hetero-oligomerisation on the ability of IFIT1 to inhibit cap0 dependent translation we used a similar approach to that previously described by Young et al.\n",
      "< (5, sent_id=68460) >\n",
      " * Vesicle diameter distributions were measured using an assay developed by the Stamou group (Hatzakis et al., 2009; Kunding et al., 2008;\n",
      "< (6, sent_id=48955) >\n",
      " * Therefore, our observations raise the question of whether the presumed role of these proteins in driving cellular membrane protrusions can be justified on the basis of in vitro studies of their isolated I-BAR domains (Mattila et al., 2007; Saarikangas et al., 2009 ).\n",
      "< (7, sent_id=128749) >\n",
      " * doi: bioRxiv preprint Community detection To find 'communities', or as commonly referred to, 'modules', we used the Map Equation objective function to calculate the optimal partition of the network [62, 63] .\n",
      "< (8, sent_id=6954) >\n",
      " * For sequence extension different strategies were tested and evaluated (see Figure 4 , Supplement Table S2 ):\n",
      "< (9, sent_id=33749) >\n",
      " * We also compare the method performance with that of probabilities derived from the time between infection dates and the serial interval distribution motivated by the Wallinga and Teunis method (4).\n",
      "< (10, sent_id=38222) >\n",
      " * Given the different sources of experimental data we estimated the parameter values using a multi-objective optimization strategy to simultaneously compare the Harringtonine run-off data, the fractions of shifted and nonshifted spots and the ribosome occupancy, as follows:\n",
      "< (11, sent_id=105797) >\n",
      " * 32 Statistical development led to approaches for the estimation of the generation time 33 distribution [7, 12, 13] or jointly of the basic reproduction number and the generation 34 time distribution [14] [15] [16] .\n",
      "< (12, sent_id=42366) >\n",
      " * //doi.org/10.1101/2020.03.09.984393 doi: bioRxiv preprint / to cause double-strand DNA breaks, we hypothesized that this genomic region might be pleiotropic -a single shared genetic variant affects the responses to each drug.\n",
      "< (13, sent_id=114682) >\n",
      " * Biologically-specific models can predict the magnitude and frequency dependence of fitness outcomes in mix experiments, for example, and explain the sources of nonadditivity [46, 47, 48, 33] .\n",
      "< (14, sent_id=88442) >\n",
      " * The binding affinity (ΔG in kcal mol -1 ) of the docked complexes were later analyzed by PRODIGY tool of HADDOCK webserver (https://haddock.science.uu.nl/).\n",
      "\n",
      "cluster(4)\n",
      "\n",
      "< (0, sent_id=118772) >\n",
      " * (Fig. 2C , S1A).\n",
      "< (1, sent_id=107762) >\n",
      " * Fig 1) (3, 4) .\n",
      "< (2, sent_id=2599) >\n",
      " * () were used (Table S1)\n",
      "< (3, sent_id=83309) >\n",
      " * (s 1 , s 2 , . . .\n",
      "< (4, sent_id=50618) >\n",
      " * (Fig. 1A,C and Fig.\n",
      "< (5, sent_id=9727) >\n",
      " * (Fig 1C, D) (23).\n",
      "< (6, sent_id=36345) >\n",
      " * and Sub+hTERT-int, respectively).\n",
      "< (7, sent_id=51062) >\n",
      " * [32] ( Table 1) .\n",
      "< (8, sent_id=98816) >\n",
      " * ( Figure 2a ; Table 3 ).\n",
      "< (9, sent_id=13216) >\n",
      " * ( Fig. 1C and Fig.\n",
      "< (10, sent_id=121381) >\n",
      " * ( Fig 2E and S3A-C) .\n",
      "< (11, sent_id=83638) >\n",
      " * 1B, 1C and Table 1 ).\n",
      "< (12, sent_id=44289) >\n",
      " * Rohatgi et al., 2014) .\n",
      "< (13, sent_id=24310) >\n",
      " * 1B-C and S2 ).\n",
      "< (14, sent_id=99185) >\n",
      " * ( Fig. 8A and Table 3 ).\n",
      "\n",
      "cluster(5)\n",
      "\n",
      "< (0, sent_id=13026) >\n",
      " * Our initial hypothesis for Muc4 to play a 176 role in controlling virus replication proved incorrect, or, at the very least, substantially more 177 complex than a simple, direct correlate; however, our exploration found a disease-interaction 178 that played a role in pathogenesis across multiple viruses.\n",
      "< (1, sent_id=113849) >\n",
      " * The conflicting conclusions from our two scenarios, driven largely by the differences in the extent of presymptomatic transmission, highlight the urgent need for more data to clarify key epidemiological parameters of COVID-19, particularly the serial interval and the extent of presymptomatic transmission, in order to inform response efforts.\n",
      "< (2, sent_id=115972) >\n",
      " * Furthermore, in the previous section, we highlighted some limitations in the standard formulation of deterministic models to account for the specific phenomena of population 'fade-out' (or spontaneous transmission interruption) which are present in the real world due to chance effects in population growth and decay especially when host population densities are low.\n",
      "< (3, sent_id=26733) >\n",
      " * Such pairwise VirScan comparisons would be particularly problematic for our previous analytical approach, because (i) a low number (but high proportion) of changing peptides may be observed during response to a single infection, and (ii)\n",
      "< (4, sent_id=26542) >\n",
      " * Discriminating between positive or negative interactions between pathogens in populations is complicated by the short time window that an acute pathogen is shedding (and thus detectable with molecular methods) and by potentially confounding host environments (Tompkins et al. 2011) .\n",
      "< (5, sent_id=57780) >\n",
      " * In some situations, empiric regimens may lack activity against an underlying microbe, leading to treatment failure, disease progression, and consequent adverse outcomes (5, 9) .\n",
      "< (6, sent_id=18742) >\n",
      " * Given the considerable complexity in the COVID-19 virus spread dynamics and potentially inaccurate information of quarantine measures as well as likely under-reported proportions of infected and recovered cases and deaths, it is of critical importance to quantify and report uncertainty in the forecast.\n",
      "< (7, sent_id=36890) >\n",
      " * The data used, as for most epidemiological studies relies on the number of confirmed cases, which could be very different from the number of actual cases, due to factors such as variations in case reporting policies and abilities to test for the disease.\n",
      "< (8, sent_id=90439) >\n",
      " * While we still value the importance of nucleic acid detection in the diagnosis of SARS-COV-2 infection, we must also note that the high number of false negatives due to several factors such as methodological disadvantages, disease stages, and methods for specimen collection might delay diagnosis and disease control.\n",
      "< (9, sent_id=9605) >\n",
      " * As a result, relying on R 0 alone is often misleading when comparing different pathogens or outbreaks of the same pathogen in different settings [13]\n",
      "< (10, sent_id=29852) >\n",
      " * The migration patterns assumed within each model are quite different in LAC (see Supporting Information), suggesting that models which have not tested the relative fit of each and use one alone could be prone to errors in estimated spread of ZIKV.\n",
      "< (11, sent_id=1752) >\n",
      " * In other 157 words, if a country has a high number of confirmed cases during the first stage, it 158 means that the country either lacks adequate medical conditions and epidemic 159 control measures or is highly vulnerable to China.\n",
      "< (12, sent_id=105879) >\n",
      " * Second, RNA virus sequencing tends to be compounded by gene expression and fast degradation and thus the observed sequencing coverage along each haplotype, or even a contig, can be more heterogeneous than expected.\n",
      "< (13, sent_id=108021) >\n",
      " * current diagnostics may not remain fit for purpose and therefore metagenomic approaches provide independent verification of the presence of viral genomes as well information on the underlying microbiome -which may contribute to severe disease in COVID-19.\n",
      "< (14, sent_id=6809) >\n",
      " * While this max-101 imises the fitting flexibility of the renewal model, it often results in noisy and 102 unreliable estimates that possess many spurious reproduction number changes 103 [6].\n",
      "\n",
      "cluster(6)\n",
      "\n",
      "< (0, sent_id=22657) >\n",
      " * Moreover, while NS3118-229 and NS3Δ118-182 fragments were not able to activate Elk1 254 as previously shown in Figure 2C , both are partially, but significantly, able to block the IFN-β 255 promoter activity ( Figure 8A ).\n",
      "< (1, sent_id=18569) >\n",
      " * While Franz and colleagues 318 concluded that cGAMP is not produced in response to VSV infection, we also 319 considered the possibility that cGAMP levels may be below the limit of detection 320 and/or rapidly degraded.\n",
      "< (2, sent_id=89385) >\n",
      " * Using our comprehensive assay we observed that -1 slippery sites generally lack the ability to frameshift in the 3' direction (and therefore do not give a signal in the +1 frame), whereas +1 slippery sites do have the ability to induce -1 frameshifting ( Fig 1E) .\n",
      "< (3, sent_id=104751) >\n",
      " * or ARTD12 167 showed reduced replicon replication, whereas no influence of the PARylating ARTD1 or 168 ARTD14 enzymes, which do not respond to IFNa, was observed ( Supplementary Fig.\n",
      "< (4, sent_id=67653) >\n",
      " * Furthermore, these results corroborate 156 previous reports that nsp1 is likely not an integral component of the coronavirus RTC (10-12, 157 42).\n",
      "< (5, sent_id=56021) >\n",
      " * The copyright holder for this preprint (which was not peer-reviewed) is the . https://doi.org/10.1101/300129 doi: bioRxiv preprint phospho-JNK (34.5-to 120-fold) and phospho-p38 (1.7-to 23.9-fold) at 12-24 h.p.i. 411 were detected in NDV-infected cells, both of which were almost undetectable in 412 mock-infected cells.\n",
      "< (6, sent_id=38478) >\n",
      " * Using the same experimental set up as was used for the IL-6 derived SRE reporter, we 317 observed that while the GADD45B 3' UTR protected against SOX and vhs, it was unable to 318 protect against degradation by muSOX, BGLF5, and PA-X\n",
      "< (7, sent_id=48590) >\n",
      " * Conversely, the short Chd1-ruler hardly contributes to +1 positioning in vivo (Kubik et al., 2019; Ocampo et al., 2016; van Bakel et al., 2013) .\n",
      "< (8, sent_id=129308) >\n",
      " * By contrast, comparison with randomized E. coli SSU or H. sapiens mRNA of the same length results in non-significant scores (p-values of 0.10 or higher Table 1B) .\n",
      "< (9, sent_id=71789) >\n",
      " * To determine if this was 304 the DC subtype responsible for ISG induction by aminoglycosides, we depleted mice of 305 The copyright holder for this preprint (which was not peer-reviewed) is the . https://doi.org/10.1101/248617 doi:\n",
      "< (10, sent_id=112399) >\n",
      " * Lastly, when RNaseL -/-/ PKR -/-BMMs were infected with ExoN(-) virus, 330 viral replication was not rescued, suggesting that RNase L and PKR are not required for ExoN(-) 331 virus restriction (Fig. 4C) .\n",
      "< (11, sent_id=115909) >\n",
      " * This observed decrease in viral gene expression was similar to the decrease demonstrated during infection with bona fide FLUAV ( Figure 2D and 2E) and suggests EPS8 does not specifically target HAmediated entry.\n",
      "< (12, sent_id=87162) >\n",
      " * Despite an increased sensitivity to the effects of IFN 113 treatment, MHV ExoN mutants failed to induce detectable IFN-β gene expression or RNase L-114 mediated ribosomal RNA (rRNA) degradation and only a limited decrease in viral RNA 115 accumulation was observed.\n",
      "< (13, sent_id=75051) >\n",
      " * We found lack of kindling effects in many CC strains, including those with intermediate initial seizure susceptibility, such as CC055 and CC051, suggesting resistance to epileptogenesis is not a consequence of a floor effect of the flurothyl kindling model (Supplemental Fig. 4 ).\n",
      "< (14, sent_id=128669) >\n",
      " * The copyright holder for this preprint (which was not peer-reviewed) is the . https://doi.org/10.1101/331835 doi: bioRxiv preprint nsP1a interacts with CD63 in vivo.\n",
      "\n",
      "cluster(7)\n",
      "\n",
      "< (0, sent_id=23310) >\n",
      " * The predicted values by our model well match the reported infected cases (Rsquared: 0.86, RMSE: 6.35, P < 0.0001, Figure 6 author/funder, who has granted medRxiv a license to display the preprint in perpetuity.\n",
      "< (1, sent_id=77668) >\n",
      " * However, when the above substitutions (S37P, G48L, Q58E, I84V or 240 L89I) were introduced in the WT sequence they showed parallel replication capacities 241 to those observed with a MAX background.\n",
      "< (2, sent_id=22025) >\n",
      " * The method continued to perform well even at very high 523 spillover rates (S7 Fig, S2 Table) and when the offspring distribution used in simulations 524 differed from the one assumed in the inference (S8 Fig, S3 Table) .\n",
      "< (3, sent_id=127808) >\n",
      " * The main chains of the two protein models were highly coincident and the conformation was in the same direction, and the possibility of combining 2019-nCoV with ACE2 was increased from another perspective.\n",
      "< (4, sent_id=6925) >\n",
      " * If the high ISD of overlapping genes is primarily driven by the intrinsic properties of the genetic code, then we expect their ISD values to closely match those expected from translation in the +1 vs. +2 frames of non-overlapping genes.\n",
      "< (5, sent_id=99071) >\n",
      " * We obtained excellent agreement between mean 124 estimates of numbers of forward transitions using parsimony analysis and counts estimated 125 from our discrete traits analysis (Table S1, Fig. S12b) , noting that the parsimony approach does We calculated the depth of the node of each transition on the genus-level phylogenetic tree 151 relative to the ancestral node\n",
      "< (6, sent_id=23572) >\n",
      " * Due to the 24 high sensitivity of these technologies, previous studies showed that viral sequences can be directly 25 obtained from patient sera using a shotgun metagenomics approach [6].\n",
      "< (7, sent_id=34807) >\n",
      " * Moreover, the distinct pauses predicted by the model are comparable to those previously measured using in vitro and in vivo bulk assays (Lopinski et al., 2000) .\n",
      "< (8, sent_id=93986) >\n",
      " * Previously, we demonstrated that the GIGT/Opera combination assay is associated with robust Z-factors of ≥0.5 and is therefore suitable for quantifying the cytosolic delivery of Dex-labeled CPMPs aPP5.3\n",
      "< (9, sent_id=41568) >\n",
      " * Consistent with previous reports ((11) and BioRxiv: https://doi.org/10.1101/152850), IFIT1 was found to reversibly dimerise in a concentration dependent manner ( Figure S2A ).\n",
      "< (10, sent_id=77222) >\n",
      " * , there appears to be 164 a direct correlation between the rate of nucleotide addition (speed) and the fidelity of nucleotide 165 addition (6, 10, 17, 22, 33).\n",
      "< (11, sent_id=130282) >\n",
      " * In agreement to what has been previously observed for the WT VP35 418 oligomerization domain (Luthra et al., 2015; Zinzula et al., 2019), the CD spectra of the VP35 419 S129A mutant was typical to that of a protein mainly consisting of -helices.\n",
      "< (12, sent_id=3161) >\n",
      " * A combination of both in vivo studies (Ganapathi et al., 2011; Hartley and Madhani, 2009; Kubik et al., 2018; Tsankov et al., 2011; van Bakel et al., 2013; Yan et al., 2018; Yarragudi et al., 2004) and in vitro reconstitutions indicated that these 6 Senior author 7 These authors contributed equally.\n",
      "< (13, sent_id=5657) >\n",
      " * Pleiotropy is more likely in proteins with many functions (He and Zhang, 2006), and the 28 subset of VIPs with many annotated GO processes has an excess of adaptation that is 29 very similar to the one observed when using all VIPs ( Figure S8B ).\n",
      "< (14, sent_id=45222) >\n",
      " * Cells in both the first and second cell cycles also reached a similar CDK activity (cytoplasmic/nuclear ratio greater than 1) at the time of peak nuclear Cdc6 and S phase entry (Fig. 6F ) close to previously-reported values of 0.84-1.0 in other untransformed cell lines (Spencer et al., 2013; Schwarz et al., 2018) .\n",
      "\n",
      "cluster(8)\n",
      "\n",
      "< (0, sent_id=84468) >\n",
      " * V:11,042,745-11,189,364).\n",
      "< (1, sent_id=29006) >\n",
      " * //doi.org/10.1101/2020.02.25.20027664 doi: medRxiv preprint 2 7 Data in bold indicated the statistical comparisons with significance.\n",
      "< (2, sent_id=70283) >\n",
      " * (https://doi.org/10.1002/jmv.25682) and by Pradhan et al.\n",
      "< (3, sent_id=12285) >\n",
      " * 6 1 , 6 2 6 , 1 9 9 2 3 7 , 1 7 4 , 2 3 6 1 , 1 5 0 , 8 0 9 13\n",
      "< (4, sent_id=97338) >\n",
      " * //doi.org/10.1101/2020.02.25.20027664 doi: medRxiv preprint 1 1 were females.\n",
      "< (5, sent_id=87151) >\n",
      " * https://doi.org/10.1101/2020.02.27.20028787 doi: medRxiv preprint patients.\n",
      "< (6, sent_id=23545) >\n",
      " * https://doi.org/10.1101/2020.02.27.20028639 doi: medRxiv preprint Model-fitting and testing with stage Ⅰ data.\n",
      "< (7, sent_id=27497) >\n",
      " * https://doi.org/10.1101/2020.02.26.20028217 doi: medRxiv preprint disease-related information during the early stage (Table 5) .\n",
      "< (8, sent_id=10060) >\n",
      " * https://doi.org/10.1101/2020.03.04.20031047 doi: medRxiv preprint P=0.064)\n",
      "< (9, sent_id=40953) >\n",
      " * 2011;214: 3808-3821.\n",
      "< (10, sent_id=23078) >\n",
      " * 0.0780 and P=1.533e-6\n",
      "< (11, sent_id=16178) >\n",
      " * (mean usage per associated amino acid = 0.0973, 0.0896, and 0.1277, respectively) ( Figure 6A ).\n",
      "< (12, sent_id=59318) >\n",
      " * https://doi.org/10.1101/2020.01.26.20018754\n",
      "< (13, sent_id=120359) >\n",
      " * Le Roy et al., 2007; Nogimori et al., 2018; Rath et al., 2015) .\n",
      "< (14, sent_id=33580) >\n",
      " * [ 6 , 7 , 2 0 , 2 1 ] .\n",
      "\n",
      "cluster(9)\n",
      "\n",
      "< (0, sent_id=45560) >\n",
      " * o r g / ) .\n",
      "< (1, sent_id=92447) >\n",
      " * µM).\n",
      "< (2, sent_id=62778) >\n",
      " * * ' \" ( ) .\n",
      "< (3, sent_id=6654) >\n",
      " * The .\n",
      "< (4, sent_id=43767) >\n",
      " * ):\n",
      "< (5, sent_id=130242) >\n",
      " * (Eq.\n",
      "< (6, sent_id=128073) >\n",
      " * , respectively):\n",
      "< (7, sent_id=69684) >\n",
      " * a t o r .\n",
      "< (8, sent_id=20962) >\n",
      " * n g .\n",
      "< (9, sent_id=39976) >\n",
      " * .The\n",
      "< (10, sent_id=74395) >\n",
      " * ( )〉\n",
      "< (11, sent_id=90463) >\n",
      " * : n =\n",
      "< (12, sent_id=109576) >\n",
      " * a t e d .\n",
      "< (13, sent_id=51018) >\n",
      " * a. -e.\n",
      "< (14, sent_id=62845) >\n",
      " * u r e .\n",
      "\n"
     ]
    }
   ],
   "source": [
    "for cluster in range(n_centroids):\n",
    "    print(f\"cluster({cluster + 1})\\n\")\n",
    "    nearest_indices = I2[cluster]\n",
    "    for i, sent_id in enumerate(nearest_indices):\n",
    "        sentence = sentences[sent_id]\n",
    "        print(f\"< ({i}, sent_id={sent_id}) >\\n * {sentence}\")\n",
    "    print()"
   ]
  },
  {
   "cell_type": "code",
   "execution_count": 144,
   "metadata": {},
   "outputs": [
    {
     "data": {
      "text/plain": [
       "<PaperIndexing(comm_use_subset, papers=9000)>"
      ]
     },
     "execution_count": 144,
     "metadata": {},
     "output_type": "execute_result"
    }
   ],
   "source": [
    "papers_source = all_dataset_sources[1]\n",
    "covid_source = PaperIndexing(papers_source)\n",
    "covid_source"
   ]
  },
  {
   "cell_type": "code",
   "execution_count": 145,
   "metadata": {},
   "outputs": [
    {
     "data": {
      "text/plain": [
       "'comm_use_subset'"
      ]
     },
     "execution_count": 145,
     "metadata": {},
     "output_type": "execute_result"
    }
   ],
   "source": [
    "covid_source.source_name"
   ]
  },
  {
   "cell_type": "code",
   "execution_count": null,
   "metadata": {},
   "outputs": [],
   "source": [
    "DataIO.save_data()"
   ]
  }
 ],
 "metadata": {
  "kernelspec": {
   "display_name": "Python 3",
   "language": "python",
   "name": "python3"
  },
  "language_info": {
   "codemirror_mode": {
    "name": "ipython",
    "version": 3
   },
   "file_extension": ".py",
   "mimetype": "text/x-python",
   "name": "python",
   "nbconvert_exporter": "python",
   "pygments_lexer": "ipython3",
   "version": "3.7.7"
  }
 },
 "nbformat": 4,
 "nbformat_minor": 4
}
