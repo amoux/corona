{
 "cells": [
  {
   "cell_type": "code",
   "execution_count": 1,
   "metadata": {},
   "outputs": [],
   "source": [
    "import warnings\n",
    "warnings.filterwarnings('ignore')\n",
    "\n",
    "import coronanlp\n",
    "from coronanlp.ukplab import SentenceTransformer\n",
    "from coronanlp.engine import ScibertQuestionAnswering, QuestionAnsweringArguments\n",
    "from coronanlp.summarization import BertSummarizerArguments\n",
    "from coronanlp.utils import get_store_dir as store_home\n",
    "\n",
    "cordberta = '/home/ego/huggingface-models/bundles/CordBERTa/nli_stsb/0_Transformer/'"
   ]
  },
  {
   "cell_type": "code",
   "execution_count": 2,
   "metadata": {},
   "outputs": [
    {
     "data": {
      "text/plain": [
       "'cord19_large'"
      ]
     },
     "execution_count": 2,
     "metadata": {},
     "output_type": "execute_result"
    }
   ],
   "source": [
    "logs = {\n",
    "    p.lstat().st_atime: p.name for p in store_home().iterdir()\n",
    "    if p.is_dir()\n",
    "}\n",
    "store = logs[max(logs)]  # last used/accessed\n",
    "store"
   ]
  },
  {
   "cell_type": "code",
   "execution_count": 3,
   "metadata": {},
   "outputs": [
    {
     "data": {
      "text/plain": [
       "{'summarizer_model_device': device(type='cuda'),\n",
       " 'sentence_transformer_model_device': 'cpu',\n",
       " 'question_answering_model_device': device(type='cuda', index=0)}"
      ]
     },
     "execution_count": 3,
     "metadata": {},
     "output_type": "execute_result"
    }
   ],
   "source": [
    "qa = ScibertQuestionAnswering(\n",
    "    papers=corona_nlp.Papers.from_disk(store),\n",
    "    index=corona_nlp.load_store(type_store='index', store_name=store),\n",
    "    encoder=SentenceTransformer(cordberta, device='cpu'),\n",
    "    model_device='cuda',\n",
    "    summarizer_hidden=-4,\n",
    "    summarizer_reduce='max',\n",
    "    summarizer_kwargs=BertSummarizerArguments(\n",
    "        ratio=0.2,\n",
    "        min_length=40,\n",
    "        max_length=600,\n",
    "        use_first=True,\n",
    "        algorithm='gmm'\n",
    "    ),\n",
    ")\n",
    "qa.all_model_devices"
   ]
  },
  {
   "cell_type": "code",
   "execution_count": 4,
   "metadata": {},
   "outputs": [
    {
     "data": {
      "text/plain": [
       "[Task(id: 1, question: What do we know details diagnostics and surveillance?),\n",
       " Task(id: 2, question: What has been published details information sharing and inter-sectoral collaboration?),\n",
       " Task(id: 3, question: What has been published details ethical and social science considerations?),\n",
       " Task(id: 4, question: What do we know details the effectiveness of non-pharmaceutical interventions?),\n",
       " Task(id: 5, question: What has been published details medical care?),\n",
       " Task(id: 6, question: What do we know details virus genetics, origin, and evolution?),\n",
       " Task(id: 7, question: What do we know details vaccines and therapeutics?),\n",
       " Task(id: 8, question: What do we know details COVID-19 risk factors?),\n",
       " Task(id: 9, question: What is known details transmission, incubation, and environmental stability?)]"
      ]
     },
     "execution_count": 4,
     "metadata": {},
     "output_type": "execute_result"
    }
   ],
   "source": [
    "tasks = coronanlp.TaskList()\n",
    "tasks"
   ]
  },
  {
   "cell_type": "code",
   "execution_count": 5,
   "metadata": {},
   "outputs": [
    {
     "data": {
      "text/plain": [
       "'How widespread current exposure is to be able to make immediate policy recommendations on mitigation measures. Denominators for testing and a mechanism for rapidly sharing that information, including demographics, to the extent possible. Sampling methods to determine asymptomatic disease (e.g., use of serosurveys (such as convalescent samples) and early detection of disease (e.g., use of screening of neutralizing antibodies such as ELISAs).'"
      ]
     },
     "execution_count": 5,
     "metadata": {},
     "output_type": "execute_result"
    }
   ],
   "source": [
    "t1 = tasks[0].all()\n",
    "t1[0]"
   ]
  },
  {
   "cell_type": "code",
   "execution_count": 18,
   "metadata": {},
   "outputs": [
    {
     "name": "stdout",
     "output_type": "stream",
     "text": [
      "QuestionAnsweringOutput(size: 15, shape: (3, 25))\n"
     ]
    }
   ],
   "source": [
    "preds = qa.answer(t1[0], topk=5, top_p=25, nprobe=256, mode='bert')\n",
    "print(preds) # output shape (3, 25) since the question was split into 3 sentences."
   ]
  },
  {
   "cell_type": "code",
   "execution_count": 73,
   "metadata": {},
   "outputs": [
    {
     "data": {
      "text/html": [
       "<span class=\"tex2jax_ignore\"><h2 style=\"margin: 0\">Question: How widespread current exposure is to be able to make immediate policy recommendations on mitigation measures.</h2><div class=\"entities\" style=\"line-height: 2.5; direction: ltr\">Until additional evidence is available to further refine recommendations to prevent MERS-CoV transmission, <mark class=\"entity\" style=\"background: linear-gradient(90deg, #42275a, #734b6d); padding: 0.45em 0.6em; margin: 0 0.25em; line-height: 1; border-radius: 0.35em;\">continued use of existing precautionary recommendations is necessary.<span style=\"font-size: 0.8em; font-weight: bold; line-height: 1; border-radius: 0.35em; text-transform: uppercase; vertical-align: middle; margin-left: 0.5rem\">ANSWER</span></mark> In mitigating viral pandemics, the benefit to be gained from imposing travel restrictions as an adjunct to other effective control measures must be balanced against potential economic impacts. Concerning these results, rFeIFNω seems to be able to contribute to the management of this reality by improving clinical signs and decreasing concurrent viral excretion. This rapid compounding could overwhelm response capacity and would have resulted in compromised effectiveness of containment measures. A coordinated response to severe infectious disease outbreaks requires an approach that balances an infection control mandate with the need to preserve access to essential health services. Our method effectively addresses the problem of infectious disease prevention, greatly reducing labor and time costs. As the early response may be crucial in containing the problem and minimizing resultant morbidity and mortality, efforts have been made to develop biosurveillance systems to detect outbreaks and attacks. Coordination of such activities would promote routine inter-state assistance as well as collaboration during emergencies. To control the transmission of the disease, surveillance systems with high sensitivity and specificity need to be created. Finally, antibodies give immediate protection, important during rapidly evolving epidemics or pandemics and for individuals being deployed into zones of high transmission. In the multivariate analysis, we explored the likelihood of an invasive procedure based on several predictors including the presenting symptoms, age and respiratory viral diagnosis. Plasma or serum samples were tested for serologic evidence of acute DENV infection by immunoglobulin (Ig) M and IgG ELISA, hemagglutination inhibition (HAI) assays, or both (14). The IgG capture ELISA (E-DEN02G, Panbio, Windsor, Australia) was used to classify the cases into primary or secondary DENV infection. The diagnostic decision limit or cut-off represents a serological assay test value used to dichotomize negative and positive results, and by inference, to define the infection status of an individual against a specific pathogen of disease. Multiple biologic and clinical markers consistent with disrupted airway homeostasis should be considered when developing algorithms to define thresholds of infection. The key limitations of serological testing is the need to collect paired serum samples (in the acute and convalescent phases) from cases under investigation for confirmation to eliminate potential cross-reactivity from non-specific antibodies from past exposure and/or infection by other coronaviruses.</div></span>"
      ],
      "text/plain": [
       "<IPython.core.display.HTML object>"
      ]
     },
     "metadata": {},
     "output_type": "display_data"
    }
   ],
   "source": [
    "from coronanlp.utils import GRADIENTS as G\n",
    "\n",
    "index = 0  # lets go over the predictions to the first split of 1/3\n",
    "split = int(len(preds) / preds.shape()[0])\n",
    "output = list(filter(lambda topk: topk.start > 0, preds[:split]))[0]\n",
    "question, context, answer = preds.q[index], preds.c, output.answer\n",
    "\n",
    "corona_nlp.render_output(\n",
    "    answer=answer,\n",
    "    question=question,\n",
    "    context=context,\n",
    "    grad_pair=G['mauve'],\n",
    ")"
   ]
  },
  {
   "cell_type": "code",
   "execution_count": 75,
   "metadata": {},
   "outputs": [
    {
     "data": {
      "text/html": [
       "<div>\n",
       "<style scoped>\n",
       "    .dataframe tbody tr th:only-of-type {\n",
       "        vertical-align: middle;\n",
       "    }\n",
       "\n",
       "    .dataframe tbody tr th {\n",
       "        vertical-align: top;\n",
       "    }\n",
       "\n",
       "    .dataframe thead th {\n",
       "        text-align: right;\n",
       "    }\n",
       "</style>\n",
       "<table border=\"1\" class=\"dataframe\">\n",
       "  <thead>\n",
       "    <tr style=\"text-align: right;\">\n",
       "      <th></th>\n",
       "      <th>sid</th>\n",
       "      <th>pid</th>\n",
       "      <th>dist</th>\n",
       "      <th>in_ctx</th>\n",
       "      <th>query</th>\n",
       "      <th>title</th>\n",
       "      <th>sent</th>\n",
       "    </tr>\n",
       "  </thead>\n",
       "  <tbody>\n",
       "    <tr>\n",
       "      <th>0</th>\n",
       "      <td>1713442</td>\n",
       "      <td>11640</td>\n",
       "      <td>135.647797</td>\n",
       "      <td>True</td>\n",
       "      <td>How widespread current exposure is to be able ...</td>\n",
       "      <td>Middle East Respiratory Syndrome Coronavirus T...</td>\n",
       "      <td>Until additional evidence is available to furt...</td>\n",
       "    </tr>\n",
       "    <tr>\n",
       "      <th>1</th>\n",
       "      <td>1344096</td>\n",
       "      <td>8886</td>\n",
       "      <td>137.929214</td>\n",
       "      <td>False</td>\n",
       "      <td>How widespread current exposure is to be able ...</td>\n",
       "      <td></td>\n",
       "      <td>Alternatively, should we focus limited resourc...</td>\n",
       "    </tr>\n",
       "    <tr>\n",
       "      <th>2</th>\n",
       "      <td>1218420</td>\n",
       "      <td>8033</td>\n",
       "      <td>146.825317</td>\n",
       "      <td>True</td>\n",
       "      <td>How widespread current exposure is to be able ...</td>\n",
       "      <td>Modeling the impact of air, sea, and land trav...</td>\n",
       "      <td>In mitigating viral pandemics, the benefit to ...</td>\n",
       "    </tr>\n",
       "    <tr>\n",
       "      <th>3</th>\n",
       "      <td>1676860</td>\n",
       "      <td>11342</td>\n",
       "      <td>147.331787</td>\n",
       "      <td>False</td>\n",
       "      <td>How widespread current exposure is to be able ...</td>\n",
       "      <td>Potential Impact of Antiviral Drug Use during ...</td>\n",
       "      <td>However, the likely rapid global spread of a p...</td>\n",
       "    </tr>\n",
       "    <tr>\n",
       "      <th>4</th>\n",
       "      <td>693563</td>\n",
       "      <td>4573</td>\n",
       "      <td>152.514359</td>\n",
       "      <td>True</td>\n",
       "      <td>How widespread current exposure is to be able ...</td>\n",
       "      <td>The Use of Recombinant Feline Interferon Omega...</td>\n",
       "      <td>Concerning these results, rFeIFNω seems to be ...</td>\n",
       "    </tr>\n",
       "    <tr>\n",
       "      <th>...</th>\n",
       "      <td>...</td>\n",
       "      <td>...</td>\n",
       "      <td>...</td>\n",
       "      <td>...</td>\n",
       "      <td>...</td>\n",
       "      <td>...</td>\n",
       "      <td>...</td>\n",
       "    </tr>\n",
       "    <tr>\n",
       "      <th>70</th>\n",
       "      <td>1649954</td>\n",
       "      <td>11035</td>\n",
       "      <td>150.736465</td>\n",
       "      <td>False</td>\n",
       "      <td>Sampling methods to determine asymptomatic dis...</td>\n",
       "      <td></td>\n",
       "      <td>The ABCs infrastructure was used to conduct ca...</td>\n",
       "    </tr>\n",
       "    <tr>\n",
       "      <th>71</th>\n",
       "      <td>1272224</td>\n",
       "      <td>8400</td>\n",
       "      <td>150.793945</td>\n",
       "      <td>False</td>\n",
       "      <td>Sampling methods to determine asymptomatic dis...</td>\n",
       "      <td>Magnetic Nanotrap Particles Preserve the Stabi...</td>\n",
       "      <td>The current diagnostic approaches to confirm V...</td>\n",
       "    </tr>\n",
       "    <tr>\n",
       "      <th>72</th>\n",
       "      <td>1254810</td>\n",
       "      <td>8281</td>\n",
       "      <td>150.911377</td>\n",
       "      <td>False</td>\n",
       "      <td>Sampling methods to determine asymptomatic dis...</td>\n",
       "      <td>Selection of key recommendations for quality i...</td>\n",
       "      <td>We selected key recommendations for the broad ...</td>\n",
       "    </tr>\n",
       "    <tr>\n",
       "      <th>73</th>\n",
       "      <td>1256569</td>\n",
       "      <td>8316</td>\n",
       "      <td>150.933273</td>\n",
       "      <td>False</td>\n",
       "      <td>Sampling methods to determine asymptomatic dis...</td>\n",
       "      <td>Evaluation of Targeted Next-Generation Sequenc...</td>\n",
       "      <td>Current tests for infectious disease diagnosis...</td>\n",
       "    </tr>\n",
       "    <tr>\n",
       "      <th>74</th>\n",
       "      <td>1182788</td>\n",
       "      <td>7800</td>\n",
       "      <td>151.139832</td>\n",
       "      <td>False</td>\n",
       "      <td>Sampling methods to determine asymptomatic dis...</td>\n",
       "      <td>Immunogenetic Mechanisms Driving Norovirus GII...</td>\n",
       "      <td>Additional concentrations of blockade antibodi...</td>\n",
       "    </tr>\n",
       "  </tbody>\n",
       "</table>\n",
       "<p>75 rows × 7 columns</p>\n",
       "</div>"
      ],
      "text/plain": [
       "        sid    pid        dist  in_ctx  \\\n",
       "0   1713442  11640  135.647797    True   \n",
       "1   1344096   8886  137.929214   False   \n",
       "2   1218420   8033  146.825317    True   \n",
       "3   1676860  11342  147.331787   False   \n",
       "4    693563   4573  152.514359    True   \n",
       "..      ...    ...         ...     ...   \n",
       "70  1649954  11035  150.736465   False   \n",
       "71  1272224   8400  150.793945   False   \n",
       "72  1254810   8281  150.911377   False   \n",
       "73  1256569   8316  150.933273   False   \n",
       "74  1182788   7800  151.139832   False   \n",
       "\n",
       "                                                query  \\\n",
       "0   How widespread current exposure is to be able ...   \n",
       "1   How widespread current exposure is to be able ...   \n",
       "2   How widespread current exposure is to be able ...   \n",
       "3   How widespread current exposure is to be able ...   \n",
       "4   How widespread current exposure is to be able ...   \n",
       "..                                                ...   \n",
       "70  Sampling methods to determine asymptomatic dis...   \n",
       "71  Sampling methods to determine asymptomatic dis...   \n",
       "72  Sampling methods to determine asymptomatic dis...   \n",
       "73  Sampling methods to determine asymptomatic dis...   \n",
       "74  Sampling methods to determine asymptomatic dis...   \n",
       "\n",
       "                                                title  \\\n",
       "0   Middle East Respiratory Syndrome Coronavirus T...   \n",
       "1                                                       \n",
       "2   Modeling the impact of air, sea, and land trav...   \n",
       "3   Potential Impact of Antiviral Drug Use during ...   \n",
       "4   The Use of Recombinant Feline Interferon Omega...   \n",
       "..                                                ...   \n",
       "70                                                      \n",
       "71  Magnetic Nanotrap Particles Preserve the Stabi...   \n",
       "72  Selection of key recommendations for quality i...   \n",
       "73  Evaluation of Targeted Next-Generation Sequenc...   \n",
       "74  Immunogenetic Mechanisms Driving Norovirus GII...   \n",
       "\n",
       "                                                 sent  \n",
       "0   Until additional evidence is available to furt...  \n",
       "1   Alternatively, should we focus limited resourc...  \n",
       "2   In mitigating viral pandemics, the benefit to ...  \n",
       "3   However, the likely rapid global spread of a p...  \n",
       "4   Concerning these results, rFeIFNω seems to be ...  \n",
       "..                                                ...  \n",
       "70  The ABCs infrastructure was used to conduct ca...  \n",
       "71  The current diagnostic approaches to confirm V...  \n",
       "72  We selected key recommendations for the broad ...  \n",
       "73  Current tests for infectious disease diagnosis...  \n",
       "74  Additional concentrations of blockade antibodi...  \n",
       "\n",
       "[75 rows x 7 columns]"
      ]
     },
     "execution_count": 75,
     "metadata": {},
     "output_type": "execute_result"
    }
   ],
   "source": [
    "import pandas as pd\n",
    "\n",
    "data = {'sid': [], 'pid': [], 'dist': [], 'in_ctx': [],\n",
    "        'query': [], 'title': [], 'sent': []}\n",
    "\n",
    "# Abbreviations: sid = sentence-id, pid = paper-id, ctx: context\n",
    "for q in range(preds.ids.shape[0]):\n",
    "    query = preds.q[q]\n",
    "    for p in range(preds.ids.shape[1]):\n",
    "        sid, dist = preds.ids[q][p], preds.dist[q][p]\n",
    "        pid = qa.papers.decode(sid.item())\n",
    "        title = qa.cord19.title(pid)\n",
    "        sent = qa.papers[sid.item()]\n",
    "        in_ctx = True if sent in preds.c else False\n",
    "        rows = [sid, pid, dist, in_ctx, query, title, sent]\n",
    "        for col, row in zip(data.keys(), rows):\n",
    "            data[col].append(row)\n",
    "df1 = pd.DataFrame(data=data)\n",
    "df1"
   ]
  },
  {
   "cell_type": "code",
   "execution_count": 74,
   "metadata": {},
   "outputs": [
    {
     "data": {
      "text/html": [
       "<div>\n",
       "<style scoped>\n",
       "    .dataframe tbody tr th:only-of-type {\n",
       "        vertical-align: middle;\n",
       "    }\n",
       "\n",
       "    .dataframe tbody tr th {\n",
       "        vertical-align: top;\n",
       "    }\n",
       "\n",
       "    .dataframe thead th {\n",
       "        text-align: right;\n",
       "    }\n",
       "</style>\n",
       "<table border=\"1\" class=\"dataframe\">\n",
       "  <thead>\n",
       "    <tr style=\"text-align: right;\">\n",
       "      <th></th>\n",
       "      <th>question</th>\n",
       "      <th>answer</th>\n",
       "      <th>score</th>\n",
       "    </tr>\n",
       "  </thead>\n",
       "  <tbody>\n",
       "    <tr>\n",
       "      <th>0</th>\n",
       "      <td>How widespread current exposure is to be able ...</td>\n",
       "      <td></td>\n",
       "      <td>3.316216e-01</td>\n",
       "    </tr>\n",
       "    <tr>\n",
       "      <th>1</th>\n",
       "      <td>How widespread current exposure is to be able ...</td>\n",
       "      <td>continued use of existing precautionary recomm...</td>\n",
       "      <td>1.710174e-02</td>\n",
       "    </tr>\n",
       "    <tr>\n",
       "      <th>2</th>\n",
       "      <td>How widespread current exposure is to be able ...</td>\n",
       "      <td>Until additional evidence</td>\n",
       "      <td>6.295700e-03</td>\n",
       "    </tr>\n",
       "    <tr>\n",
       "      <th>3</th>\n",
       "      <td>How widespread current exposure is to be able ...</td>\n",
       "      <td>Until additional evidence is available</td>\n",
       "      <td>5.963233e-03</td>\n",
       "    </tr>\n",
       "    <tr>\n",
       "      <th>4</th>\n",
       "      <td>How widespread current exposure is to be able ...</td>\n",
       "      <td>continued use of existing precautionary recomm...</td>\n",
       "      <td>5.673415e-03</td>\n",
       "    </tr>\n",
       "    <tr>\n",
       "      <th>5</th>\n",
       "      <td>Denominators for testing and a mechanism for r...</td>\n",
       "      <td>travel restrictions</td>\n",
       "      <td>2.583641e-01</td>\n",
       "    </tr>\n",
       "    <tr>\n",
       "      <th>6</th>\n",
       "      <td>Denominators for testing and a mechanism for r...</td>\n",
       "      <td>imposing travel restrictions</td>\n",
       "      <td>6.701491e-02</td>\n",
       "    </tr>\n",
       "    <tr>\n",
       "      <th>7</th>\n",
       "      <td>Denominators for testing and a mechanism for r...</td>\n",
       "      <td>travel</td>\n",
       "      <td>3.498470e-02</td>\n",
       "    </tr>\n",
       "    <tr>\n",
       "      <th>8</th>\n",
       "      <td>Denominators for testing and a mechanism for r...</td>\n",
       "      <td>viral pandemics, the benefit to be gained from...</td>\n",
       "      <td>3.082118e-02</td>\n",
       "    </tr>\n",
       "    <tr>\n",
       "      <th>9</th>\n",
       "      <td>Denominators for testing and a mechanism for r...</td>\n",
       "      <td>travel restrictions as an adjunct to other eff...</td>\n",
       "      <td>3.055965e-02</td>\n",
       "    </tr>\n",
       "    <tr>\n",
       "      <th>10</th>\n",
       "      <td>Sampling methods to determine asymptomatic dis...</td>\n",
       "      <td></td>\n",
       "      <td>9.991757e-01</td>\n",
       "    </tr>\n",
       "    <tr>\n",
       "      <th>11</th>\n",
       "      <td>Sampling methods to determine asymptomatic dis...</td>\n",
       "      <td>rFeIFNω</td>\n",
       "      <td>2.301686e-08</td>\n",
       "    </tr>\n",
       "    <tr>\n",
       "      <th>12</th>\n",
       "      <td>Sampling methods to determine asymptomatic dis...</td>\n",
       "      <td>improving clinical signs and decreasing concur...</td>\n",
       "      <td>1.470423e-08</td>\n",
       "    </tr>\n",
       "    <tr>\n",
       "      <th>13</th>\n",
       "      <td>Sampling methods to determine asymptomatic dis...</td>\n",
       "      <td>decreasing concurrent viral excretion.</td>\n",
       "      <td>4.362879e-09</td>\n",
       "    </tr>\n",
       "    <tr>\n",
       "      <th>14</th>\n",
       "      <td>Sampling methods to determine asymptomatic dis...</td>\n",
       "      <td>improving clinical signs and decreasing concur...</td>\n",
       "      <td>3.676720e-09</td>\n",
       "    </tr>\n",
       "  </tbody>\n",
       "</table>\n",
       "</div>"
      ],
      "text/plain": [
       "                                             question  \\\n",
       "0   How widespread current exposure is to be able ...   \n",
       "1   How widespread current exposure is to be able ...   \n",
       "2   How widespread current exposure is to be able ...   \n",
       "3   How widespread current exposure is to be able ...   \n",
       "4   How widespread current exposure is to be able ...   \n",
       "5   Denominators for testing and a mechanism for r...   \n",
       "6   Denominators for testing and a mechanism for r...   \n",
       "7   Denominators for testing and a mechanism for r...   \n",
       "8   Denominators for testing and a mechanism for r...   \n",
       "9   Denominators for testing and a mechanism for r...   \n",
       "10  Sampling methods to determine asymptomatic dis...   \n",
       "11  Sampling methods to determine asymptomatic dis...   \n",
       "12  Sampling methods to determine asymptomatic dis...   \n",
       "13  Sampling methods to determine asymptomatic dis...   \n",
       "14  Sampling methods to determine asymptomatic dis...   \n",
       "\n",
       "                                               answer         score  \n",
       "0                                                      3.316216e-01  \n",
       "1   continued use of existing precautionary recomm...  1.710174e-02  \n",
       "2                           Until additional evidence  6.295700e-03  \n",
       "3              Until additional evidence is available  5.963233e-03  \n",
       "4   continued use of existing precautionary recomm...  5.673415e-03  \n",
       "5                                 travel restrictions  2.583641e-01  \n",
       "6                        imposing travel restrictions  6.701491e-02  \n",
       "7                                              travel  3.498470e-02  \n",
       "8   viral pandemics, the benefit to be gained from...  3.082118e-02  \n",
       "9   travel restrictions as an adjunct to other eff...  3.055965e-02  \n",
       "10                                                     9.991757e-01  \n",
       "11                                            rFeIFNω  2.301686e-08  \n",
       "12  improving clinical signs and decreasing concur...  1.470423e-08  \n",
       "13             decreasing concurrent viral excretion.  4.362879e-09  \n",
       "14  improving clinical signs and decreasing concur...  3.676720e-09  "
      ]
     },
     "execution_count": 74,
     "metadata": {},
     "output_type": "execute_result"
    }
   ],
   "source": [
    "model_data = {'question': [], 'answer': [], 'score': []}\n",
    "num_inputs = 5\n",
    "max_length = len(preds)\n",
    "for q, x in enumerate(range(0, max_length, num_inputs)):\n",
    "    split = preds[x: min(x+num_inputs, max_length)]\n",
    "    query = preds.q[q]\n",
    "    for pred in split:\n",
    "        model_data['question'].append(query)\n",
    "        model_data['answer'].append(pred.answer)\n",
    "        model_data['score'].append(pred.score)\n",
    "df2 = pd.DataFrame(data=model_data)\n",
    "df2"
   ]
  },
  {
   "cell_type": "code",
   "execution_count": 77,
   "metadata": {},
   "outputs": [],
   "source": [
    "topk = 2\n",
    "tags = corona_nlp.common_tokens(map(str.lower, preds.q), nlp=qa.nlp)\n",
    "tags, _ = zip(*list(filter(lambda k: len(k[0]) > 3, tags))[:topk])\n",
    "file_1 = '_'.join(tags) + '_predictions.csv'\n",
    "file_2 = '_'.join(tags) + '_q&a_results.csv'\n",
    "df1.to_csv(file_1)\n",
    "df2.to_csv(file_2)"
   ]
  },
  {
   "cell_type": "code",
   "execution_count": 79,
   "metadata": {},
   "outputs": [
    {
     "name": "stdout",
     "output_type": "stream",
     "text": [
      " disease_widespread_predictions.csv  'disease_widespread_q&a_results.csv'\r\n"
     ]
    }
   ],
   "source": [
    "!ls *.csv"
   ]
  },
  {
   "cell_type": "code",
   "execution_count": null,
   "metadata": {},
   "outputs": [],
   "source": []
  }
 ],
 "metadata": {
  "kernelspec": {
   "display_name": "Python 3",
   "language": "python",
   "name": "python3"
  },
  "language_info": {
   "codemirror_mode": {
    "name": "ipython",
    "version": 3
   },
   "file_extension": ".py",
   "mimetype": "text/x-python",
   "name": "python",
   "nbconvert_exporter": "python",
   "pygments_lexer": "ipython3",
   "version": "3.7.7"
  },
  "varInspector": {
   "cols": {
    "lenName": 16,
    "lenType": 16,
    "lenVar": 40
   },
   "kernels_config": {
    "python": {
     "delete_cmd_postfix": "",
     "delete_cmd_prefix": "del ",
     "library": "var_list.py",
     "varRefreshCmd": "print(var_dic_list())"
    },
    "r": {
     "delete_cmd_postfix": ") ",
     "delete_cmd_prefix": "rm(",
     "library": "var_list.r",
     "varRefreshCmd": "cat(var_dic_list()) "
    }
   },
   "types_to_exclude": [
    "module",
    "function",
    "builtin_function_or_method",
    "instance",
    "_Feature"
   ],
   "window_display": false
  }
 },
 "nbformat": 4,
 "nbformat_minor": 4
}