{
 "cells": [
  {
   "cell_type": "code",
   "execution_count": 2,
   "metadata": {},
   "outputs": [],
   "source": [
    "import torch\n",
    "from transformers import GPT2TokenizerFast, GPT2LMHeadModel\n",
    "\n",
    "CoronaNlpGPT2 = '/home/ego/huggingface-models/finetuned/gpt2-lm-cord19-v2/CoronaNLPGPT2'"
   ]
  },
  {
   "cell_type": "code",
   "execution_count": 3,
   "metadata": {},
   "outputs": [],
   "source": [
    "device = torch.device('cuda' if torch.cuda.is_available() else 'cpu')\n",
    "\n",
    "tokenizer = GPT2TokenizerFast.from_pretrained(CoronaNlpGPT2)\n",
    "model = GPT2LMHeadModel.from_pretrained(CoronaNlpGPT2, pad_token_id=tokenizer.eos_token_id)\n",
    "model = model.to(device)"
   ]
  },
  {
   "cell_type": "code",
   "execution_count": 22,
   "metadata": {},
   "outputs": [
    {
     "name": "stdout",
     "output_type": "stream",
     "text": [
      "The coronavirus is related to the severe acute respiratory syndrome (SARS) coronavirus, which is a member of the Coronaviridae family. The SARS-CoV is a single-stranded, positive-sense RNA\n"
     ]
    }
   ],
   "source": [
    "input = 'The coronavirus is related to'\n",
    "ids = tokenizer.encode(input, return_tensors='pt').to(device)\n",
    "\n",
    "greedy = model.generate(input_ids=ids, max_length=50)\n",
    "print(tokenizer.decode(greedy.tolist()[0], skip_special_tokens=True))"
   ]
  },
  {
   "cell_type": "code",
   "execution_count": 23,
   "metadata": {},
   "outputs": [
    {
     "name": "stdout",
     "output_type": "stream",
     "text": [
      "The coronavirus is related to the severe acute respiratory syndrome (SARS) and Middle East Respiratory Syndrome (MERS) outbreaks in 2012 and 2013, respectively. The SARS-CoV was first identified in Guangdong Province,\n"
     ]
    }
   ],
   "source": [
    "# activate beam search and early stopping\n",
    "beam = model.generate(\n",
    "    ids, max_length=50, num_beams=5,\n",
    "    no_repeat_ngram_size=2, early_stopping=True\n",
    ")\n",
    "print(tokenizer.decode(beam.tolist()[0], skip_special_tokens=True))"
   ]
  },
  {
   "cell_type": "code",
   "execution_count": 24,
   "metadata": {},
   "outputs": [
    {
     "name": "stdout",
     "output_type": "stream",
     "text": [
      "0: The coronavirus is related to the severe acute respiratory syndrome (SARS) and Middle East Respiratory Syndrome (MERS) outbreaks in 2012 and 2013, respectively. The SARS-CoV was first identified in Guangdong Province,\n",
      "\n",
      "1: The coronavirus is related to the severe acute respiratory syndrome (SARS) and Middle East Respiratory Syndrome (MERS) outbreaks in 2012 and 2013, respectively. The SARS-CoV was first identified in Guangdong Province in\n",
      "\n",
      "2: The coronavirus is related to the severe acute respiratory syndrome (SARS) and Middle East Respiratory Syndrome (MERS) outbreaks in 2012 and 2013, respectively. The SARS-CoV genome encodes a single open reading frame (\n",
      "\n",
      "3: The coronavirus is related to the severe acute respiratory syndrome (SARS) and Middle East Respiratory Syndrome (MERS) outbreaks in 2012 and 2013, respectively. The SARS-CoV was first identified in Guangdong, China\n",
      "\n",
      "4: The coronavirus is related to the severe acute respiratory syndrome (SARS) and Middle East Respiratory Syndrome (MERS) outbreaks in 2012 and 2013, respectively. The SARS-CoV was first identified in 2002 in Guangdong\n",
      "\n"
     ]
    }
   ],
   "source": [
    "beams = model.generate(\n",
    "    input_ids=ids,\n",
    "    max_length=50,\n",
    "    num_beams=5,\n",
    "    no_repeat_ngram_size=2,\n",
    "    num_return_sequences=5,\n",
    "    early_stopping=True,\n",
    ")\n",
    "for idx, beam in enumerate(beams):\n",
    "    print('{}: {}\\n'.format(\n",
    "        idx, tokenizer.decode(beam.tolist(), skip_special_tokens=True)))"
   ]
  },
  {
   "cell_type": "code",
   "execution_count": 25,
   "metadata": {},
   "outputs": [
    {
     "name": "stdout",
     "output_type": "stream",
     "text": [
      "The coronavirus is related to FMD, single stranded RNA viruses with a polyprotein (VP1) higher than 10-120 kDa. It is a lineage C novel-order virus with genome size 480.0 kb. The papill\n"
     ]
    }
   ],
   "source": [
    "torch.random.manual_seed(0)\n",
    "sample = model.generate(ids, do_sample=True, max_length=50, top_k=0)\n",
    "print(tokenizer.decode(sample.tolist()[0], skip_special_tokens=True))"
   ]
  },
  {
   "cell_type": "code",
   "execution_count": 26,
   "metadata": {},
   "outputs": [
    {
     "name": "stdout",
     "output_type": "stream",
     "text": [
      "The coronavirus is related to many other respiratory and gastrointestinal diseases, such as the severe acute respiratory syndrome (SARS) and Middle East respiratory syndrome (MERS). The coronavirus is a member of the family Coronaviridae,\n"
     ]
    }
   ],
   "source": [
    "torch.random.manual_seed(0)\n",
    "# Decrease sensitivity to low probability candidates:\n",
    "sample = model.generate(ids, do_sample=True, max_length=50, top_k=0, temperature=0.7)\n",
    "print(tokenizer.decode(sample.tolist()[0], skip_special_tokens=True))"
   ]
  },
  {
   "cell_type": "code",
   "execution_count": 35,
   "metadata": {},
   "outputs": [
    {
     "name": "stdout",
     "output_type": "stream",
     "text": [
      "The coronavirus is related to SARS, which causes severe respiratory illness in humans and animals. The SARS corona virus (SARS-CoV) belongs to the SARS Coronavirus genus in the Coronaviridae\n"
     ]
    }
   ],
   "source": [
    "torch.random.manual_seed(0)\n",
    "# Set top_k to limit sampling pool:\n",
    "sample = model.generate(ids, do_sample=True, max_length=50, top_k=50)\n",
    "print(tokenizer.decode(sample.tolist()[0], skip_special_tokens=True))"
   ]
  },
  {
   "cell_type": "code",
   "execution_count": 36,
   "metadata": {},
   "outputs": [
    {
     "name": "stdout",
     "output_type": "stream",
     "text": [
      "The coronavirus is related to C pneumonia, type 3 diabetes and cryptococcal disease. However, the clinical presentation of the patient is often murine-like without significant gross or clinical symptoms. Interestingly, pneumonia can be partially treated with antibiotic.\n"
     ]
    }
   ],
   "source": [
    "torch.random.manual_seed(0)\n",
    "# Deactivate top_k and sample only from 90% most likely words:\n",
    "sample = model.generate(ids, do_sample=True, max_length=50, top_p=0.90, top_k=0)\n",
    "print(tokenizer.decode(sample.tolist()[0], skip_special_tokens=True))"
   ]
  },
  {
   "cell_type": "code",
   "execution_count": 37,
   "metadata": {},
   "outputs": [
    {
     "name": "stdout",
     "output_type": "stream",
     "text": [
      "Output:\n",
      "----------------------------------------------------------------------------------------------------\n",
      "0: The coronavirus is related to SARS, which causes severe respiratory illness in humans and animals. The SARS-CoV replicates in the respiratory tract, infects cells, and causes acute respiratory distress syndrome (ARDS). The human coronav\n",
      "\n",
      "1: The coronavirus is related to alphaviruses (A, B and C) and is transmitted through contact with faecal material. In addition, SARS-CoV (severe acute respiratory syndrome coronavirus) has been isolated\n",
      "\n",
      "2: The coronavirus is related to a series of human-associated coronaviruses known as alpha-, beta-, gamma-, and delta-coronaviruses, as of December 2019, and its genome consists of three segments. CoVs infect\n",
      "\n"
     ]
    }
   ],
   "source": [
    "torch.random.manual_seed(0)\n",
    "samples = model.generate(\n",
    "    input_ids=ids,\n",
    "    do_sample=True,\n",
    "    max_length=50,\n",
    "    top_k=50,\n",
    "    top_p=0.95,\n",
    "    num_return_sequences=3,\n",
    ")\n",
    "print(f\"Output:\\n{100*'-'}\")\n",
    "for i, sample in enumerate(samples):\n",
    "    print('{}: {}\\n'.format(i, tokenizer.decode(sample.tolist(), skip_special_tokens=True)))"
   ]
  },
  {
   "cell_type": "code",
   "execution_count": 43,
   "metadata": {},
   "outputs": [],
   "source": [
    "def gpt2chat(flag='quit'):\n",
    "    from builtins import input\n",
    "    def encode_prompt(text: str) -> str:\n",
    "        input_ids = tokenizer.encode(text, return_tensors='pt')\n",
    "        samples = model.generate(input_ids=input_ids.to(device),\n",
    "                                 max_length=200,\n",
    "                                 min_length=15,\n",
    "                                 do_sample=True,\n",
    "                                 temperature=0.7,\n",
    "                                 top_k=50,\n",
    "                                 top_p=0.95,\n",
    "                                 repetition_penalty=1.1)\n",
    "        generated = []\n",
    "        for gen in samples:\n",
    "            seq = tokenizer.decode(token_ids=gen.tolist(),\n",
    "                                   skip_special_tokens=True)\n",
    "            generated.append(seq)\n",
    "        return \" \".join(generated)\n",
    "\n",
    "    while True:\n",
    "        text = input('GPT2 prompt >>> ')\n",
    "        if text.strip() == flag:\n",
    "            break\n",
    "        elif len(text.strip()) == 0:\n",
    "            print('Prompt should not be empty 🤔')\n",
    "        else:\n",
    "            print(f\"\\n{'='*40} Generated 🤗 {'='*40}\\n\")\n",
    "            print(f\"\\n\\n\\t{encode_prompt(text)}\\n\\n{'='*80}\\n\")"
   ]
  },
  {
   "cell_type": "code",
   "execution_count": 44,
   "metadata": {
    "scrolled": true
   },
   "outputs": [
    {
     "name": "stdout",
     "output_type": "stream",
     "text": [
      "GPT2 prompt >>> The widespread of current exposure is to be able to make immediate policy recommendations on mitigation measures, depends on the following;\n",
      "\n",
      "======================================== Generated 🤗 ========================================\n",
      "\n",
      "\n",
      "\n",
      "\tThe widespread of current exposure is to be able to make immediate policy recommendations on mitigation measures, depends on the following; (1) public health preparedness should focus on preventing and controlling the spread of the disease; (2) the use of emergency medical resources should be encouraged to minimize the risk for the spread of the disease; (3) the use of effective contact tracing methods should be carried out in order to identify contacts and obtain information regarding their exposure before entering into quarantine; and (4) social distancing measures should be taken to protect the population from the spread.\n",
      "\n",
      " = = = Discussion = = = \n",
      "\n",
      " The results of this study provide valuable information for planning and implementing preventive measures for the prevention and control of a pandemic influenza. We found that a large number of public health professionals were willing to implement social distancing measures. We believe that there was an impact of social distancing measures on the spread of the disease, which could be attributed to the risk of transmission, particularly when the\n",
      "\n",
      "================================================================================\n",
      "\n",
      "GPT2 prompt >>> Widespread of current exposure is to be able to make immediate policy recommendations on mitigation measures\n",
      "\n",
      "======================================== Generated 🤗 ========================================\n",
      "\n",
      "\n",
      "\n",
      "\tWidespread of current exposure is to be able to make immediate policy recommendations on mitigation measures.\n",
      "\n",
      " = = = Discussion = = = \n",
      "\n",
      " In this study, we focused on the development and implementation of a 'One Health' framework for public health preparedness in order to mitigate the impact of climate change on human health and to inform prevention efforts. Our findings are consistent with the evidence that public health interventions may not be as effective in reducing the spread of infectious diseases as they might be for protecting human health. This is supported by other studies that have shown that the magnitude and duration of outbreak responses during an influenza pandemic can be influenced by both the level of human-to-human transmission and the degree of interspecific public health risk awareness. The results of our analysis suggest that if successful public health response is to an epidemic, it will require the establishment of a robust public health system capable of sustained, sustained, multisectoral, and coordinated action to control actions. The emergence of a pandemic\n",
      "\n",
      "================================================================================\n",
      "\n",
      "GPT2 prompt >>> \tSampling methods to determine asymptomatic disease, include the following;\n",
      "\n",
      "======================================== Generated 🤗 ========================================\n",
      "\n",
      "\n",
      "\n",
      "\t\tSampling methods to determine asymptomatic disease, include the following;\n",
      "\n",
      " = = = Epidemiological analyses = = = \n",
      "\n",
      " (1) age-specific contact patterns; (2) household contacts, including household contact data; (3) household sizes and social contacts; (4) age-specific susceptibility and social contact patterns; (5) household contacts with siblings, co-workers, or other individuals; (6) household contact patterns among household members. The household contact data were collected at a weekly, household-level, monthly, and/or yearly basis for 20 years prior to the study of the SARS outbreak in 2003, and then annually thereafter. In each household, contact data were entered into a single entry form, which was sent to the index case's medical chart for review and analysis. To assess the effect of age on the spread of SARS, we used the following age-specific contact patterns of individual contacts:\n",
      "\n",
      " doi: www.impactjournals.\n",
      "\n",
      "================================================================================\n",
      "\n",
      "GPT2 prompt >>> To assess the effect of age on the spread of SARS, we used the following age-specific contact patterns of individual contacts:\n",
      "\n",
      "======================================== Generated 🤗 ========================================\n",
      "\n",
      "\n",
      "\n",
      "\tTo assess the effect of age on the spread of SARS, we used the following age-specific contact patterns of individual contacts: (1) individuals aged 20 years and above, (2) individuals aged 65 years or older, (3) individuals aged ≥65 years, (4) individuals aged ≥65 years and older.\n",
      "\n",
      " = = = Data collection = = = \n",
      "\n",
      " For each participant, data were extracted from a structured questionnaire and entered into Microsoft Excel to calculate the daily number of daily contacts by age group (e.g., those <15 years old). The number of daily contacts in each age group was calculated according to the reported date of symptom onset for the participant using the method described by Lipsitch et al..\n",
      "\n",
      " doi:10.1371/journal.pone.000485150.g001\n",
      "\n",
      " llamas are more susceptible to infection with SARS-CoV-2 than do wild boars and sows. They were also less likely to be\n",
      "\n",
      "================================================================================\n",
      "\n",
      "GPT2 prompt >>> The following is a list of policies and protocols for screening and testing:\\n\n",
      "\n",
      "======================================== Generated 🤗 ========================================\n",
      "\n",
      "\n",
      "\n",
      "\tThe following is a list of policies and protocols for screening and testing:\\nucleic acid test protocol (Supplementary), including the following:\n",
      "\n",
      " = = = Screening Protocols for Pneumonia = = = \n",
      "\n",
      " • The first step is to screen and isolate any respiratory pathogen that can be cultured in the absence or presence of a specific antibiotic. This includes the isolation of bacteria and fungi from the upper respiratory tract, respiratory syncytial virus (RSV) and adenovirus, as well as the identification of viruses and bacteria from nasopharyngeal secretions. In addition, a multiplex PCR test is also used to confirm the presence of pathogens in the respiratory tract.\n",
      "\n",
      " doi:10.1371/journal.pone.0095334.g007\n",
      "\n",
      " reserved for the diagnosis of pneumonia, and other conditions that might contribute to hospitalization.\n",
      "\n",
      " Background Acute respiratory viral infection, particularly influenza A(H1N1N1)pdm\n",
      "\n",
      "================================================================================\n",
      "\n",
      "GPT2 prompt >>> Technology such as CRISP improve response times by\n",
      "\n",
      "======================================== Generated 🤗 ========================================\n",
      "\n",
      "\n",
      "\n",
      "\tTechnology such as CRISP improve response times by up to 40%, which is very similar with the use of CRISPR/Cas9. However, even with the combination of CRISPR/Cas9 and SARS-CoV, it is still a problem. To overcome this issue, we have developed the next generation sequencing platform (NGS) to improve the efficiency of genome sequencing, which can be used in both clinical and in experimental studies.\n",
      "\n",
      " = = = Background = = = \n",
      "\n",
      " The DNA virus genome is assembled into a double-stranded DNA molecule, which contains viral proteins, small RNA (ssRNA) and RNA polymerase. The virus genome is packaged into a single-stranded DNA molecule, which requires the host cellular machinery for replication. It is packaged into the cell membrane and released into the cytosol, where it replicates. The cellular protein (p24 kDa) is packaged into the cytoplasm, where it is cleaved into\n",
      "\n",
      "================================================================================\n",
      "\n",
      "GPT2 prompt >>> Policies and protocols for screening and testing include: \n",
      "\n",
      "======================================== Generated 🤗 ========================================\n",
      "\n",
      "\n",
      "\n",
      "\tPolicies and protocols for screening and testing include: \n",
      "\n",
      " (i) identification of all known cases, epidemiological investigations, clinical, or laboratory results, as well as the case definition; (ii) appropriate reporting and verification of the findings; (iii) appropriate control measures; (iv) isolation of suspected or confirmed cases, including isolation of patients who are suspected to be infected; and (v) rapid identification of suspected or confirmed cases. In general, a standard protocol must be followed for the isolation of suspected or confirmed cases. If a case is detected in the first week of the outbreak, a follow-up visit should be performed on that case.\n",
      "\n",
      " = = = Data collection = = = \n",
      "\n",
      " We collected information on the characteristics of all case-patients, the presence of symptoms, and the diagnosis of SARS, as well as to establish the date of onset of illness onset of symptoms. We also recorded the date of symptoms. We obtained the date of symptom onset of\n",
      "\n",
      "================================================================================\n",
      "\n"
     ]
    },
    {
     "name": "stdout",
     "output_type": "stream",
     "text": [
      "GPT2 prompt >>> Technology roadmap for diagnostics >>\n",
      "\n",
      "======================================== Generated 🤗 ========================================\n",
      "\n",
      "\n",
      "\n",
      "\tTechnology roadmap for diagnostics >> What is the current state of the art for diagnostic testing?\n",
      "\n",
      " = = = Conclusion = = = \n",
      "\n",
      " The rapid development of diagnostic assays has made it possible to test thousands of samples at once without a single specimen being needed. The advantages of rapid test formats include improved sensitivity, reduced sample volume and rapid turnaround time. The disadvantages of these formats include: (i) the use of multiple laboratories in multiple sites to perform multiple tests, (ii) sample preparation can take up to 1 h; (iii) the cost is relatively low, and (iv) the turnaround time is limited to one day, making it feasible for any test manufacturer to produce a panel. To date, no standardized assay is commercially available for all pathogens, and no commercially available diagnostics are available for bacteria or viruses. However, it should be noted that these limitations may still exist and that current diagnostic assays are based on the rapid detection of bacterial agents, such as the Legionella s\n",
      "\n",
      "================================================================================\n",
      "\n",
      "GPT2 prompt >>> Improvements in testing - Conclusion:\n",
      "\n",
      "======================================== Generated 🤗 ========================================\n",
      "\n",
      "\n",
      "\n",
      "\tImprovements in testing - Conclusion: = = \n",
      "\n",
      " In conclusion, this study demonstrated that the implementation of a simple and sensitive, rapid and reliable diagnostic test for influenza A(H1N1)pdm09 was feasible in a short period of time. The results of the current study are important in establishing a new influenza prevention program for patients with suspected influenza A(H1N1)pdm09 infection and strengthening the surveillance system for patients with suspected influenza A(H1N1).\n",
      "\n",
      " Background: Respiratory syncytial virus (RSV) is an important cause of lower respiratory tract infections and other acute infectious diseases. RSV infection has been reported to be associated with increased risk of death from respiratory infections. However, the causative agent of RSV infection has not yet been identified. The aim of this study was to investigate the clinical characteristics of patients hospitalized with severe influenza A(H1N1N1)pdm2009 in Beijing and identify the etiology\n",
      "\n",
      "================================================================================\n",
      "\n",
      "GPT2 prompt >>> Improvements in testing = = Conclusion = =\n",
      "\n",
      "======================================== Generated 🤗 ========================================\n",
      "\n",
      "\n",
      "\n",
      "\tImprovements in testing = = Conclusion = = \n",
      "\n",
      " We have developed a new algorithm, the \"BinPredict\" which can predict the distribution of putative viral genes with an accuracy of 100% on all samples. It is based on the assumption that the target genes are not only relevant to viral infections, but also applicable for other viral diseases. This tool has been designed to improve the performance of the tool by detecting a wide range of targets and providing a clear picture of the potential for viral diseases to spread to people. The accuracy of the BINPredict program is higher than that of the other viral detection methods, and the results are consistent with the findings from other studies on virus detection and clinical application in the laboratory setting. In this study, we used the bicinchoninic acid test for viral detection and found that the prediction is more accurate than the conventional method in that of the present study. The bicinchoninic acid test is more accurate than that our method.\n",
      "\n",
      "================================================================================\n",
      "\n",
      "GPT2 prompt >>> Improvements in testing  = = = Data collection = = =\n",
      "\n",
      "======================================== Generated 🤗 ========================================\n",
      "\n",
      "\n",
      "\n",
      "\tImprovements in testing  = = = Data collection = = = \n",
      "\n",
      " In the first year of age, parents were asked to fill out a questionnaire. The questionnaire consisted of questions on the age at which they had taken the child to school (1) and the day of their last birthday (2) and the day of their last hospitalization (3). Parents were then asked to report the date of birth for each child at home, using a standardized form. When children's parents reported the date of birth, the questionnaires were sent electronically to parents. The details of the study was collected and analyzed by researchers from the University Hospital for Tropical Medicine, Universidade Federal de Barcelona. In the second year of age, parents were asked to fill out the questionnaire. On the third year, the parents were invited to complete a self-administered questionnaire and provided written informed consent.\n",
      "\n",
      " = = = = Study design and data collection = = = = \n",
      "\n",
      " To evaluate the study objectives We investigated\n",
      "\n",
      "================================================================================\n",
      "\n",
      "GPT2 prompt >>> Improvements in testing = = Background = =\n",
      "\n",
      "======================================== Generated 🤗 ========================================\n",
      "\n",
      "\n",
      "\n",
      "\tImprovements in testing = = Background = = \n",
      "\n",
      " To reduce the risk of adverse events, laboratory diagnostic tests have been developed for detecting and characterizing a wide range of pathogens including influenza virus, adenovirus, respiratory syncytial virus (RSV), human metapneumovirus, and human coronaviruses (HCoV). The number of laboratory tests has increased in recent years because of improvements in diagnostics, technology development, and use of molecular tools. However, laboratory diagnostic tests have not been universally standardized, particularly in regions with limited resources. For example, the WHO estimates that laboratory testing costs are higher in developed countries than in developing countries. In these countries, laboratory diagnostics are typically based on the detection of the specific respiratory viruses that cause respiratory disease, such as RSV, hMPV, influenza A(H1N1N1N1)pdm09, RSV, HCoV-OC43, HCoV-NL63\n",
      "\n",
      "================================================================================\n",
      "\n",
      "GPT2 prompt >>> Improvements in testing = = Discussion = =\n",
      "\n",
      "======================================== Generated 🤗 ========================================\n",
      "\n",
      "\n",
      "\n",
      "\tImprovements in testing = = Discussion = = \n",
      "\n",
      " The study was a cross-sectional study with some limitations. A number of studies did not provide clear information regarding the impact of the intervention. Nevertheless, the use of this tool may be useful to inform health care professionals when trying to understand the impact of social distancing measures and/or the effects of interventions on the quality of life in people at risk. This may be particularly important for healthcare workers who work with patients with severe respiratory infections or those with underlying diseases. It is also possible that the effectiveness of social distancing measures may vary depending on the type of interventions used and the type of infectious disease they are targeted against. In particular, in some studies, social distancing measures have been shown to be more effective in reducing the spread of influenza than other types of infection, such as tuberculosis, cholera, and HIV. However, it has not been found that social distancing the population through social distancing interventions can prevent the spread of\n",
      "\n",
      "================================================================================\n",
      "\n",
      "GPT2 prompt >>> = = Improvements in testing; Conclusion = =\n",
      "\n",
      "======================================== Generated 🤗 ========================================\n",
      "\n",
      "\n",
      "\n",
      "\t= = Improvements in testing; Conclusion = = = \n",
      "\n",
      " Our study demonstrated that there was a positive correlation between clinical signs and viral shedding of the SARS-CoV-2. The detection of SARS-CoV-2 in respiratory specimens was comparable to that of SARS-CoV-2 in blood samples collected from patients in Hong Kong. We suggest that there is a good correlation between clinical symptoms and viral shedding of SARS-CoV-2 in nasal swab samples.\n",
      "\n",
      " Background: As of February 20, 2020, the World Health Organization (WHO) has reported over 2,000 cases of COVID-19 including 8 deaths and 1974 laboratory confirmed cases. The initial symptom of COVID-19 was fever, fatigue, headache, myalgia, headache and myalgia. It is suspected that the infection was caused by the viral respiratory droplets. It is unclear whether there are any other possible viral pathogen.\n",
      "\n",
      " Abstract: An outbreak of 2019 novel coronav\n",
      "\n",
      "================================================================================\n",
      "\n"
     ]
    },
    {
     "name": "stdout",
     "output_type": "stream",
     "text": [
      "GPT2 prompt >>> = = Improvements in testing; Data collection = =\n",
      "\n",
      "======================================== Generated 🤗 ========================================\n",
      "\n",
      "\n",
      "\n",
      "\t= = Improvements in testing; Data collection = = = \n",
      "\n",
      " The surveillance systems and reporting system of the Ministry of Health, which was established in 2005, are continuously changing and need to be updated to reflect the changing trends and characteristics. This process is being implemented as a core component of public health research.\n",
      "\n",
      " Background: Laboratory-confirmed influenza infections (ILI) are a major public health problem worldwide and affect a substantial proportion of children and adults. We report on the incidence of ILI in a community-based study conducted in Kenya. Methods: We used an electronic surveillance system for ILI from May 2008 to December 2010. A total of 17 surveillance sites were visited. A sample of 50 ILI patients who were diagnosed with ILI at five sites were selected and evaluated by medical staffs. Results: Of the 53 samples tested positive for ILI, 31 samples (n = 473) had ILI-positive results; of 7 specimens from two hospitals, and four samples collected from three\n",
      "\n",
      "================================================================================\n",
      "\n",
      "GPT2 prompt >>> = = Improvements in testing; Background = =\n",
      "\n",
      "======================================== Generated 🤗 ========================================\n",
      "\n",
      "\n",
      "\n",
      "\t= = Improvements in testing; Background = = = \n",
      "\n",
      " In addition to the clinical, epidemiological and molecular assays, the nucleic acid testing (NAT) assay has also been applied as a diagnostic tool for respiratory pathogens. The first NAT was developed by the National Influenza Center of South Korea (NCISK). The NAT is an enzyme-linked immunosorbent assay, which detects viruses in nasopharyngeal swabs by using specific antibodies. However, only a few studies have evaluated the performance of this assay in patients with respiratory illnesses.\n",
      "\n",
      " doi:10.1371/journal.pone.0099762.g003\n",
      "\n",
      " Engagement of Influenza A Virus-specific T Cell Activation by Influenza A Virus Infection: Improving the Protection Against Respiratory Distress Syndrome in Patients With Severe Acute Respiratory Illness. = = = \n",
      "\n",
      " = = = \n",
      "\n",
      " = = = = Introduction = = = \n",
      "\n",
      "================================================================================\n",
      "\n",
      "GPT2 prompt >>> = = Improvements in testing; Research = =\n",
      "\n",
      "======================================== Generated 🤗 ========================================\n",
      "\n",
      "\n",
      "\n",
      "\t= = Improvements in testing; Research = = = \n",
      "\n",
      " There is a need for improved methods to compare the two groups of patients. The lack of a standardized test is an obstacle and the lack of a validated method is a challenge that needs to be addressed to better establish and assess the effectiveness of current treatment. In this study, we evaluated the effectiveness of new, single-centre, randomized controlled clinical trials (RCTs) on evaluating the use of RVP in treating influenza. We report the results of these trials. We also report the results of additional trials.\n",
      "\n",
      " Background: In order to identify new biomarkers for influenza, we aimed to investigate the impact of different cytokines and chemokines in influenza-infected patients. Methods: All adult patients with mild respiratory failure admitted to the ICU or ICU between January 2008 and March 2011 were included in a randomized, double blinded, placebo-controlled, randomised trial. Patients were divided into two arms. Results: Inflamm\n",
      "\n",
      "================================================================================\n",
      "\n",
      "GPT2 prompt >>> quit\n"
     ]
    }
   ],
   "source": [
    "gpt2chat()"
   ]
  },
  {
   "cell_type": "code",
   "execution_count": null,
   "metadata": {},
   "outputs": [],
   "source": []
  }
 ],
 "metadata": {
  "kernelspec": {
   "display_name": "Python 3",
   "language": "python",
   "name": "python3"
  },
  "language_info": {
   "codemirror_mode": {
    "name": "ipython",
    "version": 3
   },
   "file_extension": ".py",
   "mimetype": "text/x-python",
   "name": "python",
   "nbconvert_exporter": "python",
   "pygments_lexer": "ipython3",
   "version": "3.7.7"
  },
  "varInspector": {
   "cols": {
    "lenName": 16,
    "lenType": 16,
    "lenVar": 40
   },
   "kernels_config": {
    "python": {
     "delete_cmd_postfix": "",
     "delete_cmd_prefix": "del ",
     "library": "var_list.py",
     "varRefreshCmd": "print(var_dic_list())"
    },
    "r": {
     "delete_cmd_postfix": ") ",
     "delete_cmd_prefix": "rm(",
     "library": "var_list.r",
     "varRefreshCmd": "cat(var_dic_list()) "
    }
   },
   "types_to_exclude": [
    "module",
    "function",
    "builtin_function_or_method",
    "instance",
    "_Feature"
   ],
   "window_display": false
  }
 },
 "nbformat": 4,
 "nbformat_minor": 4
}
