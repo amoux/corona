{
  "nbformat": 4,
  "nbformat_minor": 0,
  "metadata": {
    "kernelspec": {
      "display_name": "Python 3",
      "language": "python",
      "name": "python3"
    },
    "language_info": {
      "codemirror_mode": {
        "name": "ipython",
        "version": 3
      },
      "file_extension": ".py",
      "mimetype": "text/x-python",
      "name": "python",
      "nbconvert_exporter": "python",
      "pygments_lexer": "ipython3",
      "version": "3.7.7"
    },
    "varInspector": {
      "cols": {
        "lenName": 16,
        "lenType": 16,
        "lenVar": 40
      },
      "kernels_config": {
        "python": {
          "delete_cmd_postfix": "",
          "delete_cmd_prefix": "del ",
          "library": "var_list.py",
          "varRefreshCmd": "print(var_dic_list())"
        },
        "r": {
          "delete_cmd_postfix": ") ",
          "delete_cmd_prefix": "rm(",
          "library": "var_list.r",
          "varRefreshCmd": "cat(var_dic_list()) "
        }
      },
      "types_to_exclude": [
        "module",
        "function",
        "builtin_function_or_method",
        "instance",
        "_Feature"
      ],
      "window_display": false
    },
    "colab": {
      "name": "Difference between IndexIVFFlat and IndexIVFPQ for question answering..ipynb",
      "provenance": [],
      "include_colab_link": true
    }
  },
  "cells": [
    {
      "cell_type": "markdown",
      "metadata": {
        "id": "view-in-github",
        "colab_type": "text"
      },
      "source": [
        "<a href=\"https://colab.research.google.com/github/amoux/corona/blob/master/notebooks/Difference_between_IndexIVFFlat_and_IndexIVFPQ_for_question_answering_.ipynb\" target=\"_parent\"><img src=\"https://colab.research.google.com/assets/colab-badge.svg\" alt=\"Open In Colab\"/></a>"
      ]
    },
    {
      "cell_type": "code",
      "metadata": {
        "id": "86HwXH-pBnHX"
      },
      "source": [
        "import torch\n",
        "from coronanlp import CORD19, SentenceEncoder\n",
        "from coronanlp import clean_tokenization, normalize_whitespace\n",
        "from coronanlp.engine import ScibertQuestionAnswering, BertSummarizerArguments\n",
        "from coronanlp.retrival import common_tokens, extract_questions\n",
        "from coronanlp.parser import regex_bracket, regex_figure\n",
        "from coronanlp.indexing import fit_index_ivf_fpq, fit_index_ivf_hnsw\n",
        "from coronanlp.utils import render_output as render\n",
        "from coronanlp.utils import GRADIENTS as G"
      ],
      "execution_count": null,
      "outputs": []
    },
    {
      "cell_type": "code",
      "metadata": {
        "id": "zQBOeXPIBnHf",
        "outputId": "d0a7c846-d117-451c-a0d0-06cae40837e1"
      },
      "source": [
        "%%time\n",
        "cord19 = CORD19.from_store(name='cord19-large')\n",
        "print(cord19)"
      ],
      "execution_count": null,
      "outputs": [
        {
          "output_type": "stream",
          "text": [
            "CORD19(papers: 29,315, files_sorted: True, source: [\n",
            "  biorxiv_medrxiv, comm_use_subset, noncomm_use_subset, custom_license,\n",
            "])\n",
            "CPU times: user 353 ms, sys: 28 ms, total: 381 ms\n",
            "Wall time: 380 ms\n"
          ],
          "name": "stdout"
        }
      ]
    },
    {
      "cell_type": "code",
      "metadata": {
        "id": "ztO6gUwvBnHg",
        "outputId": "92979a66-250c-4e45-db44-3c6a4c639ba2"
      },
      "source": [
        "%%time\n",
        "if not cord19.sentencizer_enabled:\n",
        "    cord19.init_sentencizer()\n",
        "print(cord19.sentencizer_enabled)"
      ],
      "execution_count": null,
      "outputs": [
        {
          "output_type": "stream",
          "text": [
            "True\n",
            "CPU times: user 5.46 s, sys: 208 ms, total: 5.67 s\n",
            "Wall time: 5.7 s\n"
          ],
          "name": "stdout"
        }
      ]
    },
    {
      "cell_type": "code",
      "metadata": {
        "id": "3_j94SxkBnHh",
        "outputId": "d040d935-3938-4d55-d42b-ebb72ad6c10b",
        "colab": {
          "referenced_widgets": [
            "91cf3878cabb4a6d95766aa5cbab7111"
          ]
        }
      },
      "source": [
        "%%time\n",
        "biorxiv = cord19.sample(s=0)\n",
        "sents = cord19.batch(biorxiv, minlen=16, maxlen=1024, workers=7)"
      ],
      "execution_count": null,
      "outputs": [
        {
          "output_type": "display_data",
          "data": {
            "application/vnd.jupyter.widget-view+json": {
              "model_id": "91cf3878cabb4a6d95766aa5cbab7111",
              "version_major": 2,
              "version_minor": 0
            },
            "text/plain": [
              "HBox(children=(FloatProgress(value=0.0, description='files/papers', max=885.0, style=ProgressStyle(description…"
            ]
          },
          "metadata": {
            "tags": []
          }
        },
        {
          "output_type": "stream",
          "text": [
            "\n",
            "CPU times: user 6min 23s, sys: 33.5 s, total: 6min 56s\n",
            "Wall time: 1min 41s\n"
          ],
          "name": "stdout"
        }
      ]
    },
    {
      "cell_type": "code",
      "metadata": {
        "id": "TK7a4mtgBnHi",
        "outputId": "4d8565a6-c995-41d5-f232-2e2e4f599280"
      },
      "source": [
        "print(sents)"
      ],
      "execution_count": null,
      "outputs": [
        {
          "output_type": "stream",
          "text": [
            "SentenceStore(avg_seqlen: 33.49 | num_papers: 885 | num_sents: 83,819 | num_tokens: 2,807,074)\n"
          ],
          "name": "stdout"
        }
      ]
    },
    {
      "cell_type": "code",
      "metadata": {
        "id": "alGHG7s0BnHi",
        "outputId": "ca845c03-f1ec-4c96-96b8-47384dce3a43"
      },
      "source": [
        "sents.min(), sents.max(), sents.std()"
      ],
      "execution_count": null,
      "outputs": [
        {
          "output_type": "execute_result",
          "data": {
            "text/plain": [
              "(16, 889, 18.779493321526648)"
            ]
          },
          "metadata": {
            "tags": []
          },
          "execution_count": 6
        }
      ]
    },
    {
      "cell_type": "code",
      "metadata": {
        "id": "pLgrRM-ABnHj",
        "outputId": "765de141-c44a-4874-c165-4391e57dcc28"
      },
      "source": [
        "largest = sents.largest(10)\n",
        "largest"
      ],
      "execution_count": null,
      "outputs": [
        {
          "output_type": "execute_result",
          "data": {
            "text/plain": [
              "[(369, 530),\n",
              " (55, 393),\n",
              " (229, 386),\n",
              " (319, 367),\n",
              " (304, 364),\n",
              " (783, 364),\n",
              " (517, 354),\n",
              " (163, 352),\n",
              " (489, 351),\n",
              " (448, 341)]"
            ]
          },
          "metadata": {
            "tags": []
          },
          "execution_count": 7
        }
      ]
    },
    {
      "cell_type": "code",
      "metadata": {
        "id": "YE23lzb0BnHj",
        "outputId": "1bffa845-aeb2-4505-e868-cb9286513dc8"
      },
      "source": [
        "pid, count = largest[0]\n",
        "title = cord19.title(pid)\n",
        "print(title)"
      ],
      "execution_count": null,
      "outputs": [
        {
          "output_type": "stream",
          "text": [
            "Title: HOPS-dependent endosomal fusion required for efficient cytosolic delivery of therapeutic peptides and small proteins\n"
          ],
          "name": "stdout"
        }
      ]
    },
    {
      "cell_type": "code",
      "metadata": {
        "id": "9qlHCeGRBnHj"
      },
      "source": [
        "encoder = SentenceEncoder.from_pretrained(\"amoux/scibert_nli_squad\", device=\"cuda\")\n",
        "tokenizer, device = encoder.tokenizer, encoder.device"
      ],
      "execution_count": null,
      "outputs": []
    },
    {
      "cell_type": "code",
      "metadata": {
        "id": "CRwbGT7MBnHk",
        "outputId": "1ae47d5b-4a97-4edc-a45d-e6d344af1599"
      },
      "source": [
        "inputs = tokenizer(sents[:5], padding=True, truncation=True,\n",
        "                   max_length=256, return_tensors=\"pt\")\n",
        "with torch.no_grad():\n",
        "    output = encoder(**inputs.to(device))\n",
        "    queries = output['sentence_embeddings'].to('cpu').numpy()\n",
        "\n",
        "# Queries to test the both index objects\n",
        "queries.shape"
      ],
      "execution_count": null,
      "outputs": [
        {
          "output_type": "execute_result",
          "data": {
            "text/plain": [
              "(5, 768)"
            ]
          },
          "metadata": {
            "tags": []
          },
          "execution_count": 10
        }
      ]
    },
    {
      "cell_type": "code",
      "metadata": {
        "id": "BcCMuBS_BnHk",
        "outputId": "fd3d2a71-b0e1-47b4-98eb-3ee772dd6e25",
        "colab": {
          "referenced_widgets": [
            "415ec9c0120840a39904b6de475619a3"
          ]
        }
      },
      "source": [
        "%%time\n",
        "embeddings = encoder.encode(sents, batch_size=12)\n",
        "assert embeddings.shape[0] == len(sents)"
      ],
      "execution_count": null,
      "outputs": [
        {
          "output_type": "display_data",
          "data": {
            "application/vnd.jupyter.widget-view+json": {
              "model_id": "415ec9c0120840a39904b6de475619a3",
              "version_major": 2,
              "version_minor": 0
            },
            "text/plain": [
              "HBox(children=(FloatProgress(value=0.0, description='batch', max=6985.0, style=ProgressStyle(description_width…"
            ]
          },
          "metadata": {
            "tags": []
          }
        },
        {
          "output_type": "stream",
          "text": [
            "\n",
            "CPU times: user 6min 3s, sys: 7.43 s, total: 6min 11s\n",
            "Wall time: 5min 21s\n"
          ],
          "name": "stdout"
        }
      ]
    },
    {
      "cell_type": "code",
      "metadata": {
        "id": "KjbhK85ZBnHl",
        "outputId": "25035380-8b77-4c47-ce3a-415dd6ab4232"
      },
      "source": [
        "%%time\n",
        "def clean_function(x: str) -> str:\n",
        "    x = regex_bracket.sub(' ', x)\n",
        "    x = regex_figure.sub(' ', x)\n",
        "    x = normalize_whitespace(x)\n",
        "    return clean_tokenization(x)\n",
        "\n",
        "sents.map(clean_function, inplace=True)"
      ],
      "execution_count": null,
      "outputs": [
        {
          "output_type": "stream",
          "text": [
            "CPU times: user 3.11 s, sys: 0 ns, total: 3.11 s\n",
            "Wall time: 3.13 s\n"
          ],
          "name": "stdout"
        }
      ]
    },
    {
      "cell_type": "code",
      "metadata": {
        "id": "hy80uW6GBnHl",
        "outputId": "5a635c41-ae4b-45d8-b8ac-3eec21732d05"
      },
      "source": [
        "fpq_index = fit_index_ivf_fpq(embeddings, k=8, nlist=4096, m=32)\n",
        "fpq_index.is_trained"
      ],
      "execution_count": null,
      "outputs": [
        {
          "output_type": "execute_result",
          "data": {
            "text/plain": [
              "True"
            ]
          },
          "metadata": {
            "tags": []
          },
          "execution_count": 13
        }
      ]
    },
    {
      "cell_type": "code",
      "metadata": {
        "id": "uhOoMwlKBnHl",
        "outputId": "13c047bf-5a81-4be6-8c6a-000bdf804ba0"
      },
      "source": [
        "hnsw_index = fit_index_ivf_hnsw(embeddings, metric='l2', m=32)\n",
        "hnsw_index.is_trained"
      ],
      "execution_count": null,
      "outputs": [
        {
          "output_type": "execute_result",
          "data": {
            "text/plain": [
              "True"
            ]
          },
          "metadata": {
            "tags": []
          },
          "execution_count": 14
        }
      ]
    },
    {
      "cell_type": "code",
      "metadata": {
        "id": "Jq0TF6y4BnHm",
        "outputId": "2c867d94-cf41-4ea1-e4f4-302e95f0ed9f"
      },
      "source": [
        "sid = 2\n",
        "fpq_index.nprobe = 256\n",
        "D0, I0 = fpq_index.search(queries, k=5)\n",
        "print(f'(query; {sid}): {sents[sid]}\\n')\n",
        "nearest = sents.get(I0[sid].tolist())\n",
        "for k, sent in enumerate(nearest):\n",
        "    print(f'({k+1}) {sent}')"
      ],
      "execution_count": null,
      "outputs": [
        {
          "output_type": "stream",
          "text": [
            "(query; 2): On December 31, 2019, a total of 27 cases were reported; meanwhile, a rapid response team led by the Chinese Centre for Disease Control and Prevention (China CDC) was formed to conduct detailed epidemiologic and aetiologic investigations in Wuhan.\n",
            "\n",
            "(1) On the evening of 06/02/2020 the UK definition of a suspected case was extended to include people presenting with respiratory illness (defined as cough, shortness of breath or fever with or without other symptoms) returning from or transiting through China including Hong Kong and Macau, Japan, Malaysia, South Korea, Singapore, Taiwan or Thailand within the last 14 days, with the case definition subsequently changing further on 25/02/2020 to include northern Italy, Iran and further countries in SE Asia.\n",
            "(2) Blood was centrifuged at 4.8K rpm for 10' followed by 12K rpm at 20' and filtration through a We would like to thank Dr. Julia Calzada-Wack, Jacqueline Mueller and Marion Fisch for their 625 kind assistance with tissue processing and sectioning.\n",
            "(3) We assessed the ability of isolation and contact tracing to control disease outbreaks using a mathematical model 6,.\n",
            "(4) We performed retrospective study of prevalence of acute appendicitis among Tibetan students from 2005, and since then carried out surveillance to July 2018.\n",
            "(5) Later versions of RELION and cryoSPARC's homogeneous (uniform) refinement use a transfer function (or Wiener filter) determined by Fourier Shell Correlation (FSC) computed between two independent half-maps (e.g., [3, 13, 25]).\n"
          ],
          "name": "stdout"
        }
      ]
    },
    {
      "cell_type": "code",
      "metadata": {
        "id": "9jipUgM3BnHm",
        "outputId": "7c62cc52-a516-4692-8ff1-9eb092bba81d"
      },
      "source": [
        "sid = 2\n",
        "hnsw_index.nprobe = 256\n",
        "D1, I1 = hnsw_index.search(queries, k=5)\n",
        "print(f'(query; {sid}): {sents[sid]}\\n')\n",
        "nearest = sents.get(I1[sid].tolist())\n",
        "for k, sent in enumerate(nearest):\n",
        "    print(f'({k+1}) {sent}')"
      ],
      "execution_count": null,
      "outputs": [
        {
          "output_type": "stream",
          "text": [
            "(query; 2): On December 31, 2019, a total of 27 cases were reported; meanwhile, a rapid response team led by the Chinese Centre for Disease Control and Prevention (China CDC) was formed to conduct detailed epidemiologic and aetiologic investigations in Wuhan.\n",
            "\n",
            "(1) On December 31, 2019, a total of 27 cases were reported; meanwhile, a rapid response team led by the Chinese Centre for Disease Control and Prevention (China CDC) was formed to conduct detailed epidemiologic and aetiologic investigations in Wuhan.\n",
            "(2) The From January 21 to February 15, 2020, based on epidemiological evidence, fever and/or respiratory symptoms, chest radiological findings and blood white blood cell (WBC) results, physicians at the Fever Clinic referred 156 cases to panel discussion by multi-discipline experts.\n",
            "(3) Following Wu et al. 5, we developed a susceptible-exposed-infectious-recovered (SEIR)-based metapopulation model, which has 100 sub-populations representing the 100 cities that have the greatest number of people traveling from Wuhan.\n",
            "(4) From December 1, 2019 to February 14, 2020, WPS software was used to analyze and summarize; WPS software and GraphPad Prism 6 software were used for mapping.\n",
            "(5) It happened during May and July 2015, and infected a total of 186 individuals, with a death toll of 36 (Organization, 2015 11).\n"
          ],
          "name": "stdout"
        }
      ]
    },
    {
      "cell_type": "code",
      "metadata": {
        "id": "IpxxHI1WBnHm",
        "outputId": "f38b7c07-afd5-4bba-d726-99351cf65fb8"
      },
      "source": [
        "%%time\n",
        "Q = ScibertQuestionAnswering(\n",
        "    sents=sents,\n",
        "    index=fpq_index,\n",
        "    encoder=encoder,\n",
        "    cord19=cord19,\n",
        "    summarizer_kwargs=BertSummarizerArguments(\n",
        "        ratio=0.3,\n",
        "        min_length=sents.min(),\n",
        "        max_length=sents.max(),\n",
        "        algorithm=\"kmeans\",\n",
        "    )\n",
        ")"
      ],
      "execution_count": null,
      "outputs": [
        {
          "output_type": "stream",
          "text": [
            "CPU times: user 13.7 s, sys: 833 ms, total: 14.5 s\n",
            "Wall time: 13.3 s\n"
          ],
          "name": "stdout"
        }
      ]
    },
    {
      "cell_type": "code",
      "metadata": {
        "id": "79HAil2MBnHn",
        "outputId": "a65e38ad-e449-4ab3-a3b5-d3a66f4f1809",
        "colab": {
          "referenced_widgets": [
            "53ddf4abd90549d0ba1b574e55bee0dc"
          ]
        }
      },
      "source": [
        "%%time\n",
        "questions = extract_questions(sents, remove_empty=True)"
      ],
      "execution_count": null,
      "outputs": [
        {
          "output_type": "display_data",
          "data": {
            "application/vnd.jupyter.widget-view+json": {
              "model_id": "53ddf4abd90549d0ba1b574e55bee0dc",
              "version_major": 2,
              "version_minor": 0
            },
            "text/plain": [
              "HBox(children=(FloatProgress(value=0.0, description='sentences', max=885.0, style=ProgressStyle(description_wi…"
            ]
          },
          "metadata": {
            "tags": []
          }
        },
        {
          "output_type": "stream",
          "text": [
            "\n",
            "CPU times: user 223 ms, sys: 3.85 ms, total: 226 ms\n",
            "Wall time: 225 ms\n"
          ],
          "name": "stdout"
        }
      ]
    },
    {
      "cell_type": "code",
      "metadata": {
        "id": "RA9qvh0rBnHn",
        "outputId": "266c1621-097a-4686-9200-9561a57b32e2"
      },
      "source": [
        "def answer(question, index='fpq', a=0, k=5, p=35, probe=256):\n",
        "    Q.index = fpq_index if index == 'fpq' else hnsw_index\n",
        "    theme = 'feels' if index == 'fpq' else 'virgin'\n",
        "    pred = Q(question, k, p, probe)\n",
        "    render(pred, pred.a[pred.topk(a)], grad_pair=G[theme])\n",
        "    \n",
        "questions._store"
      ],
      "execution_count": null,
      "outputs": [
        {
          "output_type": "execute_result",
          "data": {
            "text/plain": [
              "{45: ['Why do they need it in high amounts, provided that the Orf1a stoichiometry is thought to be higher than that of Orf1b products?'],\n",
              " 100: ['What features of the time series might have driven the results in our correlation analysis?'],\n",
              " 102: ['How does this interaction occur? What parameters would define how effectively pathogens are transmitted into the reservoir?'],\n",
              " 188: ['What viral genes should be attenuated? How many attenuating mutations should be made to the genome? What synonymous features should be targeted for deoptimization?'],\n",
              " 229: ['How does crowding among disordered domains overcome the ability of BAR scaffolds to stabilize lipid tubules?'],\n",
              " 347: ['How do NPs induce cellular stress responses, and why do the PACAs studied here have different effects?'],\n",
              " 361: ['How does the system transition from a single energy barrier for homogeneous boundaries to two barriers when a gradient in spontaneous curvature at the boundaries is imposed?'],\n",
              " 487: ['When you suspect that you are being infected with MERS---CoV, what is the one thing you should not do?'],\n",
              " 489: ['How do cells monitor the status of origin licensing, what conditions satisfy the checkpoint, and how is licensing status coupled to the activation of CDKs?'],\n",
              " 832: ['How would E, I, R, F change if the value of parameters (α(t), β(t), η(t), δ(t), γ(t)) varied or if the beginning date January 23, 2020 of the simulation changed?']}"
            ]
          },
          "metadata": {
            "tags": []
          },
          "execution_count": 19
        }
      ]
    },
    {
      "cell_type": "code",
      "metadata": {
        "id": "JOAcVEdoBnHn",
        "outputId": "26749897-debd-49a8-c51b-7fed33031ddd"
      },
      "source": [
        "answer(questions[0], index='fpq')"
      ],
      "execution_count": null,
      "outputs": [
        {
          "output_type": "display_data",
          "data": {
            "text/html": [
              "<span class=\"tex2jax_ignore\"><h2 style=\"margin: 0\">Question: Why do they need it in high amounts, provided that the Orf1a stoichiometry is thought to be higher than that of Orf1b products?</h2><div class=\"entities\" style=\"line-height: 2.5; direction: ltr\">This showed that <mark class=\"entity\" style=\"background: linear-gradient(90deg, #4568dc, #b06ab3); padding: 0.45em 0.6em; margin: 0 0.25em; line-height: 1; border-radius: 0.35em;\">to improve the rate of cure, the development of special medicine<span style=\"font-size: 0.8em; font-weight: bold; line-height: 1; border-radius: 0.35em; text-transform: uppercase; vertical-align: middle; margin-left: 0.5rem\">ANSWER</span></mark> should be the second most effective measure. Thus we encourage the people to be self-protective until the epidemic is totally under control.. Our analysis reported a much higher growth rate of the early 2019-nCoV outbreak in Wuhan. If &lt; 1, the number of infections generated per case will be overdispersed to simulate super-spreading. However, we were unable to confirm if the mosquito control campaign was indeed successful, or what was specifically done, and for how long. This alternating procedure can be repeated until no more improvement (in posterior probability) is found. Instead, in an ideal world, after reading any of the original COVID-19 manuscripts 4. It suggests that that the incubation period is somewhat correlated with age though not that strong. We first used our model to assess likely epidemic sizes when an initial COVID-19 death is reported in a new location.</div></span>"
            ],
            "text/plain": [
              "<IPython.core.display.HTML object>"
            ]
          },
          "metadata": {
            "tags": []
          }
        }
      ]
    },
    {
      "cell_type": "code",
      "metadata": {
        "id": "HDMcWhBCBnHo",
        "outputId": "263fcd2c-5b21-4e1b-e7d6-5fedf50035aa"
      },
      "source": [
        "answer(questions[0], index='hnsw')"
      ],
      "execution_count": null,
      "outputs": [
        {
          "output_type": "display_data",
          "data": {
            "text/html": [
              "<span class=\"tex2jax_ignore\"><h2 style=\"margin: 0\">Question: Why do they need it in high amounts, provided that the Orf1a stoichiometry is thought to be higher than that of Orf1b products?</h2><div class=\"entities\" style=\"line-height: 2.5; direction: ltr\"><mark class=\"entity\" style=\"background: linear-gradient(90deg, #7b4397, #dc2430); padding: 0.45em 0.6em; margin: 0 0.25em; line-height: 1; border-radius: 0.35em;\"><span style=\"font-size: 0.8em; font-weight: bold; line-height: 1; border-radius: 0.35em; text-transform: uppercase; vertical-align: middle; margin-left: 0.5rem\">ANSWER</span></mark>Are activity levels provided by this enzyme low? What is its actual substrate specificity? That is why we want the data to be complete and accurate.&quot; Are their nsp16-like enzymes of broad or promiscuous specificity? We analyze how this number would increase according to projections in a fully status quo scenario compared to the presence of a travel ban. Practically, there is likely to be an upper bound on the number of cases that can be traced, and case isolation is likely to be imperfect 33. Large value of suggests that the government more likes to control the spreading of COVID-19. This is in contrast to reports that CD8+ T 528 cells in mice can retain IFITM3 expression following influenza infection (3). Unusually, the period of continuing positive nuclear acid was 24 days, longer than most patients reported from Wuhan 27.. CC-BY-NC-ND 4.0 International license It is made available under a is the author/funder, who has granted medRxiv a license to display the preprint in perpetuity. As a new infectious disease, while the detection of nucleic acid cannot be used widely, specific antibodies to 2019-nCoV can be used to determine whether the patient has been recently infected with 2019-nCoV or not. These provinces all had high estimated numbers of cases imported from Wuhan by 3 February 2020.</div></span>"
            ],
            "text/plain": [
              "<IPython.core.display.HTML object>"
            ]
          },
          "metadata": {
            "tags": []
          }
        }
      ]
    },
    {
      "cell_type": "code",
      "metadata": {
        "id": "ELpOWfxXBnHo",
        "outputId": "709febcb-3e4b-4a12-fc1c-cd87f405c178"
      },
      "source": [
        "answer(questions[2], index='fpq')"
      ],
      "execution_count": null,
      "outputs": [
        {
          "output_type": "display_data",
          "data": {
            "text/html": [
              "<span class=\"tex2jax_ignore\"><h2 style=\"margin: 0\">Question: How does this interaction occur? What parameters would define how effectively pathogens are transmitted into the reservoir?</h2><div class=\"entities\" style=\"line-height: 2.5; direction: ltr\"><mark class=\"entity\" style=\"background: linear-gradient(90deg, #4568dc, #b06ab3); padding: 0.45em 0.6em; margin: 0 0.25em; line-height: 1; border-radius: 0.35em;\">robust and early T cell response played crucial roles in viral clearance<span style=\"font-size: 0.8em; font-weight: bold; line-height: 1; border-radius: 0.35em; text-transform: uppercase; vertical-align: middle; margin-left: 0.5rem\">ANSWER</span></mark> during acute respiratory infections. However, the precise combination of setting and type of contact that will be important for transmission will depend on the infection being considered. Then follows the task of selecting sites that will be used to infer the phylogenetic tree. Simulations were used to evaluate different viral sampling strategies for their proficiency in reconstructing viral population histories. Phages are major drivers in global biogeochemical cycles through the control they exert on bacterial populations. Our findings also highlight a unique role for neuronal production of chemokines in the initiation of leukocytic infiltration into the infected central nervous system. Recent recombination should result in long homoplasy tracts shared across branches in the phylogenetic tree. Virion entry requires efficient use of the host cell environment while simultaneously evading cellular immune responses. The level and timing of government restrictions on social distancing is very important in controlling the epidemic. We analyze the occurrence of these segments in known structures, and connect them to structural and functional features. However, in order to fully utilize the potential of this culture system it must be made amenable to 66 genetic modification.</div></span>"
            ],
            "text/plain": [
              "<IPython.core.display.HTML object>"
            ]
          },
          "metadata": {
            "tags": []
          }
        }
      ]
    },
    {
      "cell_type": "code",
      "metadata": {
        "id": "cGIa13hUBnHo",
        "outputId": "48f3016b-b4ff-4a09-c5ac-afdfa72f6a12"
      },
      "source": [
        "answer(questions[2], index='hnsw')"
      ],
      "execution_count": null,
      "outputs": [
        {
          "output_type": "display_data",
          "data": {
            "text/html": [
              "<span class=\"tex2jax_ignore\"><h2 style=\"margin: 0\">Question: How does this interaction occur? What parameters would define how effectively pathogens are transmitted into the reservoir?</h2><div class=\"entities\" style=\"line-height: 2.5; direction: ltr\">Note that the nature of this reservoir can be : <mark class=\"entity\" style=\"background: linear-gradient(90deg, #7b4397, #dc2430); padding: 0.45em 0.6em; margin: 0 0.25em; line-height: 1; border-radius: 0.35em;\">it can be large or small, liquid or solid, mobile or immobile,<span style=\"font-size: 0.8em; font-weight: bold; line-height: 1; border-radius: 0.35em; text-transform: uppercase; vertical-align: middle; margin-left: 0.5rem\">ANSWER</span></mark> and there could also be multiple reservoirs. We investigated the impact of adding hospital beds on the spread of the epidemic as follows. This indicates the potential for changes to nucleosome structure to reconfigure the way in which histone epitopes are presented. In this work, the way temperature and humidity affect the doubling time of COVID-19 spreading was determined. They influence the disease's incidence and prevalence, how quickly an epidemic grows, and how quickly intervention methods need to be implemented by public health officials to control the disease [24, 25]. As such, we expect to see the number of cases in the last week increase in the coming days. We propose that this is the metal binding site required for maintaining conformation of the active site and substrate during catalysis. Changes in the way individuals establish contacts during holidays are the key ingredient explaining the mitigating effect of regular school closure. Countries of origin were subsequently grouped into different geographic areas according to the criteria that could more precisely identify the migration patterns. In particular, we study how the amount of early HIV transmission affects estimates of intervention effectiveness.</div></span>"
            ],
            "text/plain": [
              "<IPython.core.display.HTML object>"
            ]
          },
          "metadata": {
            "tags": []
          }
        }
      ]
    },
    {
      "cell_type": "code",
      "metadata": {
        "id": "dRgnmjUFBnHp",
        "outputId": "6f8d1620-4d84-416a-ce90-c033b9b9e3f1"
      },
      "source": [
        "answer(questions[5], index='fpq')"
      ],
      "execution_count": null,
      "outputs": [
        {
          "output_type": "display_data",
          "data": {
            "text/html": [
              "<span class=\"tex2jax_ignore\"><h2 style=\"margin: 0\">Question: How do NPs induce cellular stress responses, and why do the PACAs studied here have different effects?</h2><div class=\"entities\" style=\"line-height: 2.5; direction: ltr\">Table 3 distinguishs <mark class=\"entity\" style=\"background: linear-gradient(90deg, #4568dc, #b06ab3); padding: 0.45em 0.6em; margin: 0 0.25em; line-height: 1; border-radius: 0.35em;\">Hubei Province as a single category to reflect the corresponding relationships and differences.<span style=\"font-size: 0.8em; font-weight: bold; line-height: 1; border-radius: 0.35em; text-transform: uppercase; vertical-align: middle; margin-left: 0.5rem\">ANSWER</span></mark> We 99 used an O3 dose that is equivalent to human exposure during a high-O3 day (33, 34). We assessed the ability of isolation and contact tracing to control disease outbreaks using a mathematical model 6,. The lag time occurs after the earlier of: (1) isolation of individual i or (2) removal of individual i from the disease system upon recovery or death. The estimated latent infection ratio enabled us to conduct further epidemiological investigations to better understand the ongoing 2019-nCoV epidemic. We also built a combined network to illustrate the unique and overlapping 213 gene network patterns for each phenotype. 193 We also made models of single amino acids respectively and performed molecular dynamics 194 simulation to investigate their individual influence to the affinity. We also analyzed the nucleotide substitution rate in the whole genome level and the CDS of some proteins during their evolution process. Tourism activity was assumed to recover to baseline levels immediately after the lifting of a travel ban. 127 We then considered the reduction in the probability that an imported case leads to 129 sustained transmission if surveillance is more intense. Then, we assigned each Spanish airport to its corresponding province and ranked them according to their total number of operations with each country, see figure 2.</div></span>"
            ],
            "text/plain": [
              "<IPython.core.display.HTML object>"
            ]
          },
          "metadata": {
            "tags": []
          }
        }
      ]
    },
    {
      "cell_type": "code",
      "metadata": {
        "id": "HY7PFrZhBnHp",
        "outputId": "5250a452-86ab-4cca-e627-a6e7f1f8fc72"
      },
      "source": [
        "answer(questions[5], index='hnsw')"
      ],
      "execution_count": null,
      "outputs": [
        {
          "output_type": "display_data",
          "data": {
            "text/html": [
              "<span class=\"tex2jax_ignore\"><h2 style=\"margin: 0\">Question: How do NPs induce cellular stress responses, and why do the PACAs studied here have different effects?</h2><div class=\"entities\" style=\"line-height: 2.5; direction: ltr\">It has been proposed that <mark class=\"entity\" style=\"background: linear-gradient(90deg, #7b4397, #dc2430); padding: 0.45em 0.6em; margin: 0 0.25em; line-height: 1; border-radius: 0.35em;\">physical interactions between NPs and the plasma membrane<span style=\"font-size: 0.8em; font-weight: bold; line-height: 1; border-radius: 0.35em; text-transform: uppercase; vertical-align: middle; margin-left: 0.5rem\">ANSWER</span></mark> may signal membrane stress to the cell interior. These findings suggest that Bub1 supports SAC transduction by accelerating step(s) in MCC All rights reserved. Whether and how MAD1 domains outside MIM contribute to the checkpoint signaling warrants re-visit and careful investigation. We explore how varying the fraction of non-household contacts that are traced, and the time to diagnosis of index cases influence the effective reproduction number. Among the 22 states reporting positive accessions, swine inventory and marketings were selected as predictors of the total number of positive accessions. S3A, B) and also a striking G1 lengthening. To determine whether DGCR8 and/or DROSHA participate in the regulation of AGO-associated stem-loop containing mRNAs, we performed mRNA-seq and RT-qPCR on knockdown RNA samples. Given that both proteins are also 306 bound by the G-SRE, we evaluated whether they were similarly important for G-SRE-307 mediated escape. Whether cysteine forms a disulphide bond depends on whether it is in an oxidizing or reducing environment. We plot the effect of the severity of COVID-19 on life satisfaction by whether the individuals had chronic medical issues in Viruses or receptors are selected by random order Cartesian and compositional spaces, the system will finally reach equilibrium. Imported cases after February 13, 2020 are in agreement with model predictions.</div></span>"
            ],
            "text/plain": [
              "<IPython.core.display.HTML object>"
            ]
          },
          "metadata": {
            "tags": []
          }
        }
      ]
    },
    {
      "cell_type": "code",
      "metadata": {
        "id": "iB_hZghhBnHp",
        "outputId": "a67e1d98-d861-4545-f6c7-2b3d898852e1"
      },
      "source": [
        "answer(questions[6], index='fpq')"
      ],
      "execution_count": null,
      "outputs": [
        {
          "output_type": "display_data",
          "data": {
            "text/html": [
              "<span class=\"tex2jax_ignore\"><h2 style=\"margin: 0\">Question: How does the system transition from a single energy barrier for homogeneous boundaries to two barriers when a gradient in spontaneous curvature at the boundaries is imposed?</h2><div class=\"entities\" style=\"line-height: 2.5; direction: ltr\"><mark class=\"entity\" style=\"background: linear-gradient(90deg, #4568dc, #b06ab3); padding: 0.45em 0.6em; margin: 0 0.25em; line-height: 1; border-radius: 0.35em;\">Third, the model assumes that exposed individuals become infectious after a fixed incubation period,<span style=\"font-size: 0.8em; font-weight: bold; line-height: 1; border-radius: 0.35em; text-transform: uppercase; vertical-align: middle; margin-left: 0.5rem\">ANSWER</span></mark> thus not accounting for individual variability of disease progression for the young, elderly, or immunocompromised. While the reservoir has an important role for causing the emergence of outbreaks, the role of spillover transmission on the incidental epidemiological dynamics is rarely discussed. Humoral immunity to heterologous virus types 44 was not observed, though cross-reactive CD8 T cells can promote clearance 12, 13. Thus, divergent processing of two miRNAs from the same primary transcript underscores the selectivity of DICER processing, and suggests that these two hairpins likely have evolved distinct functions in post-transcriptional regulation. Combining the two approaches shows that the already low false positive rate from the highly constrained timing data can be reduced still further by adding the constraints introduced by the timing data inferred from the time stamped genetic sequence data.. While parameterized for a Zika-like disease, the methods and exact parameters described above are not meant to represent a particular epidemic context, but merely to serve as a guide when thinking through how to accurately estimate important endpoints of vaccine trials in different settings with limited resources and information. The association between diarrhea and R Ei did not appear to change when 287 the assumption about serial interval length was changed. Under parameter set!, run the branching epidemic model beginning with 500 distinct infections under a situation with no interventions. It was shown that TaxIt improves taxonomic assignment already in the count-based ranking, independently of count adjustments, by limiting candidates to strains of a single species early on. Our results from &gt;15,000 simulated 26 experiments showed that presence of variants can turn an assembly of one genome into tens to thousands of 27 contigs.</div></span>"
            ],
            "text/plain": [
              "<IPython.core.display.HTML object>"
            ]
          },
          "metadata": {
            "tags": []
          }
        }
      ]
    },
    {
      "cell_type": "code",
      "metadata": {
        "id": "cyX3fI_nBnHp",
        "outputId": "da73558e-1912-41d5-e0cd-0ff8295ce442"
      },
      "source": [
        "answer(questions[6], index='hnsw')"
      ],
      "execution_count": null,
      "outputs": [
        {
          "output_type": "display_data",
          "data": {
            "text/html": [
              "<span class=\"tex2jax_ignore\"><h2 style=\"margin: 0\">Question: How does the system transition from a single energy barrier for homogeneous boundaries to two barriers when a gradient in spontaneous curvature at the boundaries is imposed?</h2><div class=\"entities\" style=\"line-height: 2.5; direction: ltr\">To answer these questions, we next investigated how the <mark class=\"entity\" style=\"background: linear-gradient(90deg, #7b4397, #dc2430); padding: 0.45em 0.6em; margin: 0 0.25em; line-height: 1; border-radius: 0.35em;\">aligned and anti-aligned switches<span style=\"font-size: 0.8em; font-weight: bold; line-height: 1; border-radius: 0.35em; text-transform: uppercase; vertical-align: middle; margin-left: 0.5rem\">ANSWER</span></mark> are controlled by the spontaneous curvature gradient at the exterior boundary. The preadaptation version of the constraint hypothesis predicts higher ISD in pre-overlapping genes than in non-overlapping genes. We tested if there is a distinct dierence between the cosine score of ZODIAC's correct and incorrect molecular formula assignments, but did not nd such a dierence (Supplementary. Here the AUC is the chance that a replacement due to a randomly chosen transition (from the pool of actual mutants from the 8 studies) has a higher similarity score (for the given biochemical attribute) than a randomly chosen transversion. The input query of gene lists is matched to compounds, and the &quot;connectivity&quot; between the gene signature and compound is scored after various filtering steps against the available drug-induced All rights reserved. Thus to compare whether a global intervention is comparable to an individually targeted intervention and understand the magnitude of the difference, we need to explore a population with weak coupling. Phi6-WT had double the number of SNPs in high titer lysates in deep sequencing following double-plaque purification, demonstrating that constrained mutational neighborhood for the two host range mutant genotypes played a large role in the reduced evolvability on PA. The arms race between a single host and a single phage can terminate if a host strain gains spacers for which phages cannot generate mutations. Pre-pulse inhibition was measured as a decrease in the amplitude of startle response to a 100dB acoustic startle pulse, following each pre-pulse (4dB, 8dB and 16dB). Assuming that basic reproductive numbers are not equal, strains can 145 not co-exist and the strain with the higher basic reproductive number always invades. It is impossible to infer changes in R(s) on a finer time scale than that of the observed incidence curve or estimate more N (t) segments than the number of available coalescent events.</div></span>"
            ],
            "text/plain": [
              "<IPython.core.display.HTML object>"
            ]
          },
          "metadata": {
            "tags": []
          }
        }
      ]
    },
    {
      "cell_type": "code",
      "metadata": {
        "id": "EEjwRGQMBnHq",
        "outputId": "f3fd4148-c316-480a-f4c0-2987a35e1b9f"
      },
      "source": [
        "%%time\n",
        "answer(questions[7], index='fpq')"
      ],
      "execution_count": null,
      "outputs": [
        {
          "output_type": "display_data",
          "data": {
            "text/html": [
              "<span class=\"tex2jax_ignore\"><h2 style=\"margin: 0\">Question: When you suspect that you are being infected with MERS---CoV, what is the one thing you should not do?</h2><div class=\"entities\" style=\"line-height: 2.5; direction: ltr\">Table 3 distinguishs <mark class=\"entity\" style=\"background: linear-gradient(90deg, #4568dc, #b06ab3); padding: 0.45em 0.6em; margin: 0 0.25em; line-height: 1; border-radius: 0.35em;\">Hubei Province as a single category to reflect the corresponding relationships and differences.<span style=\"font-size: 0.8em; font-weight: bold; line-height: 1; border-radius: 0.35em; text-transform: uppercase; vertical-align: middle; margin-left: 0.5rem\">ANSWER</span></mark> We repeated the model learning process for 5-6 times until a low error rate was reached. Then, we assigned each Spanish airport to its corresponding province and ranked them according to their total number of operations with each country, see figure 2. Registration on PROSPERO and contact with study authors was not undertaken due to time constraints. In our cohort, an age of more than 60 years old indicates higher mortality in COVID-19 patients, which is consistent with previous studies on severe acute respiratory syndrome and Middle East respiratory syndrome (MERS) related pneumonia. The total number of infected individuals is estimated to be 49,510, indicating a further acceleration of the epidemic end (Table 1). Hence, the emergence of the insert has gone hand-in-hand with the 163 acquisition of a modified interaction interface. The reports generated through bottom-up surveillance are reviewed by a team of subject matter experts before being posted to the ProMED network. 127 We then considered the reduction in the probability that an imported case leads to 129 sustained transmission if surveillance is more intense. contacts occur according to the law of mass-action, 5. and the population is large enough to justify a deterministic analysis.</div></span>"
            ],
            "text/plain": [
              "<IPython.core.display.HTML object>"
            ]
          },
          "metadata": {
            "tags": []
          }
        },
        {
          "output_type": "stream",
          "text": [
            "CPU times: user 5.67 s, sys: 359 ms, total: 6.03 s\n",
            "Wall time: 1.97 s\n"
          ],
          "name": "stdout"
        }
      ]
    },
    {
      "cell_type": "code",
      "metadata": {
        "id": "uB7qEIjQBnHq",
        "outputId": "a12512e5-8cd4-4a3e-a7f1-d985ab7f6fe8"
      },
      "source": [
        "%%time\n",
        "answer(questions[7], index='hnsw')"
      ],
      "execution_count": null,
      "outputs": [
        {
          "output_type": "display_data",
          "data": {
            "text/html": [
              "<span class=\"tex2jax_ignore\"><h2 style=\"margin: 0\">Question: When you suspect that you are being infected with MERS---CoV, what is the one thing you should not do?</h2><div class=\"entities\" style=\"line-height: 2.5; direction: ltr\">MERS-CoV has maintained a stable genome since its emergence in 2012, unlike other coronaviruses that readily <mark class=\"entity\" style=\"background: linear-gradient(90deg, #7b4397, #dc2430); padding: 0.45em 0.6em; margin: 0 0.25em; line-height: 1; border-radius: 0.35em;\">evolve and can undergo notable recombination<span style=\"font-size: 0.8em; font-weight: bold; line-height: 1; border-radius: 0.35em; text-transform: uppercase; vertical-align: middle; margin-left: 0.5rem\">ANSWER</span></mark> events (Perlman, 2020). We used CRISPR-Cas9 for gene O-Ac, while BCoV HE-Fc recognizes primarily 7,9-O-Ac but also has a low affinity for 9-150 O-Ac (10, 11). Approximately one month since the notification to the WHO, there were 24,663 confirmed 2019-nCoV cases worldwide where 29 countries were affected. When the A 600 reached 0.9, cells were harvested and washed three times with the same medium preheated to 24°C. However, we 61 need to consume a lot of disposable plastic covers when we use IRTT. Interestingly, the epitope of CR3022 is also only 109 accessible when the RBD is in the &quot;up&quot; conformation (Fig. deficiency derived from case surveillance, as new countries continue to report cases of COVID-19. Figure 4 shows the proportions of individuals in the five states in the SAIRD model and the number of available hospital beds after implementing measures to lock down residential units. -E 2 : will become symptomatic in the future and is traceable in medical tracking. We hope to reveal that immuno-depletion carries a higher risk of death for COVID-2019 patients.</div></span>"
            ],
            "text/plain": [
              "<IPython.core.display.HTML object>"
            ]
          },
          "metadata": {
            "tags": []
          }
        },
        {
          "output_type": "stream",
          "text": [
            "CPU times: user 5.96 s, sys: 397 ms, total: 6.36 s\n",
            "Wall time: 2.09 s\n"
          ],
          "name": "stdout"
        }
      ]
    }
  ]
}